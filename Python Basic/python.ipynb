{
 "cells": [
  {
   "cell_type": "markdown",
   "id": "e25acc57",
   "metadata": {},
   "source": [
    "# Python"
   ]
  },
  {
   "cell_type": "code",
   "execution_count": 1,
   "id": "1c6ef2f9",
   "metadata": {
    "ExecuteTime": {
     "end_time": "2023-02-06T23:22:01.464324Z",
     "start_time": "2023-02-06T23:21:43.257593Z"
    }
   },
   "outputs": [
    {
     "name": "stdout",
     "output_type": "stream",
     "text": [
      "Name : amitabh\n",
      "your name is amitabh\n",
      "\n",
      "num : 5\n",
      "square of 5  is  25\n"
     ]
    }
   ],
   "source": [
    "name =input(\"Name : \")\n",
    "print(\"your name is\",name)\n",
    "\n",
    "num =input(\"\\nnum : \")\n",
    "print(\"square of\",num,\" is \", int(num)*int(num))"
   ]
  },
  {
   "cell_type": "markdown",
   "id": "5952d967",
   "metadata": {},
   "source": [
    "### Variables"
   ]
  },
  {
   "cell_type": "code",
   "execution_count": 2,
   "id": "87f9cb9e",
   "metadata": {
    "ExecuteTime": {
     "end_time": "2023-02-06T23:22:01.473520Z",
     "start_time": "2023-02-06T23:22:01.467071Z"
    }
   },
   "outputs": [
    {
     "name": "stdout",
     "output_type": "stream",
     "text": [
      "<class 'int'>\n",
      "<class 'float'>\n"
     ]
    }
   ],
   "source": [
    "a=7\n",
    "b=4.89\n",
    "_bat = \"Amit\"\n",
    "var_1 = 56\n",
    "print(type(a))\n",
    "print(type(b))"
   ]
  },
  {
   "cell_type": "markdown",
   "id": "a8007b9c",
   "metadata": {},
   "source": [
    "### Data Types\n",
    "<b>String</b><br>\n",
    "<b>Numeric :</b> int, float, complex<br>\n",
    "<b>Sequence:</b> list, touple, range<br>\n",
    "<b>Mapping:</b> dictionary<br>\n",
    "<b>Set:</b> set, frozen set<br>\n",
    "<b>Boolean</b><br>\n",
    "<b>Binary:</b> bytes, byte array, memory view<br>"
   ]
  },
  {
   "cell_type": "markdown",
   "id": "2906af78",
   "metadata": {},
   "source": [
    "### Operators\n",
    "<b>Arithmatic :</b> +, -, *, /, %, ** (exponential), // (floor division)<br>\n",
    "<b>Assignment :</b> =, +=, -=, *=, /=, %=, //=, **=, &=, |=, ^=, >>=, <<= <br>\n",
    "<b>Comparision :</b> ==, !=, >, <, >=, <=<br>\n",
    "<b>Logical :</b> and, or, not<br>\n",
    "<b>Identity :</b> is, is not<br>\n",
    "<b>Membership :</b> in, not in<br>\n",
    "<b>Bitwise :</b> &, |, ^(xor), ~(not), <<(Zero fill left shift), >>(Signed right shift)<br>"
   ]
  },
  {
   "cell_type": "markdown",
   "id": "e1ad5bf9",
   "metadata": {},
   "source": [
    "### Lists"
   ]
  },
  {
   "cell_type": "code",
   "execution_count": 3,
   "id": "25810ed7",
   "metadata": {
    "ExecuteTime": {
     "end_time": "2023-02-06T23:22:01.484542Z",
     "start_time": "2023-02-06T23:22:01.478622Z"
    }
   },
   "outputs": [
    {
     "name": "stdout",
     "output_type": "stream",
     "text": [
      "7\n",
      "['bmw', 'audi', 'merc', 'honda', 'toyota', 'ford', 'bmw']\n",
      "[1, 2, 3, 4, 5, 2, 3, 1]\n"
     ]
    }
   ],
   "source": [
    "mylist = [\"bmw\",\"audi\",\"merc\",\"honda\",\"toyota\",\"ford\"]\n",
    "mylist.append(\"bmw\") #dups\n",
    "print(len(mylist))\n",
    "print(mylist)\n",
    "\n",
    "anotherlist = [1,2,3,4,5,2,3,1]\n",
    "print(anotherlist)"
   ]
  },
  {
   "cell_type": "markdown",
   "id": "942d8541",
   "metadata": {
    "ExecuteTime": {
     "end_time": "2023-02-06T22:34:37.759182Z",
     "start_time": "2023-02-06T22:34:37.755029Z"
    }
   },
   "source": [
    "### Tuples"
   ]
  },
  {
   "cell_type": "code",
   "execution_count": 4,
   "id": "2cf25824",
   "metadata": {
    "ExecuteTime": {
     "end_time": "2023-02-06T23:22:01.498241Z",
     "start_time": "2023-02-06T23:22:01.493054Z"
    }
   },
   "outputs": [
    {
     "name": "stdout",
     "output_type": "stream",
     "text": [
      "7\n",
      "('bmw', 'audi', 'merc', 'honda', 'toyota', 'ford', 'bmw')\n"
     ]
    }
   ],
   "source": [
    "tup1 = (\"bmw\",\"audi\",\"merc\",\"honda\",\"toyota\",\"ford\",\"bmw\")\n",
    "print(len(tup1))\n",
    "print(tup1)\n",
    "#cannot add or remove values, \n",
    "#still contains dups \"bmw\"\n",
    "#ordered"
   ]
  },
  {
   "cell_type": "markdown",
   "id": "87ed4b95",
   "metadata": {},
   "source": [
    "### Sets"
   ]
  },
  {
   "cell_type": "code",
   "execution_count": 5,
   "id": "396222d3",
   "metadata": {
    "ExecuteTime": {
     "end_time": "2023-02-06T23:22:01.512128Z",
     "start_time": "2023-02-06T23:22:01.500940Z"
    }
   },
   "outputs": [
    {
     "name": "stdout",
     "output_type": "stream",
     "text": [
      "{'ford', 'audi', 'bmw', 'toyota', 'honda', 'merc'}\n",
      "6\n",
      "{'ford', 'audi', 'bmw', 'toyota', 'honda', 'suburu', 'merc'}\n",
      "7\n"
     ]
    }
   ],
   "source": [
    "set1 = {\"bmw\",\"audi\",\"merc\",\"honda\",\"toyota\",\"ford\",\"bmw\"}\n",
    "print(set1)\n",
    "print(len(set1))\n",
    "set1.add(\"suburu\")\n",
    "print(set1)\n",
    "print(len(set1))\n",
    "\n",
    "#no dups, removes second \"bmw\"\n",
    "# unordered. suburu inserted in middle"
   ]
  },
  {
   "cell_type": "markdown",
   "id": "e5ed4b08",
   "metadata": {},
   "source": [
    "### Dictionary"
   ]
  },
  {
   "cell_type": "code",
   "execution_count": 6,
   "id": "8df21087",
   "metadata": {
    "ExecuteTime": {
     "end_time": "2023-02-06T23:22:01.560439Z",
     "start_time": "2023-02-06T23:22:01.529623Z"
    }
   },
   "outputs": [
    {
     "name": "stdout",
     "output_type": "stream",
     "text": [
      "{'bmw': 'white', 'audi': 'white', 'toyota': 'red', 'ford': 'silver'}\n",
      "4\n",
      "dict_items([('bmw', 'white'), ('audi', 'white'), ('toyota', 'red'), ('ford', 'silver')])\n",
      "dict_keys(['bmw', 'audi', 'toyota', 'ford'])\n",
      "dict_values(['white', 'white', 'red', 'silver'])\n",
      "dict_keys(['bmw', 'audi', 'ford'])\n",
      "dict_keys(['bmw', 'audi', 'ford', 'suburu'])\n"
     ]
    }
   ],
   "source": [
    "dict1 = {\"bmw\":\"black\",\"audi\":\"white\",\"toyota\":\"red\",\"ford\":\"silver\",\"bmw\":\"white\"}\n",
    "print(dict1)\n",
    "print(len(dict1))\n",
    "\n",
    "print(dict1.items())\n",
    "print(dict1.keys())\n",
    "print(dict1.values())\n",
    "\n",
    "dict1.pop(\"toyota\")\n",
    "print(dict1.keys())\n",
    "\n",
    "dict1.update({\"suburu\":\"pink\"})\n",
    "print(dict1.keys())\n",
    "\n",
    "# ordered\n",
    "# no dups. \"bmw\":\"white\" removed"
   ]
  },
  {
   "cell_type": "markdown",
   "id": "1e3cb1d0",
   "metadata": {},
   "source": [
    "| List | Tuple | Set | Dictionary |\n",
    "| :--- | :--- | :--- | :--- |\n",
    "| List is a non-homogeneous data structure that stores the elements in single row and multiple rows and columns | Tuple is also a non-homogeneous data structure that stores single row and multiple rows and columns | Set data structure is also non-homogeneous data structure but stores in single row | Dictionary is also a non-homogeneous data structure which stores key value pairs |\n",
    "| [ ] | ( ) | { } | {k:v} |\n",
    "| allows duplicate | allows duplicate | not allow duplicate | doesn’t allow duplicate keys |\n",
    "| list() | tuple() | set() | dict() |\n",
    "| Example: [1, 2, 3, 4, 5] | Example: (1, 2, 3, 4, 5) | Example: {1, 2, 3, 4, 5} | Example: {1: “a”, 2: “b”, 3: “c”} |\n",
    "| ordered | ordered | unordered | ordered  |\n",
    "| <b>mutable</b> can make any changes | <b>immutable</b> can not make any changes | <b>mutable</b> make any changes But not duplicated | <b>mutable</b> But Keys are not duplicated |"
   ]
  },
  {
   "cell_type": "markdown",
   "id": "97de5273",
   "metadata": {},
   "source": [
    "### Conditions"
   ]
  },
  {
   "cell_type": "code",
   "execution_count": 7,
   "id": "6ca3bea3",
   "metadata": {
    "ExecuteTime": {
     "end_time": "2023-02-06T23:22:01.586217Z",
     "start_time": "2023-02-06T23:22:01.571342Z"
    }
   },
   "outputs": [
    {
     "name": "stdout",
     "output_type": "stream",
     "text": [
      "b is greater than a\n"
     ]
    }
   ],
   "source": [
    "a = 33\n",
    "b = 200\n",
    "if b > a:\n",
    "    print(\"b is greater than a\")"
   ]
  },
  {
   "cell_type": "code",
   "execution_count": 8,
   "id": "20f778c4",
   "metadata": {
    "ExecuteTime": {
     "end_time": "2023-02-06T23:22:01.611327Z",
     "start_time": "2023-02-06T23:22:01.599585Z"
    }
   },
   "outputs": [
    {
     "name": "stdout",
     "output_type": "stream",
     "text": [
      "a and b are equal\n"
     ]
    }
   ],
   "source": [
    "a = 33\n",
    "b = 33\n",
    "if b > a:\n",
    "    print(\"b is greater than a\")\n",
    "elif a == b:\n",
    "    print(\"a and b are equal\")"
   ]
  },
  {
   "cell_type": "code",
   "execution_count": 9,
   "id": "d12da368",
   "metadata": {
    "ExecuteTime": {
     "end_time": "2023-02-06T23:22:01.631201Z",
     "start_time": "2023-02-06T23:22:01.622113Z"
    }
   },
   "outputs": [
    {
     "name": "stdout",
     "output_type": "stream",
     "text": [
      "a is greater than b\n"
     ]
    }
   ],
   "source": [
    "a = 200\n",
    "b = 33\n",
    "if b > a:\n",
    "    print(\"b is greater than a\")\n",
    "elif a == b:\n",
    "    print(\"a and b are equal\")\n",
    "else:\n",
    "    print(\"a is greater than b\")"
   ]
  },
  {
   "cell_type": "code",
   "execution_count": 10,
   "id": "743e2582",
   "metadata": {
    "ExecuteTime": {
     "end_time": "2023-02-06T23:22:01.645560Z",
     "start_time": "2023-02-06T23:22:01.635732Z"
    }
   },
   "outputs": [
    {
     "name": "stdout",
     "output_type": "stream",
     "text": [
      "Both conditions are True\n"
     ]
    }
   ],
   "source": [
    "a = 200\n",
    "b = 33\n",
    "c = 500\n",
    "if a > b and c > a:\n",
    "    print(\"Both conditions are True\")"
   ]
  },
  {
   "cell_type": "code",
   "execution_count": 11,
   "id": "cadf0868",
   "metadata": {
    "ExecuteTime": {
     "end_time": "2023-02-06T23:22:01.663061Z",
     "start_time": "2023-02-06T23:22:01.651442Z"
    }
   },
   "outputs": [
    {
     "name": "stdout",
     "output_type": "stream",
     "text": [
      "At least one of the conditions is True\n"
     ]
    }
   ],
   "source": [
    "a = 200\n",
    "b = 33\n",
    "c = 500\n",
    "if a > b or a > c:\n",
    "    print(\"At least one of the conditions is True\")"
   ]
  },
  {
   "cell_type": "code",
   "execution_count": 12,
   "id": "3604725c",
   "metadata": {
    "ExecuteTime": {
     "end_time": "2023-02-06T23:22:01.677137Z",
     "start_time": "2023-02-06T23:22:01.671032Z"
    }
   },
   "outputs": [
    {
     "name": "stdout",
     "output_type": "stream",
     "text": [
      "a is NOT greater than b\n"
     ]
    }
   ],
   "source": [
    "a = 33\n",
    "b = 200\n",
    "if not a > b:\n",
    "    print(\"a is NOT greater than b\")"
   ]
  },
  {
   "cell_type": "code",
   "execution_count": 13,
   "id": "8e241028",
   "metadata": {
    "ExecuteTime": {
     "end_time": "2023-02-06T23:22:01.701284Z",
     "start_time": "2023-02-06T23:22:01.693878Z"
    }
   },
   "outputs": [
    {
     "name": "stdout",
     "output_type": "stream",
     "text": [
      "Above ten,\n",
      "and also above 20!\n"
     ]
    }
   ],
   "source": [
    "x = 41\n",
    "\n",
    "if x > 10:\n",
    "    print(\"Above ten,\")\n",
    "    if x > 20:\n",
    "        print(\"and also above 20!\")\n",
    "    else:\n",
    "        print(\"but not above 20.\")"
   ]
  },
  {
   "cell_type": "code",
   "execution_count": 14,
   "id": "aaa854ec",
   "metadata": {
    "ExecuteTime": {
     "end_time": "2023-02-06T23:22:01.712303Z",
     "start_time": "2023-02-06T23:22:01.705323Z"
    }
   },
   "outputs": [],
   "source": [
    "a = 33\n",
    "b = 200\n",
    "\n",
    "if b > a:\n",
    "    pass"
   ]
  },
  {
   "cell_type": "markdown",
   "id": "5728794f",
   "metadata": {},
   "source": [
    "### Loops"
   ]
  },
  {
   "cell_type": "code",
   "execution_count": 15,
   "id": "ae33fcb2",
   "metadata": {
    "ExecuteTime": {
     "end_time": "2023-02-06T23:22:01.725781Z",
     "start_time": "2023-02-06T23:22:01.718083Z"
    }
   },
   "outputs": [
    {
     "name": "stdout",
     "output_type": "stream",
     "text": [
      "Hello\n",
      "Hello\n",
      "Hello\n"
     ]
    }
   ],
   "source": [
    "# while loop\n",
    "count = 0\n",
    "while (count < 3):\n",
    "    count = count + 1\n",
    "    print(\"Hello\")"
   ]
  },
  {
   "cell_type": "code",
   "execution_count": 16,
   "id": "c84beee0",
   "metadata": {
    "ExecuteTime": {
     "end_time": "2023-02-06T23:22:01.743303Z",
     "start_time": "2023-02-06T23:22:01.731254Z"
    }
   },
   "outputs": [
    {
     "name": "stdout",
     "output_type": "stream",
     "text": [
      "Hello\n",
      "Hello\n",
      "Hello\n",
      "In Else Block\n"
     ]
    }
   ],
   "source": [
    "# combining else with while\n",
    "count = 0\n",
    "while (count < 3):\n",
    "    count = count + 1\n",
    "    print(\"Hello\")\n",
    "else:\n",
    "    print(\"In Else Block\")"
   ]
  },
  {
   "cell_type": "code",
   "execution_count": 17,
   "id": "4d0da19c",
   "metadata": {
    "ExecuteTime": {
     "end_time": "2023-02-06T23:23:03.963217Z",
     "start_time": "2023-02-06T23:23:03.957602Z"
    }
   },
   "outputs": [
    {
     "name": "stdout",
     "output_type": "stream",
     "text": [
      "exit\n"
     ]
    }
   ],
   "source": [
    "# Single statement while block\n",
    "count = 2\n",
    "while (count == 0):\n",
    "    print(\"Hello\")\n",
    "else:\n",
    "    print(\"exit\")"
   ]
  },
  {
   "cell_type": "code",
   "execution_count": 18,
   "id": "e309c0f4",
   "metadata": {
    "ExecuteTime": {
     "end_time": "2023-02-06T23:23:21.901335Z",
     "start_time": "2023-02-06T23:23:21.897301Z"
    }
   },
   "outputs": [
    {
     "name": "stdout",
     "output_type": "stream",
     "text": [
      "0\n",
      "1\n",
      "2\n",
      "3\n"
     ]
    }
   ],
   "source": [
    "# Iterating over range 0 to n-1\n",
    " \n",
    "n = 4\n",
    "for i in range(0, n):\n",
    "    print(i)"
   ]
  },
  {
   "cell_type": "code",
   "execution_count": 32,
   "id": "74a6dee3",
   "metadata": {
    "ExecuteTime": {
     "end_time": "2023-02-06T23:33:07.106790Z",
     "start_time": "2023-02-06T23:33:07.095604Z"
    }
   },
   "outputs": [
    {
     "name": "stdout",
     "output_type": "stream",
     "text": [
      "List Iteration\n",
      "geeks\n",
      "for\n",
      "geeks\n",
      "\n",
      "Tuple Iteration\n",
      "geeks\n",
      "for\n",
      "geeks\n",
      "\n",
      "String Iteration\n",
      "G\n",
      "e\n",
      "e\n",
      "k\n",
      "s\n",
      "\n",
      "Dictionary Iteration\n",
      "xyz  123\n",
      "abc  345\n",
      "\n",
      "Set Iteration\n",
      "1\n",
      "2\n",
      "3\n"
     ]
    }
   ],
   "source": [
    "# Iterating over a list\n",
    "print(\"List Iteration\")\n",
    "\n",
    "l = [\"geeks\", \"for\", \"geeks\"]\n",
    "for i in l:\n",
    "    print(i)\n",
    "    \n",
    " # Iterating over a tuple (immutable)\n",
    "print(\"\\nTuple Iteration\")\n",
    "t = (\"geeks\", \"for\", \"geeks\")\n",
    "for i in t:\n",
    "    print(i)\n",
    " \n",
    " # Iterating over a String\n",
    "print(\"\\nString Iteration\")\n",
    "s = \"Geeks\"\n",
    "for i in s:\n",
    "    print(i)\n",
    " \n",
    " # Iterating over dictionary\n",
    "print(\"\\nDictionary Iteration\")\n",
    "d = dict()\n",
    "d['xyz'] = 123\n",
    "d['abc'] = 345\n",
    "for i in d:\n",
    "    print(\"%s  %d\" % (i, d[i]))\n",
    " \n",
    " # Iterating over a set\n",
    "print(\"\\nSet Iteration\")\n",
    "set1 = {1, 2, 3}\n",
    "for i in set1:\n",
    "    print(i),"
   ]
  },
  {
   "cell_type": "code",
   "execution_count": 20,
   "id": "b32f4549",
   "metadata": {
    "ExecuteTime": {
     "end_time": "2023-02-06T23:27:13.789495Z",
     "start_time": "2023-02-06T23:27:13.783595Z"
    }
   },
   "outputs": [
    {
     "name": "stdout",
     "output_type": "stream",
     "text": [
      "geeks\n",
      "for\n",
      "geeks\n",
      "Inside Else Block\n"
     ]
    }
   ],
   "source": [
    "# combining else with for\n",
    " \n",
    "list = [\"geeks\", \"for\", \"geeks\"]\n",
    "for index in range(len(list)):\n",
    "    print(list[index])\n",
    "else:\n",
    "    print(\"Inside Else Block\")"
   ]
  },
  {
   "cell_type": "code",
   "execution_count": 23,
   "id": "2021669b",
   "metadata": {
    "ExecuteTime": {
     "end_time": "2023-02-06T23:28:28.851053Z",
     "start_time": "2023-02-06T23:28:28.844885Z"
    }
   },
   "outputs": [
    {
     "name": "stdout",
     "output_type": "stream",
     "text": [
      "1 \n",
      "2 2 \n",
      "3 3 3 \n",
      "4 4 4 4 \n"
     ]
    }
   ],
   "source": [
    "# nested for loops in Python\n",
    "for i in range(1, 5):\n",
    "    for j in range(i):\n",
    "        print(i, end=' ')\n",
    "    print()"
   ]
  },
  {
   "cell_type": "code",
   "execution_count": 24,
   "id": "e867a0b8",
   "metadata": {
    "ExecuteTime": {
     "end_time": "2023-02-06T23:29:32.421411Z",
     "start_time": "2023-02-06T23:29:32.416352Z"
    }
   },
   "outputs": [
    {
     "name": "stdout",
     "output_type": "stream",
     "text": [
      "g\n",
      "k\n",
      "f\n",
      "o\n",
      "r\n",
      "g\n",
      "k\n"
     ]
    }
   ],
   "source": [
    "# Prints all letters except 'e' and 's'\n",
    "for letter in 'geeksforgeeks':\n",
    "    if letter == 'e' or letter == 's':\n",
    "        continue\n",
    "    print(letter)"
   ]
  },
  {
   "cell_type": "code",
   "execution_count": 29,
   "id": "bb66e1ee",
   "metadata": {
    "ExecuteTime": {
     "end_time": "2023-02-06T23:30:51.907070Z",
     "start_time": "2023-02-06T23:30:51.895018Z"
    }
   },
   "outputs": [
    {
     "name": "stdout",
     "output_type": "stream",
     "text": [
      "e\n"
     ]
    }
   ],
   "source": [
    "for letter in 'geeksforgeeks':\n",
    "    # break the loop as soon it sees 'e' or 's'\n",
    "    if letter == 'e' or letter == 's':\n",
    "        break\n",
    "print(letter)"
   ]
  },
  {
   "cell_type": "code",
   "execution_count": 30,
   "id": "98204825",
   "metadata": {
    "ExecuteTime": {
     "end_time": "2023-02-06T23:31:36.300041Z",
     "start_time": "2023-02-06T23:31:36.293605Z"
    }
   },
   "outputs": [
    {
     "name": "stdout",
     "output_type": "stream",
     "text": [
      "Last Letter : s\n"
     ]
    }
   ],
   "source": [
    "# An empty loop\n",
    "for letter in 'geeksforgeeks':\n",
    "    pass\n",
    "print('Last Letter :', letter)"
   ]
  },
  {
   "cell_type": "code",
   "execution_count": 31,
   "id": "01f8ecd5",
   "metadata": {
    "ExecuteTime": {
     "end_time": "2023-02-06T23:32:00.843095Z",
     "start_time": "2023-02-06T23:32:00.838767Z"
    }
   },
   "outputs": [
    {
     "name": "stdout",
     "output_type": "stream",
     "text": [
      "apple\n",
      "orange\n",
      "kiwi\n"
     ]
    }
   ],
   "source": [
    "# A simple for loop example\n",
    "fruits = [\"apple\", \"orange\", \"kiwi\"]\n",
    "for fruit in fruits:\n",
    "    print(fruit)"
   ]
  },
  {
   "cell_type": "markdown",
   "id": "16dc3059",
   "metadata": {},
   "source": [
    "### Functions"
   ]
  },
  {
   "cell_type": "code",
   "execution_count": 33,
   "id": "4fe8c3cb",
   "metadata": {
    "ExecuteTime": {
     "end_time": "2023-02-06T23:33:42.542747Z",
     "start_time": "2023-02-06T23:33:42.538706Z"
    }
   },
   "outputs": [
    {
     "name": "stdout",
     "output_type": "stream",
     "text": [
      "Hello from a function\n"
     ]
    }
   ],
   "source": [
    "def my_function():\n",
    "  print(\"Hello from a function\")\n",
    "\n",
    "my_function()"
   ]
  },
  {
   "cell_type": "code",
   "execution_count": 34,
   "id": "3620fbf0",
   "metadata": {
    "ExecuteTime": {
     "end_time": "2023-02-06T23:33:59.331907Z",
     "start_time": "2023-02-06T23:33:59.325276Z"
    }
   },
   "outputs": [
    {
     "name": "stdout",
     "output_type": "stream",
     "text": [
      "Emil Refsnes\n",
      "Tobias Refsnes\n",
      "Linus Refsnes\n"
     ]
    }
   ],
   "source": [
    "def my_function(fname):\n",
    "    print(fname + \" Refsnes\")\n",
    "\n",
    "my_function(\"Emil\")\n",
    "my_function(\"Tobias\")\n",
    "my_function(\"Linus\")"
   ]
  },
  {
   "cell_type": "code",
   "execution_count": 35,
   "id": "a5e7d10a",
   "metadata": {
    "ExecuteTime": {
     "end_time": "2023-02-06T23:34:20.924682Z",
     "start_time": "2023-02-06T23:34:20.920627Z"
    }
   },
   "outputs": [
    {
     "name": "stdout",
     "output_type": "stream",
     "text": [
      "Emil Refsnes\n"
     ]
    }
   ],
   "source": [
    "def my_function(fname, lname):\n",
    "    print(fname + \" \" + lname)\n",
    "\n",
    "my_function(\"Emil\", \"Refsnes\")"
   ]
  },
  {
   "cell_type": "code",
   "execution_count": 36,
   "id": "dcfa1fec",
   "metadata": {
    "ExecuteTime": {
     "end_time": "2023-02-06T23:35:00.814828Z",
     "start_time": "2023-02-06T23:35:00.809151Z"
    }
   },
   "outputs": [
    {
     "name": "stdout",
     "output_type": "stream",
     "text": [
      "The youngest child is Linus\n"
     ]
    }
   ],
   "source": [
    "#If the number of arguments is unknown, add a * before the parameter name:\n",
    "\n",
    "def my_function(*kids):\n",
    "    print(\"The youngest child is \" + kids[2])\n",
    "\n",
    "my_function(\"Emil\", \"Tobias\", \"Linus\")"
   ]
  },
  {
   "cell_type": "code",
   "execution_count": 38,
   "id": "4ba9a0e3",
   "metadata": {
    "ExecuteTime": {
     "end_time": "2023-02-06T23:37:32.545077Z",
     "start_time": "2023-02-06T23:37:32.540812Z"
    }
   },
   "outputs": [
    {
     "name": "stdout",
     "output_type": "stream",
     "text": [
      "His last name is Refsnes\n"
     ]
    }
   ],
   "source": [
    "# Arbitrary Keyword Arguments, **kwargs\n",
    "#If you do not know how many keyword arguments that will be passed into your function, add two asterisk: ** before the parameter name in the function definition.\n",
    "#This way the function will receive a dictionary of arguments, and can access the items accordingly:\n",
    "\n",
    "def my_function(**kid):\n",
    "    print(\"His last name is \" + kid[\"lname\"])\n",
    "\n",
    "my_function(fname = \"Tobias\", lname = \"Refsnes\")"
   ]
  },
  {
   "cell_type": "code",
   "execution_count": 39,
   "id": "856ebe8e",
   "metadata": {
    "ExecuteTime": {
     "end_time": "2023-02-06T23:37:36.176257Z",
     "start_time": "2023-02-06T23:37:36.171731Z"
    },
    "run_control": {
     "marked": false
    }
   },
   "outputs": [
    {
     "name": "stdout",
     "output_type": "stream",
     "text": [
      "The youngest child is Linus\n"
     ]
    }
   ],
   "source": [
    "# Keyword Arguments: You can also send arguments with the key = value syntax.\n",
    "# This way the order of the arguments does not matter.\n",
    "\n",
    "def my_function(child3, child2, child1):\n",
    "    print(\"The youngest child is \" + child3)\n",
    "\n",
    "my_function(child1 = \"Emil\", child2 = \"Tobias\", child3 = \"Linus\")"
   ]
  },
  {
   "cell_type": "code",
   "execution_count": 40,
   "id": "1d460558",
   "metadata": {
    "ExecuteTime": {
     "end_time": "2023-02-06T23:38:15.179414Z",
     "start_time": "2023-02-06T23:38:15.173341Z"
    }
   },
   "outputs": [
    {
     "name": "stdout",
     "output_type": "stream",
     "text": [
      "I am from India\n",
      "I am from Norway\n",
      "I am from Brazil\n"
     ]
    }
   ],
   "source": [
    "# Default Parameter Value\n",
    "# If we call the function without argument, it uses the default value:\n",
    "\n",
    "def my_function(country = \"Norway\"):\n",
    "    print(\"I am from \" + country)\n",
    "\n",
    "my_function(\"India\")\n",
    "my_function()\n",
    "my_function(\"Brazil\")"
   ]
  },
  {
   "cell_type": "code",
   "execution_count": 41,
   "id": "76daec7d",
   "metadata": {
    "ExecuteTime": {
     "end_time": "2023-02-06T23:38:58.273103Z",
     "start_time": "2023-02-06T23:38:58.267913Z"
    }
   },
   "outputs": [
    {
     "name": "stdout",
     "output_type": "stream",
     "text": [
      "apple\n",
      "banana\n",
      "cherry\n"
     ]
    }
   ],
   "source": [
    "#Passing a List as an Argument\n",
    "\n",
    "def my_function(food):\n",
    "    for x in food:\n",
    "        print(x)\n",
    "\n",
    "fruits = [\"apple\", \"banana\", \"cherry\"]\n",
    "my_function(fruits)"
   ]
  },
  {
   "cell_type": "code",
   "execution_count": 42,
   "id": "5f0e7393",
   "metadata": {
    "ExecuteTime": {
     "end_time": "2023-02-06T23:39:29.304480Z",
     "start_time": "2023-02-06T23:39:29.299571Z"
    }
   },
   "outputs": [
    {
     "name": "stdout",
     "output_type": "stream",
     "text": [
      "15\n",
      "25\n",
      "45\n"
     ]
    }
   ],
   "source": [
    "#Return Values: To let a function return a value, use the return statement:\n",
    "\n",
    "def my_function(x):\n",
    "    return 5 * x\n",
    "\n",
    "print(my_function(3))\n",
    "print(my_function(5))\n",
    "print(my_function(9))"
   ]
  },
  {
   "cell_type": "code",
   "execution_count": 43,
   "id": "2b83eace",
   "metadata": {
    "ExecuteTime": {
     "end_time": "2023-02-06T23:40:34.077148Z",
     "start_time": "2023-02-06T23:40:34.064304Z"
    }
   },
   "outputs": [
    {
     "name": "stdout",
     "output_type": "stream",
     "text": [
      "\n",
      "\n",
      "Recursion Example Results\n",
      "1\n",
      "3\n",
      "6\n",
      "10\n",
      "15\n",
      "21\n"
     ]
    },
    {
     "data": {
      "text/plain": [
       "21"
      ]
     },
     "execution_count": 43,
     "metadata": {},
     "output_type": "execute_result"
    }
   ],
   "source": [
    "#Recursion \n",
    "\n",
    "def tri_recursion(k):\n",
    "    if(k > 0):\n",
    "        result = k + tri_recursion(k - 1)\n",
    "        print(result)\n",
    "    else:\n",
    "        result = 0\n",
    "    return result\n",
    "\n",
    "print(\"\\n\\nRecursion Example Results\")\n",
    "tri_recursion(6)"
   ]
  },
  {
   "cell_type": "markdown",
   "id": "c94713c9",
   "metadata": {},
   "source": [
    "### Lamda Fn"
   ]
  },
  {
   "cell_type": "code",
   "execution_count": 45,
   "id": "b921d92e",
   "metadata": {
    "ExecuteTime": {
     "end_time": "2023-02-06T23:43:12.206873Z",
     "start_time": "2023-02-06T23:43:12.198893Z"
    }
   },
   "outputs": [
    {
     "name": "stdout",
     "output_type": "stream",
     "text": [
      "50\n"
     ]
    }
   ],
   "source": [
    "a = lambda x: x*10\n",
    "print(a(5))"
   ]
  },
  {
   "cell_type": "markdown",
   "id": "b925c863",
   "metadata": {},
   "source": [
    "### Iterator"
   ]
  },
  {
   "cell_type": "code",
   "execution_count": 50,
   "id": "78f2d398",
   "metadata": {
    "ExecuteTime": {
     "end_time": "2023-02-06T23:49:59.664747Z",
     "start_time": "2023-02-06T23:49:59.658384Z"
    }
   },
   "outputs": [
    {
     "name": "stdout",
     "output_type": "stream",
     "text": [
      "bmw\n",
      "\n",
      "\n",
      "b\n",
      "a\n",
      "\n",
      "\n",
      "apple\n",
      "banana\n",
      "cherry\n"
     ]
    }
   ],
   "source": [
    "tup1 = (\"bmw\",\"audi\",\"merc\")\n",
    "mytup = iter(tup1)\n",
    "print(next(mytup))\n",
    "print(\"\\n\")\n",
    "\n",
    "mystr = \"banana\"\n",
    "myit = iter(mystr)\n",
    "print(next(myit))\n",
    "print(next(myit))\n",
    "print(\"\\n\")\n",
    "\n",
    "mytuple = (\"apple\", \"banana\", \"cherry\")\n",
    "for x in mytuple:\n",
    "    print(x)"
   ]
  },
  {
   "cell_type": "markdown",
   "id": "12837643",
   "metadata": {},
   "source": [
    "### Classes"
   ]
  },
  {
   "cell_type": "code",
   "execution_count": 51,
   "id": "b0c227f8",
   "metadata": {
    "ExecuteTime": {
     "end_time": "2023-02-06T23:51:36.926969Z",
     "start_time": "2023-02-06T23:51:36.921273Z"
    }
   },
   "outputs": [
    {
     "name": "stdout",
     "output_type": "stream",
     "text": [
      "5\n"
     ]
    }
   ],
   "source": [
    "class MyClass:\n",
    "    x = 5\n",
    "\n",
    "p1 = MyClass()\n",
    "print(p1.x)    "
   ]
  },
  {
   "cell_type": "code",
   "execution_count": 52,
   "id": "01978a8e",
   "metadata": {
    "ExecuteTime": {
     "end_time": "2023-02-06T23:52:00.620300Z",
     "start_time": "2023-02-06T23:52:00.615272Z"
    }
   },
   "outputs": [
    {
     "name": "stdout",
     "output_type": "stream",
     "text": [
      "John\n",
      "36\n"
     ]
    }
   ],
   "source": [
    "class Person:\n",
    "    def __init__(self, name, age):\n",
    "        self.name = name\n",
    "        self.age = age\n",
    "\n",
    "p1 = Person(\"John\", 36)\n",
    "\n",
    "print(p1.name)\n",
    "print(p1.age)"
   ]
  },
  {
   "cell_type": "code",
   "execution_count": 53,
   "id": "f090d660",
   "metadata": {
    "ExecuteTime": {
     "end_time": "2023-02-06T23:53:26.345790Z",
     "start_time": "2023-02-06T23:53:26.338901Z"
    }
   },
   "outputs": [
    {
     "name": "stdout",
     "output_type": "stream",
     "text": [
      "Hello my name is John\n"
     ]
    }
   ],
   "source": [
    "class Person:\n",
    "    def __init__(self, name, age):\n",
    "        self.name = name\n",
    "        self.age = age\n",
    "\n",
    "    def myfunc(self):\n",
    "        print(\"Hello my name is \" + self.name)\n",
    "\n",
    "p1 = Person(\"John\", 36)\n",
    "p1.myfunc()"
   ]
  },
  {
   "cell_type": "markdown",
   "id": "0ea4d652",
   "metadata": {},
   "source": [
    "### Inheritence"
   ]
  },
  {
   "cell_type": "code",
   "execution_count": 54,
   "id": "97afeaee",
   "metadata": {
    "ExecuteTime": {
     "end_time": "2023-02-06T23:55:23.255350Z",
     "start_time": "2023-02-06T23:55:23.244613Z"
    }
   },
   "outputs": [
    {
     "name": "stdout",
     "output_type": "stream",
     "text": [
      "John Doe\n"
     ]
    }
   ],
   "source": [
    "class Person:\n",
    "    def __init__(self, fname, lname):\n",
    "        self.firstname = fname\n",
    "        self.lastname = lname\n",
    "\n",
    "    def printname(self):\n",
    "        print(self.firstname, self.lastname)\n",
    "\n",
    "#Use the Person class to create an object, and then execute the printname method:\n",
    "\n",
    "x = Person(\"John\", \"Doe\")\n",
    "x.printname()"
   ]
  },
  {
   "cell_type": "code",
   "execution_count": 55,
   "id": "1ef70100",
   "metadata": {
    "ExecuteTime": {
     "end_time": "2023-02-06T23:56:01.027768Z",
     "start_time": "2023-02-06T23:56:01.022930Z"
    }
   },
   "outputs": [
    {
     "name": "stdout",
     "output_type": "stream",
     "text": [
      "Mike Olsen\n"
     ]
    }
   ],
   "source": [
    "class Student(Person):\n",
    "    pass\n",
    "\n",
    "x = Student(\"Mike\", \"Olsen\")\n",
    "x.printname()"
   ]
  },
  {
   "cell_type": "code",
   "execution_count": 58,
   "id": "30f6f6d6",
   "metadata": {
    "ExecuteTime": {
     "end_time": "2023-02-06T23:59:01.604425Z",
     "start_time": "2023-02-06T23:59:01.596985Z"
    }
   },
   "outputs": [
    {
     "name": "stdout",
     "output_type": "stream",
     "text": [
      "Mike Olsen\n",
      "2019\n"
     ]
    }
   ],
   "source": [
    "class Student(Person):\n",
    "    def __init__(self, fname, lname):\n",
    "        super().__init__(fname, lname)\n",
    "        self.graduationyear = 2019\n",
    "\n",
    "x = Student(\"Mike\", \"Olsen\")\n",
    "x.printname()\n",
    "print(x.graduationyear)"
   ]
  },
  {
   "cell_type": "code",
   "execution_count": 60,
   "id": "44f4cecd",
   "metadata": {
    "ExecuteTime": {
     "end_time": "2023-02-07T00:00:18.422179Z",
     "start_time": "2023-02-07T00:00:18.416672Z"
    }
   },
   "outputs": [
    {
     "name": "stdout",
     "output_type": "stream",
     "text": [
      "Mike Olsen\n",
      "2019\n"
     ]
    }
   ],
   "source": [
    "class Student(Person):\n",
    "    def __init__(self, fname, lname, year):\n",
    "        super().__init__(fname, lname)\n",
    "        self.graduationyear = year\n",
    "\n",
    "x = Student(\"Mike\", \"Olsen\", 2019)\n",
    "x.printname()\n",
    "print(x.graduationyear)"
   ]
  },
  {
   "cell_type": "code",
   "execution_count": 59,
   "id": "b7a4b604",
   "metadata": {
    "ExecuteTime": {
     "end_time": "2023-02-06T23:59:07.475206Z",
     "start_time": "2023-02-06T23:59:07.464526Z"
    }
   },
   "outputs": [],
   "source": [
    "class Student1(Person):\n",
    "    def __init__(self, fname, lname):\n",
    "        Person.__init__(self, fname, lname)\n",
    "        \n",
    "class Student2(Person):\n",
    "    def __init__(self, fname, lname):\n",
    "        super().__init__(fname, lname)"
   ]
  },
  {
   "cell_type": "code",
   "execution_count": 61,
   "id": "e5e9530b",
   "metadata": {
    "ExecuteTime": {
     "end_time": "2023-02-07T00:01:43.634345Z",
     "start_time": "2023-02-07T00:01:43.626291Z"
    }
   },
   "outputs": [
    {
     "name": "stdout",
     "output_type": "stream",
     "text": [
      "Welcome Mike Olsen to the class of 2019\n"
     ]
    }
   ],
   "source": [
    "# adding method called welcome to the Student class:\n",
    "\n",
    "class Student(Person):\n",
    "    def __init__(self, fname, lname, year):\n",
    "        super().__init__(fname, lname)\n",
    "        self.graduationyear = year\n",
    "\n",
    "    def welcome(self):\n",
    "        print(\"Welcome\", self.firstname, self.lastname, \"to the class of\", self.graduationyear)\n",
    "        \n",
    "x = Student(\"Mike\", \"Olsen\", 2019)\n",
    "x.welcome()"
   ]
  },
  {
   "cell_type": "code",
   "execution_count": null,
   "id": "8e902213",
   "metadata": {},
   "outputs": [],
   "source": []
  }
 ],
 "metadata": {
  "kernelspec": {
   "display_name": "Python 3 (ipykernel)",
   "language": "python",
   "name": "python3"
  },
  "language_info": {
   "codemirror_mode": {
    "name": "ipython",
    "version": 3
   },
   "file_extension": ".py",
   "mimetype": "text/x-python",
   "name": "python",
   "nbconvert_exporter": "python",
   "pygments_lexer": "ipython3",
   "version": "3.9.13"
  },
  "varInspector": {
   "cols": {
    "lenName": 16,
    "lenType": 16,
    "lenVar": 40
   },
   "kernels_config": {
    "python": {
     "delete_cmd_postfix": "",
     "delete_cmd_prefix": "del ",
     "library": "var_list.py",
     "varRefreshCmd": "print(var_dic_list())"
    },
    "r": {
     "delete_cmd_postfix": ") ",
     "delete_cmd_prefix": "rm(",
     "library": "var_list.r",
     "varRefreshCmd": "cat(var_dic_list()) "
    }
   },
   "types_to_exclude": [
    "module",
    "function",
    "builtin_function_or_method",
    "instance",
    "_Feature"
   ],
   "window_display": false
  }
 },
 "nbformat": 4,
 "nbformat_minor": 5
}
