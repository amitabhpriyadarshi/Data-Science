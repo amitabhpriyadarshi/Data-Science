{
 "cells": [
  {
   "cell_type": "markdown",
   "id": "3c8ea135",
   "metadata": {},
   "source": [
    "# Data Science\n",
    "\n",
    "### Need for Data Science\n",
    "<b>Evolution of technology</b> generated alot of data. (ie. from flopy disk to cloud storage). <br>\n",
    "<b>IOT</b> generates 2.5 quintillion bytes of data in a day. 500 zetabyte data in a year in 2019.<br>\n",
    "<b>Social Media</b> data generation every minute.\n",
    "    <ul>\n",
    "    <li>instagram : 1.7 million image </li>\n",
    "    <li>tweeter: 400k tweets</li>\n",
    "    <li>Gmails: 204 million emails</li>\n",
    "    <li>FaceBook: 200k photos , 4.2 million likes</li>\n",
    "    <li>Youtube: 300 hours of video</li></ul>\n",
    "<b>Other Factor:</b> Retail, Insurance, Transpotation, Government, Education, HealthCare, Media and entertainment, Banking and finance.\n",
    "\n",
    "### Walmart Use Case\n",
    "Walmart biggest retailer have 20000 outlets in 20 country. Currently building a private cloud which will be able to process 2.5 petabyte of data every hour. walmart have customer data to get useful insight about customer shopping pattern. <br>\n",
    "Case1: Haloween and sales of cookies.<br>\n",
    "Case2: Sales of strawberry pop-tarts increased by 7 times before hurricane.<br>\n",
    "case3: analyse data generating by social media . for trending product. like cake pops. cake on popsicle.<br>\n",
    "\n",
    "\n",
    "### What is Data Science?\n",
    "It is a process of extracting knowledge and insight from data by using scientific methods.\n",
    "\n",
    "### Data Science - Skill Set\n",
    "<ul>\n",
    "    <li>Statistics : R</li>\n",
    "    <li>Programming Language: Python</li>\n",
    "    <li>Data Extraction and Processing : SQL</li>\n",
    "    <li>Data wrangling and exploration : Data Cleaning / feature extraction</li>\n",
    "    <li>Machine Learning</li>\n",
    "    <li>Big Data Processing Framework : Hadoop, Spark</li>\n",
    "    <li>Data Visualization : Tableau</li></ul>\n",
    "\n",
    "### Data Science job Roles\n",
    "<ul>\n",
    "    <li><b>Data Scientist :</b> </li>\n",
    "    <li><b>Data Analyst :</b> </li>\n",
    "    <li><b>Data Architect :</b> </li>\n",
    "    <li><b>Data Engineer :</b> </li>\n",
    "    <li><b>Statistician :</b> </li>\n",
    "    <li><b>Database Administrator :</b> </li>\n",
    "    <li><b>Bussiness Analyst :</b> </li>\n",
    "    <li><b>Data and Analytics Manager :</b> </li></ul>\n",
    "\n",
    "### Data Life Cycle\n",
    "<ul>\n",
    "    <li><b>Business Requirement : </b>  Understand the problem, Identify central objectives, identify variables that need to be predicted.</li>\n",
    "    <li><b>Data Acquisition :</b> What data do I need for my\n",
    "project? What are the data sources? How can I obtain the data? What is the most efficient way to store and access all of it?</li>\n",
    "    <li><b>Data Processing :</b> Transform data into desired format\n",
    "<br>Data cleaning\n",
    "<br>• Missing values\n",
    "<br>• Corrupted data\n",
    "<br>• Remove unnecessary data</li>\n",
    "    <li><b>Data Exploration :</b> 1. Understand the pattern in the data. 2. Retrieve useful insight. 3. form Hypothesis</li>\n",
    "    <li><b>Modelling :</b> Determine optimal data features for machine learning model. Create a model that predicts the target most accuratly. Evaluate and test the efficiency of the model.</li>\n",
    "    <li><b>Deployment :</b> Check the deployment environment for dependency issues. Deploy the model in a pre-product/ test environment. Monitor the performance</li></ul>\n",
    "\n"
   ]
  },
  {
   "cell_type": "code",
   "execution_count": null,
   "id": "eb8557f4",
   "metadata": {},
   "outputs": [],
   "source": []
  },
  {
   "cell_type": "code",
   "execution_count": null,
   "id": "319c4d81",
   "metadata": {},
   "outputs": [],
   "source": []
  }
 ],
 "metadata": {
  "kernelspec": {
   "display_name": "Python 3 (ipykernel)",
   "language": "python",
   "name": "python3"
  },
  "language_info": {
   "codemirror_mode": {
    "name": "ipython",
    "version": 3
   },
   "file_extension": ".py",
   "mimetype": "text/x-python",
   "name": "python",
   "nbconvert_exporter": "python",
   "pygments_lexer": "ipython3",
   "version": "3.9.13"
  },
  "varInspector": {
   "cols": {
    "lenName": 16,
    "lenType": 16,
    "lenVar": 40
   },
   "kernels_config": {
    "python": {
     "delete_cmd_postfix": "",
     "delete_cmd_prefix": "del ",
     "library": "var_list.py",
     "varRefreshCmd": "print(var_dic_list())"
    },
    "r": {
     "delete_cmd_postfix": ") ",
     "delete_cmd_prefix": "rm(",
     "library": "var_list.r",
     "varRefreshCmd": "cat(var_dic_list()) "
    }
   },
   "types_to_exclude": [
    "module",
    "function",
    "builtin_function_or_method",
    "instance",
    "_Feature"
   ],
   "window_display": false
  }
 },
 "nbformat": 4,
 "nbformat_minor": 5
}
