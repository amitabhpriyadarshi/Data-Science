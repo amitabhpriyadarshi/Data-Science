{
 "cells": [
  {
   "attachments": {
    "numpy-arrays-have-axes_updated_v2.png.webp": {
     "image/webp": "[encoded data removed]"
    }
   },
   "cell_type": "markdown",
   "id": "c8c71638",
   "metadata": {},
   "source": [
    "# NUMPY\n",
    "\n",
    "![numpy-arrays-have-axes_updated_v2.png.webp](attachment:numpy-arrays-have-axes_updated_v2.png.webp)\n",
    "[0,1,2,3,4,5]   <br>\n",
    "[4,5,6,7,8,6]   <br>\n",
    "\n",
    "2D array means two Axis\n",
    "\n",
    "Axis=0 = cols\n",
    "Axis=1 = rows\n",
    "\n",
    "6 element X 2 element = shape(2,6)\n",
    "<br>\n",
    "numpy is faster, convenient and uses less memory than python list.\n",
    "\n"
   ]
  },
  {
   "cell_type": "code",
   "execution_count": 1,
   "id": "7c455d0b",
   "metadata": {
    "ExecuteTime": {
     "end_time": "2023-02-05T20:38:18.133850Z",
     "start_time": "2023-02-05T20:38:18.116257Z"
    }
   },
   "outputs": [
    {
     "data": {
      "text/plain": [
       "'1.21.5'"
      ]
     },
     "execution_count": 1,
     "metadata": {},
     "output_type": "execute_result"
    }
   ],
   "source": [
    "import numpy as np\n",
    "np.__version__"
   ]
  },
  {
   "cell_type": "code",
   "execution_count": 4,
   "id": "4be7e0d9",
   "metadata": {
    "ExecuteTime": {
     "end_time": "2023-02-05T20:40:39.923313Z",
     "start_time": "2023-02-05T20:40:39.915575Z"
    }
   },
   "outputs": [
    {
     "data": {
      "text/plain": [
       "array([1, 2, 3])"
      ]
     },
     "execution_count": 4,
     "metadata": {},
     "output_type": "execute_result"
    }
   ],
   "source": [
    "a =np.array([1,2,3])\n",
    "a"
   ]
  },
  {
   "cell_type": "code",
   "execution_count": 5,
   "id": "5c2e75cc",
   "metadata": {
    "ExecuteTime": {
     "end_time": "2023-02-05T20:43:45.977279Z",
     "start_time": "2023-02-05T20:43:45.970391Z"
    }
   },
   "outputs": [
    {
     "data": {
      "text/plain": [
       "1"
      ]
     },
     "execution_count": 5,
     "metadata": {},
     "output_type": "execute_result"
    }
   ],
   "source": [
    "a[0]"
   ]
  },
  {
   "cell_type": "code",
   "execution_count": 6,
   "id": "d962bdce",
   "metadata": {
    "ExecuteTime": {
     "end_time": "2023-02-05T20:43:57.316744Z",
     "start_time": "2023-02-05T20:43:56.774339Z"
    }
   },
   "outputs": [
    {
     "ename": "IndexError",
     "evalue": "index 3 is out of bounds for axis 0 with size 3",
     "output_type": "error",
     "traceback": [
      "\u001b[0;31m---------------------------------------------------------------------------\u001b[0m",
      "\u001b[0;31mIndexError\u001b[0m                                Traceback (most recent call last)",
      "\u001b[0;32m/var/folders/wp/x37vt6v52m7fgw1jdf8c_mj00000gn/T/ipykernel_1889/3565805452.py\u001b[0m in \u001b[0;36m<module>\u001b[0;34m\u001b[0m\n\u001b[0;32m----> 1\u001b[0;31m \u001b[0ma\u001b[0m\u001b[0;34m[\u001b[0m\u001b[0;36m3\u001b[0m\u001b[0;34m]\u001b[0m\u001b[0;34m\u001b[0m\u001b[0;34m\u001b[0m\u001b[0m\n\u001b[0m",
      "\u001b[0;31mIndexError\u001b[0m: index 3 is out of bounds for axis 0 with size 3"
     ]
    }
   ],
   "source": [
    "a[3]"
   ]
  },
  {
   "cell_type": "code",
   "execution_count": 25,
   "id": "6d725b42",
   "metadata": {
    "ExecuteTime": {
     "end_time": "2023-02-05T21:01:23.421351Z",
     "start_time": "2023-02-05T21:01:23.416211Z"
    }
   },
   "outputs": [],
   "source": [
    "import time as TIME\n",
    "import sys"
   ]
  },
  {
   "cell_type": "code",
   "execution_count": 22,
   "id": "55dff6a6",
   "metadata": {
    "ExecuteTime": {
     "end_time": "2023-02-05T20:53:07.314661Z",
     "start_time": "2023-02-05T20:53:07.309223Z"
    }
   },
   "outputs": [
    {
     "name": "stdout",
     "output_type": "stream",
     "text": [
      "28 48 1000\n",
      "total:  28000\n",
      "8 1000\n",
      "total:  8000\n"
     ]
    }
   ],
   "source": [
    "# memory utilization\n",
    "# python array\n",
    "b=range(1000)\n",
    "print(sys.getsizeof(b[3]),sys.getsizeof(b),len(b))\n",
    "print(\"total: \",sys.getsizeof(b[3])*len(b))\n",
    "\n",
    "# numpy array\n",
    "c=np.arange(1000)\n",
    "print(c.itemsize,c.size)\n",
    "print(\"total: \",c.itemsize*c.size)"
   ]
  },
  {
   "cell_type": "code",
   "execution_count": 36,
   "id": "62cbacea",
   "metadata": {
    "ExecuteTime": {
     "end_time": "2023-02-05T21:09:52.958279Z",
     "start_time": "2023-02-05T21:09:52.929309Z"
    }
   },
   "outputs": [
    {
     "name": "stdout",
     "output_type": "stream",
     "text": [
      "python time:  18.022775650024414  sec\n",
      "numpy time:  1.477956771850586  sec\n"
     ]
    }
   ],
   "source": [
    "# speed test python array vs numpy array\n",
    "size = 100000\n",
    "L1 = range(size)\n",
    "L2 = range(size)\n",
    "A1 = np.arange(size)\n",
    "A2 = np.arange(size)\n",
    "\n",
    "start = TIME.time()\n",
    "result = [(x+y) for x,y in zip(L1,L2)]\n",
    "print(\"python time: \",(TIME.time()-start)*1000 ,\" sec\")\n",
    "\n",
    "start2 = TIME.time()\n",
    "result2 = A1+A2\n",
    "print(\"numpy time: \",(TIME.time()-start2)*1000 ,\" sec\")\n"
   ]
  },
  {
   "cell_type": "code",
   "execution_count": 39,
   "id": "4ff99f74",
   "metadata": {
    "ExecuteTime": {
     "end_time": "2023-02-05T21:14:38.595702Z",
     "start_time": "2023-02-05T21:14:38.587915Z"
    },
    "scrolled": true
   },
   "outputs": [
    {
     "data": {
      "text/plain": [
       "array([[1, 2],\n",
       "       [3, 4],\n",
       "       [5, 6]])"
      ]
     },
     "execution_count": 39,
     "metadata": {},
     "output_type": "execute_result"
    }
   ],
   "source": [
    "a=np.array([[1,2],[3,4],[5,6]])\n",
    "a"
   ]
  },
  {
   "cell_type": "code",
   "execution_count": 40,
   "id": "2d94b1ff",
   "metadata": {
    "ExecuteTime": {
     "end_time": "2023-02-05T21:24:30.815746Z",
     "start_time": "2023-02-05T21:24:30.806960Z"
    }
   },
   "outputs": [
    {
     "data": {
      "text/plain": [
       "2"
      ]
     },
     "execution_count": 40,
     "metadata": {},
     "output_type": "execute_result"
    }
   ],
   "source": [
    "a.ndim"
   ]
  },
  {
   "cell_type": "code",
   "execution_count": 41,
   "id": "7aa893bf",
   "metadata": {
    "ExecuteTime": {
     "end_time": "2023-02-05T21:24:46.826465Z",
     "start_time": "2023-02-05T21:24:46.820421Z"
    }
   },
   "outputs": [
    {
     "data": {
      "text/plain": [
       "8"
      ]
     },
     "execution_count": 41,
     "metadata": {},
     "output_type": "execute_result"
    }
   ],
   "source": [
    "a.itemsize"
   ]
  },
  {
   "cell_type": "code",
   "execution_count": 42,
   "id": "3b57d5b9",
   "metadata": {
    "ExecuteTime": {
     "end_time": "2023-02-05T21:25:14.375460Z",
     "start_time": "2023-02-05T21:25:14.369534Z"
    }
   },
   "outputs": [
    {
     "data": {
      "text/plain": [
       "(3, 2)"
      ]
     },
     "execution_count": 42,
     "metadata": {},
     "output_type": "execute_result"
    }
   ],
   "source": [
    "a.shape"
   ]
  },
  {
   "cell_type": "code",
   "execution_count": 43,
   "id": "382589a2",
   "metadata": {
    "ExecuteTime": {
     "end_time": "2023-02-05T21:28:54.059213Z",
     "start_time": "2023-02-05T21:28:54.036495Z"
    }
   },
   "outputs": [
    {
     "data": {
      "text/plain": [
       "array([[1., 2.],\n",
       "       [3., 4.],\n",
       "       [5., 6.]])"
      ]
     },
     "execution_count": 43,
     "metadata": {},
     "output_type": "execute_result"
    }
   ],
   "source": [
    "a=np.array([[1,2],[3,4],[5,6]],dtype=np.float64)\n",
    "a"
   ]
  },
  {
   "cell_type": "code",
   "execution_count": 44,
   "id": "67af19ad",
   "metadata": {
    "ExecuteTime": {
     "end_time": "2023-02-05T21:29:11.363799Z",
     "start_time": "2023-02-05T21:29:11.353883Z"
    }
   },
   "outputs": [
    {
     "data": {
      "text/plain": [
       "8"
      ]
     },
     "execution_count": 44,
     "metadata": {},
     "output_type": "execute_result"
    }
   ],
   "source": [
    "a.itemsize"
   ]
  },
  {
   "cell_type": "code",
   "execution_count": 45,
   "id": "88ed2722",
   "metadata": {
    "ExecuteTime": {
     "end_time": "2023-02-05T21:30:32.843211Z",
     "start_time": "2023-02-05T21:30:32.828776Z"
    }
   },
   "outputs": [
    {
     "data": {
      "text/plain": [
       "array([[1.+0.j, 2.+0.j],\n",
       "       [3.+0.j, 4.+0.j],\n",
       "       [5.+0.j, 6.+0.j]], dtype=complex64)"
      ]
     },
     "execution_count": 45,
     "metadata": {},
     "output_type": "execute_result"
    }
   ],
   "source": [
    "a=np.array([[1,2],[3,4],[5,6]],dtype=np.complex64)\n",
    "a"
   ]
  },
  {
   "cell_type": "code",
   "execution_count": 46,
   "id": "40adcbdc",
   "metadata": {
    "ExecuteTime": {
     "end_time": "2023-02-05T21:30:41.763997Z",
     "start_time": "2023-02-05T21:30:41.752731Z"
    }
   },
   "outputs": [
    {
     "data": {
      "text/plain": [
       "8"
      ]
     },
     "execution_count": 46,
     "metadata": {},
     "output_type": "execute_result"
    }
   ],
   "source": [
    "a.itemsize"
   ]
  },
  {
   "cell_type": "code",
   "execution_count": 49,
   "id": "8cac93ea",
   "metadata": {
    "ExecuteTime": {
     "end_time": "2023-02-05T21:32:37.108071Z",
     "start_time": "2023-02-05T21:32:37.100209Z"
    }
   },
   "outputs": [
    {
     "data": {
      "text/plain": [
       "array([[0., 0., 0., 0.],\n",
       "       [0., 0., 0., 0.],\n",
       "       [0., 0., 0., 0.]])"
      ]
     },
     "execution_count": 49,
     "metadata": {},
     "output_type": "execute_result"
    }
   ],
   "source": [
    "zero = np.zeros((3,4))\n",
    "zero"
   ]
  },
  {
   "cell_type": "code",
   "execution_count": 50,
   "id": "e7a8e335",
   "metadata": {
    "ExecuteTime": {
     "end_time": "2023-02-05T21:33:49.906639Z",
     "start_time": "2023-02-05T21:33:49.899162Z"
    }
   },
   "outputs": [
    {
     "data": {
      "text/plain": [
       "array([[1., 1., 1., 1.],\n",
       "       [1., 1., 1., 1.],\n",
       "       [1., 1., 1., 1.]])"
      ]
     },
     "execution_count": 50,
     "metadata": {},
     "output_type": "execute_result"
    }
   ],
   "source": [
    "one = np.ones((3,4))\n",
    "one"
   ]
  },
  {
   "cell_type": "code",
   "execution_count": 72,
   "id": "109e8066",
   "metadata": {
    "ExecuteTime": {
     "end_time": "2023-02-05T22:11:06.991368Z",
     "start_time": "2023-02-05T22:11:06.981605Z"
    }
   },
   "outputs": [
    {
     "name": "stdout",
     "output_type": "stream",
     "text": [
      "concatinating example\n",
      "ADD :  ['helloabc' 'hixyz']\n",
      "MULTIPLY :  hello hello hello \n",
      "CENTER :  -------hello--------\n",
      "CAPS :  Hello world\n",
      "TITLE :  Hello World\n",
      "LOWER :  hello\n",
      "UPPER :  HELLO\n",
      "SPLIT :  ['hello', 'world', 'here', 'i', 'am', 'greeting', 'you']\n",
      "SPLIT LINES :  ['hello world ', 'here i am greeting you']\n",
      "STRIP :  ['nin' 'shi' 'dmin' 'poapo']\n",
      "JOIN :  ['p:o:a:p:o' 'd-o-o-d-o-o']\n",
      "REPLACE :  He was a good dancer\n"
     ]
    }
   ],
   "source": [
    "print(\"concatinating example\")\n",
    "print(\"ADD : \",np.char.add([\"hello\",\"hi\"],[\"abc\",\"xyz\"]))\n",
    "print(\"MULTIPLY : \",np.char.multiply(\"hello \",3))\n",
    "print(\"CENTER : \",np.char.center(\"hello\",20,fillchar='-'))\n",
    "print(\"CAPS : \",np.char.capitalize(\"hello world\"))\n",
    "print(\"TITLE : \",np.char.title(\"hello world\"))\n",
    "print(\"LOWER : \",np.char.lower(\"HELLO\"))\n",
    "print(\"UPPER : \",np.char.upper(\"hello\"))\n",
    "print(\"SPLIT : \",np.char.split(\"hello world here i am greeting you\"))\n",
    "print(\"SPLIT LINES : \",np.char.splitlines(\"hello world \\nhere i am greeting you\"))\n",
    "print(\"STRIP : \",np.char.strip([\"nina\",\"aashi\",\"admin\",\"poapo\"],\"a\"))\n",
    "print(\"JOIN : \",np.char.join([\":\",\"-\"],[\"poapo\",\"doodoo\"]))\n",
    "print(\"REPLACE : \",np.char.replace(\"He is a good dancer\",\"is\",\"was\"))\n"
   ]
  },
  {
   "cell_type": "code",
   "execution_count": null,
   "id": "b915832d",
   "metadata": {},
   "outputs": [],
   "source": []
  }
 ],
 "metadata": {
  "kernelspec": {
   "display_name": "Python 3 (ipykernel)",
   "language": "python",
   "name": "python3"
  },
  "language_info": {
   "codemirror_mode": {
    "name": "ipython",
    "version": 3
   },
   "file_extension": ".py",
   "mimetype": "text/x-python",
   "name": "python",
   "nbconvert_exporter": "python",
   "pygments_lexer": "ipython3",
   "version": "3.9.13"
  },
  "varInspector": {
   "cols": {
    "lenName": 16,
    "lenType": 16,
    "lenVar": 40
   },
   "kernels_config": {
    "python": {
     "delete_cmd_postfix": "",
     "delete_cmd_prefix": "del ",
     "library": "var_list.py",
     "varRefreshCmd": "print(var_dic_list())"
    },
    "r": {
     "delete_cmd_postfix": ") ",
     "delete_cmd_prefix": "rm(",
     "library": "var_list.r",
     "varRefreshCmd": "cat(var_dic_list()) "
    }
   },
   "types_to_exclude": [
    "module",
    "function",
    "builtin_function_or_method",
    "instance",
    "_Feature"
   ],
   "window_display": false
  }
 },
 "nbformat": 4,
 "nbformat_minor": 5
}
