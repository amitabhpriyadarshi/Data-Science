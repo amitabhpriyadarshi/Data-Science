{
 "cells": [
  {
   "cell_type": "markdown",
   "id": "c98c29ca",
   "metadata": {},
   "source": [
    "## Array Manipulation\n",
    "\n",
    "### Changing shape"
   ]
  },
  {
   "cell_type": "code",
   "execution_count": 6,
   "id": "f4e37146",
   "metadata": {
    "ExecuteTime": {
     "end_time": "2023-02-05T22:24:49.569640Z",
     "start_time": "2023-02-05T22:24:49.562390Z"
    }
   },
   "outputs": [
    {
     "name": "stdout",
     "output_type": "stream",
     "text": [
      "original array\n",
      "[0 1 2 3 4 5 6 7 8] \n",
      "\n",
      "modified array\n",
      "[[0 1 2]\n",
      " [3 4 5]\n",
      " [6 7 8]] \n",
      "\n",
      "flatten array\n",
      "[0 1 2 3 4 5 6 7 8] \n",
      "\n",
      "flatten array fortan format\n",
      "[0 3 6 1 4 7 2 5 8] \n",
      "\n"
     ]
    }
   ],
   "source": [
    "import numpy as np\n",
    "a=np.arange(9)\n",
    "print(\"original array\")\n",
    "print(a,\"\\n\")\n",
    "\n",
    "b=a.reshape(3,3)\n",
    "print(\"modified array\")\n",
    "print(b,\"\\n\")\n",
    "\n",
    "c=b.flatten() #default is C , A also have same effect. row prority\n",
    "print(\"flatten array\")\n",
    "print(c,\"\\n\")\n",
    "\n",
    "d=b.flatten(order=\"F\") # col prority\n",
    "print(\"flatten array fortan format\")\n",
    "print(d,\"\\n\")"
   ]
  },
  {
   "cell_type": "code",
   "execution_count": 11,
   "id": "d37e73ef",
   "metadata": {
    "ExecuteTime": {
     "end_time": "2023-02-05T22:29:58.446030Z",
     "start_time": "2023-02-05T22:29:58.439994Z"
    }
   },
   "outputs": [
    {
     "name": "stdout",
     "output_type": "stream",
     "text": [
      "original :  (4, 3) \n",
      " [[ 0  1  2]\n",
      " [ 3  4  5]\n",
      " [ 6  7  8]\n",
      " [ 9 10 11]]\n",
      "\n",
      "transpose :  (3, 4) \n",
      " [[ 0  3  6  9]\n",
      " [ 1  4  7 10]\n",
      " [ 2  5  8 11]]\n"
     ]
    }
   ],
   "source": [
    "a=np.arange(12).reshape(4,3)\n",
    "print(\"original : \",a.shape,\"\\n\",a)\n",
    "b=np.transpose(a)\n",
    "print(\"\\ntranspose : \",b.shape,\"\\n\",b)"
   ]
  },
  {
   "cell_type": "code",
   "execution_count": 20,
   "id": "5a35c664",
   "metadata": {
    "ExecuteTime": {
     "end_time": "2023-02-05T22:40:46.382586Z",
     "start_time": "2023-02-05T22:40:46.373516Z"
    },
    "scrolled": true
   },
   "outputs": [
    {
     "name": "stdout",
     "output_type": "stream",
     "text": [
      "original :  (2, 2, 2) \n",
      " [[[0 1]\n",
      "  [2 3]]\n",
      "\n",
      " [[4 5]\n",
      "  [6 7]]]\n",
      "\n",
      " rolled :  (2, 2, 2) \n",
      " [[[0 2]\n",
      "  [1 3]]\n",
      "\n",
      " [[4 6]\n",
      "  [5 7]]]\n",
      "\n",
      " swapped :  (2, 2, 2) \n",
      " [[[0 2]\n",
      "  [1 3]]\n",
      "\n",
      " [[4 6]\n",
      "  [5 7]]]\n"
     ]
    }
   ],
   "source": [
    "a=np.arange(8).reshape(2,2,2)\n",
    "print(\"original : \",a.shape,\"\\n\",a)\n",
    "\n",
    "b=np.rollaxis(a,2,1)\n",
    "print(\"\\n rolled : \",b.shape,\"\\n\",b)\n",
    "c=np.swapaxes(a,1,2)\n",
    "print(\"\\n swapped : \",c.shape,\"\\n\",c)"
   ]
  },
  {
   "cell_type": "markdown",
   "id": "e33b9491",
   "metadata": {},
   "source": [
    "## Arithmetic operations"
   ]
  },
  {
   "cell_type": "code",
   "execution_count": 29,
   "id": "42ddd3f7",
   "metadata": {
    "ExecuteTime": {
     "end_time": "2023-02-05T22:55:55.769698Z",
     "start_time": "2023-02-05T22:55:55.758087Z"
    }
   },
   "outputs": [
    {
     "name": "stdout",
     "output_type": "stream",
     "text": [
      "\n",
      " A :  (3, 3) \n",
      " [[0 1 2]\n",
      " [3 4 5]\n",
      " [6 7 8]]\n",
      "\n",
      " B :  (3,) \n",
      " [  10  100 1000]\n",
      "\n",
      " A+B :  (3, 3) \n",
      " [[  10  101 1002]\n",
      " [  13  104 1005]\n",
      " [  16  107 1008]]\n",
      "\n",
      " A-B :  (3, 3) \n",
      " [[ -10  -99 -998]\n",
      " [  -7  -96 -995]\n",
      " [  -4  -93 -992]]\n",
      "\n",
      " A*B :  (3, 3) \n",
      " [[   0  100 2000]\n",
      " [  30  400 5000]\n",
      " [  60  700 8000]]\n",
      "\n",
      " A/B :  (3, 3) \n",
      " [[0.    0.01  0.002]\n",
      " [0.3   0.04  0.005]\n",
      " [0.6   0.07  0.008]]\n"
     ]
    }
   ],
   "source": [
    "a=np.arange(9).reshape(3,3)\n",
    "b=np.array([10,100,1000])\n",
    "print(\"\\n A : \",a.shape,\"\\n\",a)\n",
    "print(\"\\n B : \",b.shape,\"\\n\",b)\n",
    "c=np.add(a,b)\n",
    "print(\"\\n A+B : \",c.shape,\"\\n\",c)\n",
    "d=np.subtract(a,b)\n",
    "print(\"\\n A-B : \",d.shape,\"\\n\",d)\n",
    "e=np.multiply(a,b)\n",
    "print(\"\\n A*B : \",e.shape,\"\\n\",e)\n",
    "f=np.divide(a,b)\n",
    "print(\"\\n A/B : \",f.shape,\"\\n\",f)"
   ]
  },
  {
   "cell_type": "markdown",
   "id": "b2206a5c",
   "metadata": {},
   "source": [
    "## Slicing"
   ]
  },
  {
   "cell_type": "code",
   "execution_count": 30,
   "id": "e0db77e5",
   "metadata": {
    "ExecuteTime": {
     "end_time": "2023-02-05T23:01:05.940260Z",
     "start_time": "2023-02-05T23:01:05.934009Z"
    }
   },
   "outputs": [
    {
     "data": {
      "text/plain": [
       "array([ 0,  1,  2,  3,  4,  5,  6,  7,  8,  9, 10, 11, 12, 13, 14, 15, 16,\n",
       "       17, 18, 19])"
      ]
     },
     "execution_count": 30,
     "metadata": {},
     "output_type": "execute_result"
    }
   ],
   "source": [
    "a=np.arange(20)\n",
    "a"
   ]
  },
  {
   "cell_type": "code",
   "execution_count": 31,
   "id": "7e599ec4",
   "metadata": {
    "ExecuteTime": {
     "end_time": "2023-02-05T23:01:25.325062Z",
     "start_time": "2023-02-05T23:01:25.318053Z"
    }
   },
   "outputs": [
    {
     "data": {
      "text/plain": [
       "array([ 4,  5,  6,  7,  8,  9, 10, 11, 12, 13, 14, 15, 16, 17, 18, 19])"
      ]
     },
     "execution_count": 31,
     "metadata": {},
     "output_type": "execute_result"
    }
   ],
   "source": [
    "a[4:]"
   ]
  },
  {
   "cell_type": "code",
   "execution_count": 32,
   "id": "d7314d41",
   "metadata": {
    "ExecuteTime": {
     "end_time": "2023-02-05T23:01:34.256886Z",
     "start_time": "2023-02-05T23:01:34.250681Z"
    }
   },
   "outputs": [
    {
     "data": {
      "text/plain": [
       "array([0, 1, 2, 3])"
      ]
     },
     "execution_count": 32,
     "metadata": {},
     "output_type": "execute_result"
    }
   ],
   "source": [
    "a[:4]"
   ]
  },
  {
   "cell_type": "code",
   "execution_count": 33,
   "id": "b7ef3519",
   "metadata": {
    "ExecuteTime": {
     "end_time": "2023-02-05T23:01:43.221382Z",
     "start_time": "2023-02-05T23:01:43.216249Z"
    }
   },
   "outputs": [
    {
     "data": {
      "text/plain": [
       "5"
      ]
     },
     "execution_count": 33,
     "metadata": {},
     "output_type": "execute_result"
    }
   ],
   "source": [
    "a[5]"
   ]
  },
  {
   "cell_type": "code",
   "execution_count": 45,
   "id": "2588a9d3",
   "metadata": {
    "ExecuteTime": {
     "end_time": "2023-02-05T23:07:21.596292Z",
     "start_time": "2023-02-05T23:07:21.589937Z"
    }
   },
   "outputs": [
    {
     "data": {
      "text/plain": [
       "array([ 2,  5,  8, 11, 14])"
      ]
     },
     "execution_count": 45,
     "metadata": {},
     "output_type": "execute_result"
    }
   ],
   "source": [
    "s=slice(2,17,3) # start end step\n",
    "a[s]\n"
   ]
  },
  {
   "cell_type": "markdown",
   "id": "2d0405d5",
   "metadata": {},
   "source": [
    "## Iterating over array"
   ]
  },
  {
   "cell_type": "code",
   "execution_count": 51,
   "id": "f70b50aa",
   "metadata": {
    "ExecuteTime": {
     "end_time": "2023-02-05T23:17:25.697711Z",
     "start_time": "2023-02-05T23:17:25.687819Z"
    }
   },
   "outputs": [
    {
     "data": {
      "text/plain": [
       "array([[ 0,  5, 10],\n",
       "       [15, 20, 25],\n",
       "       [30, 35, 40]])"
      ]
     },
     "execution_count": 51,
     "metadata": {},
     "output_type": "execute_result"
    }
   ],
   "source": [
    "a=np.arange(0,45,5) # start end step\n",
    "b=a.reshape(3,3)\n",
    "b"
   ]
  },
  {
   "cell_type": "code",
   "execution_count": 53,
   "id": "a61febc0",
   "metadata": {
    "ExecuteTime": {
     "end_time": "2023-02-05T23:17:59.525051Z",
     "start_time": "2023-02-05T23:17:59.520432Z"
    }
   },
   "outputs": [
    {
     "name": "stdout",
     "output_type": "stream",
     "text": [
      "0\n",
      "5\n",
      "10\n",
      "15\n",
      "20\n",
      "25\n",
      "30\n",
      "35\n",
      "40\n"
     ]
    }
   ],
   "source": [
    "for x in np.nditer(b):\n",
    "    print(x)\n"
   ]
  },
  {
   "cell_type": "code",
   "execution_count": 56,
   "id": "0fd02c7d",
   "metadata": {
    "ExecuteTime": {
     "end_time": "2023-02-05T23:21:05.874547Z",
     "start_time": "2023-02-05T23:21:05.869838Z"
    },
    "run_control": {
     "marked": false
    }
   },
   "outputs": [
    {
     "name": "stdout",
     "output_type": "stream",
     "text": [
      "[[ 0  5 10]\n",
      " [15 20 25]\n",
      " [30 35 40]]\n",
      "0\n",
      "15\n",
      "30\n",
      "5\n",
      "20\n",
      "35\n",
      "10\n",
      "25\n",
      "40\n"
     ]
    }
   ],
   "source": [
    "# iterate over array C style and F style\n",
    "print(b)\n",
    "for x in np.nditer(b,order=\"F\"):\n",
    "    print(x)"
   ]
  },
  {
   "cell_type": "markdown",
   "id": "27adad17",
   "metadata": {},
   "source": [
    "## Joining Arrays"
   ]
  },
  {
   "cell_type": "code",
   "execution_count": 59,
   "id": "f2b5237e",
   "metadata": {
    "ExecuteTime": {
     "end_time": "2023-02-05T23:26:37.359859Z",
     "start_time": "2023-02-05T23:26:37.350313Z"
    }
   },
   "outputs": [
    {
     "name": "stdout",
     "output_type": "stream",
     "text": [
      "first array\n",
      " [[1 2]\n",
      " [3 4]]\n",
      "\n",
      "second array\n",
      " [[5 6]\n",
      " [7 8]]\n",
      "\n",
      "joined array axis=0\n",
      " [[1 2]\n",
      " [3 4]\n",
      " [5 6]\n",
      " [7 8]]\n",
      "\n",
      "joined array axis=1\n",
      " [[1 2 5 6]\n",
      " [3 4 7 8]]\n"
     ]
    }
   ],
   "source": [
    "a=np.array([[1,2],[3,4]])\n",
    "print(\"first array\\n\",a)\n",
    "b=np.array([[5,6],[7,8]])\n",
    "print(\"\\nsecond array\\n\",b)\n",
    "\n",
    "c= np.concatenate((a,b))\n",
    "print(\"\\njoined array axis=0\\n\",c)\n",
    "\n",
    "d= np.concatenate((a,b),axis=1)\n",
    "print(\"\\njoined array axis=1\\n\",d)"
   ]
  },
  {
   "cell_type": "markdown",
   "id": "6f60dcfb",
   "metadata": {
    "ExecuteTime": {
     "end_time": "2023-02-05T23:29:02.916157Z",
     "start_time": "2023-02-05T23:29:02.913031Z"
    }
   },
   "source": [
    "## Splitting array"
   ]
  },
  {
   "cell_type": "code",
   "execution_count": 65,
   "id": "c67220f0",
   "metadata": {
    "ExecuteTime": {
     "end_time": "2023-02-05T23:33:29.469470Z",
     "start_time": "2023-02-05T23:33:29.462384Z"
    }
   },
   "outputs": [
    {
     "name": "stdout",
     "output_type": "stream",
     "text": [
      "first array\n",
      " [0 1 2 3 4 5 6 7 8]\n",
      "\n",
      "split array\n",
      " [array([0, 1, 2]), array([3, 4, 5]), array([6, 7, 8])]\n",
      "\n",
      "split array\n",
      " [array([0, 1, 2, 3]), array([4]), array([5, 6, 7, 8])]\n",
      "\n",
      "split array\n",
      " [array([0, 1, 2, 3]), array([4]), array([5, 6]), array([7, 8])]\n"
     ]
    }
   ],
   "source": [
    "a = np.arange(9)\n",
    "print(\"first array\\n\",a)\n",
    "b = np.split(a,3)#element to split\n",
    "print(\"\\nsplit array\\n\",b)\n",
    "c = np.split(a,[4,5])#where to split\n",
    "print(\"\\nsplit array\\n\",c)\n",
    "d = np.split(a,[4,5,7]) #where to split\n",
    "print(\"\\nsplit array\\n\",d)\n"
   ]
  },
  {
   "cell_type": "markdown",
   "id": "d93193c2",
   "metadata": {},
   "source": [
    "## Resize Array"
   ]
  },
  {
   "cell_type": "code",
   "execution_count": 72,
   "id": "758f0000",
   "metadata": {
    "ExecuteTime": {
     "end_time": "2023-02-05T23:39:21.365942Z",
     "start_time": "2023-02-05T23:39:21.358226Z"
    }
   },
   "outputs": [
    {
     "name": "stdout",
     "output_type": "stream",
     "text": [
      "first array (2, 3) \n",
      " [[1 2 3]\n",
      " [4 5 6]]\n",
      "\n",
      "second array (3, 2) \n",
      " [[1 2]\n",
      " [3 4]\n",
      " [5 6]]\n",
      "\n",
      "third array (1, 6) \n",
      " [[1 2 3 4 5 6]]\n",
      "\n",
      "third array (5, 5) \n",
      " [[1 2 3 4 5]\n",
      " [6 1 2 3 4]\n",
      " [5 6 1 2 3]\n",
      " [4 5 6 1 2]\n",
      " [3 4 5 6 1]]\n"
     ]
    }
   ],
   "source": [
    "a=np.array([[1,2,3],[4,5,6]])\n",
    "print(\"first array\",a.shape,\"\\n\",a)\n",
    "\n",
    "b=np.resize(a,(3,2))\n",
    "print(\"\\nsecond array\",b.shape,\"\\n\",b)\n",
    "\n",
    "c=np.resize(a,(1,6))\n",
    "print(\"\\nthird array\",c.shape,\"\\n\",c)\n",
    "\n",
    "d=np.resize(a,(5,5))\n",
    "print(\"\\nthird array\",d.shape,\"\\n\",d)\n"
   ]
  },
  {
   "cell_type": "markdown",
   "id": "5d93079f",
   "metadata": {},
   "source": [
    "## Histogram"
   ]
  },
  {
   "cell_type": "code",
   "execution_count": 80,
   "id": "6b4a862b",
   "metadata": {
    "ExecuteTime": {
     "end_time": "2023-02-05T23:46:10.503586Z",
     "start_time": "2023-02-05T23:46:10.275088Z"
    }
   },
   "outputs": [
    {
     "data": {
      "image/png": "[encoded data removed]",
      "text/plain": [
       "<Figure size 640x480 with 1 Axes>"
      ]
     },
     "metadata": {},
     "output_type": "display_data"
    }
   ],
   "source": [
    "from matplotlib import pyplot as plt\n",
    "\n",
    "a = np.array ([26, 87, 4, 39, 53, 74, 56, 51, 11, 20, 40, 15, 39, 25, 27,91,66,67,49])\n",
    "plt.hist(a,bins = [0,10,20,30,40,50,60,70,80,90,100])\n",
    "plt.title(\"histogram\")\n",
    "plt.show()"
   ]
  },
  {
   "cell_type": "code",
   "execution_count": 83,
   "id": "f7a4e5ab",
   "metadata": {
    "ExecuteTime": {
     "end_time": "2023-02-05T23:49:51.989539Z",
     "start_time": "2023-02-05T23:49:51.519443Z"
    }
   },
   "outputs": [
    {
     "data": {
      "image/png": "[encoded data removed]",
      "text/plain": [
       "<Figure size 640x480 with 1 Axes>"
      ]
     },
     "metadata": {},
     "output_type": "display_data"
    }
   ],
   "source": [
    "from matplotlib import pyplot as plt\n",
    "rangevar = np.arange(100)\n",
    "a = np.array ([26, 87, 4, 39, 53, 74, 56, 51, 11, 20, 40, 15, 45, 25, 27,91,66,67,49, 73, 52, 56, 17, 26, 40, 17, 49, 23, 29,96])\n",
    "plt.hist(a,bins = rangevar)\n",
    "plt.title(\"histogram\")\n",
    "plt.show()"
   ]
  },
  {
   "cell_type": "markdown",
   "id": "c7ad7315",
   "metadata": {},
   "source": [
    "## Other functions"
   ]
  },
  {
   "cell_type": "code",
   "execution_count": 88,
   "id": "bd752d86",
   "metadata": {
    "ExecuteTime": {
     "end_time": "2023-02-06T14:44:16.358141Z",
     "start_time": "2023-02-06T14:44:16.352586Z"
    }
   },
   "outputs": [
    {
     "data": {
      "text/plain": [
       "array([1.        , 1.44444444, 1.88888889, 2.33333333, 2.77777778,\n",
       "       3.22222222, 3.66666667, 4.11111111, 4.55555556, 5.        ])"
      ]
     },
     "execution_count": 88,
     "metadata": {},
     "output_type": "execute_result"
    }
   ],
   "source": [
    "# linespace function\n",
    "a=np.linspace(1,5,10) # 10 numbers from 1 to 3 evenly spaced.\n",
    "a"
   ]
  },
  {
   "cell_type": "code",
   "execution_count": 96,
   "id": "86def82d",
   "metadata": {
    "ExecuteTime": {
     "end_time": "2023-02-06T14:49:21.091840Z",
     "start_time": "2023-02-06T14:49:21.086215Z"
    }
   },
   "outputs": [
    {
     "name": "stdout",
     "output_type": "stream",
     "text": [
      "[[1 2 3]\n",
      " [4 5 6]]\n",
      "\n",
      "axis = 1 : rows \n",
      " [ 6 15]\n",
      "\n",
      "axis = 0 : cols \n",
      "  [5 7 9]\n"
     ]
    }
   ],
   "source": [
    "# sum and axis\n",
    "a = np.array([[1,2,3],[4,5,6]])\n",
    "print(a)\n",
    "s = a.sum(axis=1)\n",
    "print(\"\\naxis = 1 : rows \\n\",s)\n",
    "s = a.sum(axis=0)\n",
    "print(\"\\naxis = 0 : cols \\n \",s)"
   ]
  },
  {
   "cell_type": "code",
   "execution_count": 103,
   "id": "1fbd0693",
   "metadata": {
    "ExecuteTime": {
     "end_time": "2023-02-06T14:54:49.018473Z",
     "start_time": "2023-02-06T14:54:49.011586Z"
    }
   },
   "outputs": [
    {
     "name": "stdout",
     "output_type": "stream",
     "text": [
      "\n",
      "A\n",
      ":  [[ 1  4  9]\n",
      " [16 25 36]]\n",
      "\n",
      "SqRoot\n",
      "  [[1. 2. 3.]\n",
      " [4. 5. 6.]]\n",
      "\n",
      "SD:  12.212243401148248\n"
     ]
    }
   ],
   "source": [
    "# sq root and standard deviation\n",
    "a = np.array([[1,4,9],[16,25,36]])\n",
    "print(\"\\nA\\n: \",a)\n",
    "print(\"\\nSqRoot\\n \",np.sqrt(a))\n",
    "print(\"\\nSD: \",np.std(a))"
   ]
  },
  {
   "cell_type": "code",
   "execution_count": 105,
   "id": "ba866352",
   "metadata": {
    "ExecuteTime": {
     "end_time": "2023-02-06T14:56:22.180906Z",
     "start_time": "2023-02-06T14:56:22.176559Z"
    }
   },
   "outputs": [
    {
     "name": "stdout",
     "output_type": "stream",
     "text": [
      "[1 2 3 3 4 5]\n"
     ]
    }
   ],
   "source": [
    "# Ravel function\n",
    "x = np.array([[1,2,3],[3,4,5]])\n",
    "print(np.ravel(x))"
   ]
  },
  {
   "cell_type": "code",
   "execution_count": 108,
   "id": "627f0f94",
   "metadata": {
    "ExecuteTime": {
     "end_time": "2023-02-06T14:59:16.682885Z",
     "start_time": "2023-02-06T14:59:16.676415Z"
    }
   },
   "outputs": [
    {
     "name": "stdout",
     "output_type": "stream",
     "text": [
      "[1. 2. 3.]\n",
      "[1. 2. 3.]\n"
     ]
    }
   ],
   "source": [
    "#Log\n",
    "a = np.array([10,100,1000])\n",
    "print(np.log10(a))\n",
    "\n",
    "a = np.array([2,4,8])\n",
    "print(np.log2(a))"
   ]
  },
  {
   "cell_type": "code",
   "execution_count": null,
   "id": "9c2942c3",
   "metadata": {},
   "outputs": [],
   "source": []
  }
 ],
 "metadata": {
  "kernelspec": {
   "display_name": "Python 3 (ipykernel)",
   "language": "python",
   "name": "python3"
  },
  "language_info": {
   "codemirror_mode": {
    "name": "ipython",
    "version": 3
   },
   "file_extension": ".py",
   "mimetype": "text/x-python",
   "name": "python",
   "nbconvert_exporter": "python",
   "pygments_lexer": "ipython3",
   "version": "3.9.13"
  },
  "varInspector": {
   "cols": {
    "lenName": 16,
    "lenType": 16,
    "lenVar": 40
   },
   "kernels_config": {
    "python": {
     "delete_cmd_postfix": "",
     "delete_cmd_prefix": "del ",
     "library": "var_list.py",
     "varRefreshCmd": "print(var_dic_list())"
    },
    "r": {
     "delete_cmd_postfix": ") ",
     "delete_cmd_prefix": "rm(",
     "library": "var_list.r",
     "varRefreshCmd": "cat(var_dic_list()) "
    }
   },
   "types_to_exclude": [
    "module",
    "function",
    "builtin_function_or_method",
    "instance",
    "_Feature"
   ],
   "window_display": false
  }
 },
 "nbformat": 4,
 "nbformat_minor": 5
}
