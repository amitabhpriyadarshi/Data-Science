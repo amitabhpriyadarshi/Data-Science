{
 "cells": [
  {
   "cell_type": "markdown",
   "id": "f290bbb4",
   "metadata": {},
   "source": [
    "### Need of ML\n",
    ". Increase in Data Generation</br>\n",
    ". Improve Decision Making</br>\n",
    ". Uncover patterns and trends in data</br>\n",
    ". Solve complex problem, face recoginition</br>"
   ]
  },
  {
   "cell_type": "markdown",
   "id": "b2f4e418",
   "metadata": {
    "ExecuteTime": {
     "end_time": "2023-01-18T19:04:00.119211Z",
     "start_time": "2023-01-18T19:04:00.107350Z"
    }
   },
   "source": [
    "### What Is Machine Learning? \n",
    "\"A computer program is said to learn from experience E with respect to some class of tasks T and performance measure P if its performance at tasks in T, as measured by P, improves with\n",
    "experience E.\""
   ]
  },
  {
   "cell_type": "markdown",
   "id": "cb421836",
   "metadata": {},
   "source": [
    "### A simpler definition of Machine Learning \n",
    "Machine learning is a subset of Artificial Intelligence (AI) which provides machines the ability to\n",
    "learn automatically & improve from experience without being explicitly programmed."
   ]
  },
  {
   "cell_type": "markdown",
   "id": "d88f974e",
   "metadata": {},
   "source": [
    "Data --> Training the Machine --> Building Model --> Predicting Outcome"
   ]
  },
  {
   "cell_type": "markdown",
   "id": "ed957cca",
   "metadata": {},
   "source": [
    "<b>Algorithm: </b>A set of rules and statistical techniques used to\n",
    "learn patterns from data<br> \n",
    "<b>Model: </b>A model is trained by using a Machine Learning\n",
    "Algorithm.<br> \n",
    "<b>Predictor Variable: </b>It is a feature(s) of the data that can be\n",
    "used to predict the output.<br> \n",
    "<b>Response Variable: </b>It is the feature or the output variable that needs to be predicted by using the predictor\n",
    "variables).<br> \n",
    "<b>Training Data: </b>The Machine Learning model is built using\n",
    "the training data. <br> \n",
    "<b>Testing Data: </b>The Machine Learning model is evaluated\n",
    "using the testing data.<br> "
   ]
  },
  {
   "cell_type": "markdown",
   "id": "e1e1bcf3",
   "metadata": {},
   "source": [
    "### Machine learning Process\n",
    "The Machine Learning process involves building a Predictive model that can be used to find a solution for a Problem Statement.<br>\n",
    "<b>1. Define Objective : </b>To predict the possibility of rain by studying the weather conditions.<br>\n",
    "•What are we trying to predict?<br>\n",
    "•What are the target features?<br>\n",
    "•What is the input data? <br>\n",
    "• What kind of problem are we facing? Binary classification? Clustering?<br>\n",
    "<b>2. Data Gathering : </b>Data such as weather conditions, humidity level, temperature, pressure, etc are either collected manually or scarped from the web.<br>\n",
    "<b>3. Preparing Data : </b>Data Cleaning involves getting rid of inconsistencies in data such as missing values or redundant variables.<br><pre>\n",
    "Transform data into desired format\n",
    "Data cleaning\n",
    "    • Missing values\n",
    "    • Corrupted data\n",
    "    • Remove unnecessary data</pre>\n",
    "<b>4. Data Exploration : </b>Data Exploration involves understanding the patterns and trends in the data. At this stage all the useful insights are drawn and correlations between the variables are understood.<br>\n",
    "<b>5. Building a Model : </b>At this stage a Predictive Model is built by using Machine Learning Algorithms such as Linear\n",
    "Regression, Decision Trees, etc.<br>\n",
    "•Machine Learning model is built by using the training data set </br>\n",
    "•The model is the Machine Learning algorithm that predicts the output by using the data fed to it</br>\n",
    "<b>6. Model Evaluation : </b>The efficiency of the model is evaluated and any further improvement in the model are\n",
    "implemented.<br>\n",
    "\n",
    "<b>7. Predictions : </b><br>"
   ]
  },
  {
   "cell_type": "code",
   "execution_count": null,
   "id": "2886a101",
   "metadata": {},
   "outputs": [],
   "source": []
  }
 ],
 "metadata": {
  "kernelspec": {
   "display_name": "Python 3 (ipykernel)",
   "language": "python",
   "name": "python3"
  },
  "language_info": {
   "codemirror_mode": {
    "name": "ipython",
    "version": 3
   },
   "file_extension": ".py",
   "mimetype": "text/x-python",
   "name": "python",
   "nbconvert_exporter": "python",
   "pygments_lexer": "ipython3",
   "version": "3.9.13"
  },
  "varInspector": {
   "cols": {
    "lenName": 16,
    "lenType": 16,
    "lenVar": 40
   },
   "kernels_config": {
    "python": {
     "delete_cmd_postfix": "",
     "delete_cmd_prefix": "del ",
     "library": "var_list.py",
     "varRefreshCmd": "print(var_dic_list())"
    },
    "r": {
     "delete_cmd_postfix": ") ",
     "delete_cmd_prefix": "rm(",
     "library": "var_list.r",
     "varRefreshCmd": "cat(var_dic_list()) "
    }
   },
   "types_to_exclude": [
    "module",
    "function",
    "builtin_function_or_method",
    "instance",
    "_Feature"
   ],
   "window_display": false
  }
 },
 "nbformat": 4,
 "nbformat_minor": 5
}
