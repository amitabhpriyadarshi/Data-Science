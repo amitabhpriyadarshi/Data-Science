{
 "cells": [
  {
   "cell_type": "markdown",
   "id": "a8afeee8",
   "metadata": {},
   "source": [
    "# PANDAS\n"
   ]
  },
  {
   "cell_type": "markdown",
   "id": "78445aaa",
   "metadata": {},
   "source": [
    "### What are DataFrames and Series?\n",
    "A Dataframe is A Two-dimensional, size-mutable, potentially heterogeneous tabular data.<br>\n",
    "A Series is one diamensional labelled array capable of holding data of any type."
   ]
  },
  {
   "cell_type": "code",
   "execution_count": 1,
   "id": "91db446a",
   "metadata": {
    "ExecuteTime": {
     "end_time": "2023-02-06T16:25:08.937430Z",
     "start_time": "2023-02-06T16:25:08.915452Z"
    }
   },
   "outputs": [
    {
     "data": {
      "text/plain": [
       "0    1.0\n",
       "1    2.0\n",
       "2    3.0\n",
       "3    4.0\n",
       "4    5.0\n",
       "5    6.0\n",
       "6    NaN\n",
       "7    8.0\n",
       "8    9.0\n",
       "dtype: float64"
      ]
     },
     "execution_count": 1,
     "metadata": {},
     "output_type": "execute_result"
    }
   ],
   "source": [
    "import pandas as pd\n",
    "import numpy as np\n",
    "\n",
    "s = pd.Series([1,2,3,4,5,6,np.nan,8,9])\n",
    "s"
   ]
  },
  {
   "cell_type": "code",
   "execution_count": 26,
   "id": "faf71caf",
   "metadata": {
    "ExecuteTime": {
     "end_time": "2023-02-06T18:12:00.793275Z",
     "start_time": "2023-02-06T18:12:00.784861Z"
    }
   },
   "outputs": [
    {
     "data": {
      "text/plain": [
       "DatetimeIndex(['2020-03-01', '2020-03-02', '2020-03-03', '2020-03-04',\n",
       "               '2020-03-05', '2020-03-06'],\n",
       "              dtype='datetime64[ns]', freq='D')"
      ]
     },
     "execution_count": 26,
     "metadata": {},
     "output_type": "execute_result"
    }
   ],
   "source": [
    "d = pd.date_range('20200301',periods=6)\n",
    "d"
   ]
  },
  {
   "cell_type": "code",
   "execution_count": 28,
   "id": "3e7e13cb",
   "metadata": {
    "ExecuteTime": {
     "end_time": "2023-02-06T18:12:19.564548Z",
     "start_time": "2023-02-06T18:12:19.545977Z"
    }
   },
   "outputs": [
    {
     "data": {
      "text/html": [
       "<div>\n",
       "<style scoped>\n",
       "    .dataframe tbody tr th:only-of-type {\n",
       "        vertical-align: middle;\n",
       "    }\n",
       "\n",
       "    .dataframe tbody tr th {\n",
       "        vertical-align: top;\n",
       "    }\n",
       "\n",
       "    .dataframe thead th {\n",
       "        text-align: right;\n",
       "    }\n",
       "</style>\n",
       "<table border=\"1\" class=\"dataframe\">\n",
       "  <thead>\n",
       "    <tr style=\"text-align: right;\">\n",
       "      <th></th>\n",
       "      <th>A</th>\n",
       "      <th>B</th>\n",
       "      <th>C</th>\n",
       "    </tr>\n",
       "  </thead>\n",
       "  <tbody>\n",
       "    <tr>\n",
       "      <th>2020-03-01</th>\n",
       "      <td>0.426834</td>\n",
       "      <td>-0.959286</td>\n",
       "      <td>-0.613088</td>\n",
       "    </tr>\n",
       "    <tr>\n",
       "      <th>2020-03-02</th>\n",
       "      <td>-1.674792</td>\n",
       "      <td>-0.722733</td>\n",
       "      <td>-1.041686</td>\n",
       "    </tr>\n",
       "    <tr>\n",
       "      <th>2020-03-03</th>\n",
       "      <td>1.612146</td>\n",
       "      <td>-0.541288</td>\n",
       "      <td>0.405522</td>\n",
       "    </tr>\n",
       "    <tr>\n",
       "      <th>2020-03-04</th>\n",
       "      <td>1.637041</td>\n",
       "      <td>1.490025</td>\n",
       "      <td>-0.092074</td>\n",
       "    </tr>\n",
       "    <tr>\n",
       "      <th>2020-03-05</th>\n",
       "      <td>-1.342561</td>\n",
       "      <td>1.334975</td>\n",
       "      <td>-0.910149</td>\n",
       "    </tr>\n",
       "    <tr>\n",
       "      <th>2020-03-06</th>\n",
       "      <td>0.658922</td>\n",
       "      <td>0.808265</td>\n",
       "      <td>0.585609</td>\n",
       "    </tr>\n",
       "  </tbody>\n",
       "</table>\n",
       "</div>"
      ],
      "text/plain": [
       "                   A         B         C\n",
       "2020-03-01  0.426834 -0.959286 -0.613088\n",
       "2020-03-02 -1.674792 -0.722733 -1.041686\n",
       "2020-03-03  1.612146 -0.541288  0.405522\n",
       "2020-03-04  1.637041  1.490025 -0.092074\n",
       "2020-03-05 -1.342561  1.334975 -0.910149\n",
       "2020-03-06  0.658922  0.808265  0.585609"
      ]
     },
     "execution_count": 28,
     "metadata": {},
     "output_type": "execute_result"
    }
   ],
   "source": [
    "df = pd.DataFrame(np.random.randn(6,3),index=d,columns=['A','B','C'])\n",
    "df"
   ]
  },
  {
   "cell_type": "code",
   "execution_count": 22,
   "id": "eb63a183",
   "metadata": {
    "ExecuteTime": {
     "end_time": "2023-02-06T18:11:21.493117Z",
     "start_time": "2023-02-06T18:11:21.471857Z"
    }
   },
   "outputs": [
    {
     "data": {
      "text/html": [
       "<div>\n",
       "<style scoped>\n",
       "    .dataframe tbody tr th:only-of-type {\n",
       "        vertical-align: middle;\n",
       "    }\n",
       "\n",
       "    .dataframe tbody tr th {\n",
       "        vertical-align: top;\n",
       "    }\n",
       "\n",
       "    .dataframe thead th {\n",
       "        text-align: right;\n",
       "    }\n",
       "</style>\n",
       "<table border=\"1\" class=\"dataframe\">\n",
       "  <thead>\n",
       "    <tr style=\"text-align: right;\">\n",
       "      <th></th>\n",
       "      <th>A</th>\n",
       "      <th>B</th>\n",
       "      <th>C</th>\n",
       "      <th>D</th>\n",
       "      <th>E</th>\n",
       "      <th>F</th>\n",
       "    </tr>\n",
       "  </thead>\n",
       "  <tbody>\n",
       "    <tr>\n",
       "      <th>0</th>\n",
       "      <td>1</td>\n",
       "      <td>2020-03-01</td>\n",
       "      <td>1.0</td>\n",
       "      <td>5</td>\n",
       "      <td>true</td>\n",
       "      <td>Amitabh</td>\n",
       "    </tr>\n",
       "    <tr>\n",
       "      <th>1</th>\n",
       "      <td>2</td>\n",
       "      <td>2020-03-01</td>\n",
       "      <td>1.0</td>\n",
       "      <td>5</td>\n",
       "      <td>false</td>\n",
       "      <td>Amitabh</td>\n",
       "    </tr>\n",
       "    <tr>\n",
       "      <th>2</th>\n",
       "      <td>3</td>\n",
       "      <td>2020-03-01</td>\n",
       "      <td>1.0</td>\n",
       "      <td>5</td>\n",
       "      <td>false</td>\n",
       "      <td>Amitabh</td>\n",
       "    </tr>\n",
       "    <tr>\n",
       "      <th>3</th>\n",
       "      <td>4</td>\n",
       "      <td>2020-03-01</td>\n",
       "      <td>1.0</td>\n",
       "      <td>5</td>\n",
       "      <td>true</td>\n",
       "      <td>Amitabh</td>\n",
       "    </tr>\n",
       "  </tbody>\n",
       "</table>\n",
       "</div>"
      ],
      "text/plain": [
       "   A          B    C  D      E        F\n",
       "0  1 2020-03-01  1.0  5   true  Amitabh\n",
       "1  2 2020-03-01  1.0  5  false  Amitabh\n",
       "2  3 2020-03-01  1.0  5  false  Amitabh\n",
       "3  4 2020-03-01  1.0  5   true  Amitabh"
      ]
     },
     "execution_count": 22,
     "metadata": {},
     "output_type": "execute_result"
    }
   ],
   "source": [
    "# creating dataframe passing a dictionary\n",
    "df1 = pd.DataFrame({\n",
    "    'A':[1,2,3,4], \n",
    "    'B':pd.Timestamp('20200301'),\n",
    "    'C':pd.Series(1,index=list(range(4)),dtype='float32'),\n",
    "    'D':np.array([5]*4,dtype='int32'),\n",
    "    'E':pd.Categorical(['true','false','false','true']),\n",
    "    'F':'Amitabh'\n",
    "})\n",
    "df1"
   ]
  },
  {
   "cell_type": "code",
   "execution_count": 23,
   "id": "a06612a9",
   "metadata": {
    "ExecuteTime": {
     "end_time": "2023-02-06T18:11:25.552849Z",
     "start_time": "2023-02-06T18:11:25.545027Z"
    }
   },
   "outputs": [
    {
     "data": {
      "text/plain": [
       "A    float64\n",
       "B    float64\n",
       "C    float64\n",
       "dtype: object"
      ]
     },
     "execution_count": 23,
     "metadata": {},
     "output_type": "execute_result"
    }
   ],
   "source": [
    "df.dtypes"
   ]
  },
  {
   "cell_type": "markdown",
   "id": "2b5d1df5",
   "metadata": {
    "ExecuteTime": {
     "end_time": "2023-02-06T16:41:27.926650Z",
     "start_time": "2023-02-06T16:41:27.923458Z"
    }
   },
   "source": [
    "### View Data"
   ]
  },
  {
   "cell_type": "code",
   "execution_count": 29,
   "id": "4a24d670",
   "metadata": {
    "ExecuteTime": {
     "end_time": "2023-02-06T18:12:28.252613Z",
     "start_time": "2023-02-06T18:12:28.240179Z"
    }
   },
   "outputs": [
    {
     "data": {
      "text/html": [
       "<div>\n",
       "<style scoped>\n",
       "    .dataframe tbody tr th:only-of-type {\n",
       "        vertical-align: middle;\n",
       "    }\n",
       "\n",
       "    .dataframe tbody tr th {\n",
       "        vertical-align: top;\n",
       "    }\n",
       "\n",
       "    .dataframe thead th {\n",
       "        text-align: right;\n",
       "    }\n",
       "</style>\n",
       "<table border=\"1\" class=\"dataframe\">\n",
       "  <thead>\n",
       "    <tr style=\"text-align: right;\">\n",
       "      <th></th>\n",
       "      <th>A</th>\n",
       "      <th>B</th>\n",
       "      <th>C</th>\n",
       "    </tr>\n",
       "  </thead>\n",
       "  <tbody>\n",
       "    <tr>\n",
       "      <th>2020-03-01</th>\n",
       "      <td>0.426834</td>\n",
       "      <td>-0.959286</td>\n",
       "      <td>-0.613088</td>\n",
       "    </tr>\n",
       "    <tr>\n",
       "      <th>2020-03-02</th>\n",
       "      <td>-1.674792</td>\n",
       "      <td>-0.722733</td>\n",
       "      <td>-1.041686</td>\n",
       "    </tr>\n",
       "    <tr>\n",
       "      <th>2020-03-03</th>\n",
       "      <td>1.612146</td>\n",
       "      <td>-0.541288</td>\n",
       "      <td>0.405522</td>\n",
       "    </tr>\n",
       "  </tbody>\n",
       "</table>\n",
       "</div>"
      ],
      "text/plain": [
       "                   A         B         C\n",
       "2020-03-01  0.426834 -0.959286 -0.613088\n",
       "2020-03-02 -1.674792 -0.722733 -1.041686\n",
       "2020-03-03  1.612146 -0.541288  0.405522"
      ]
     },
     "execution_count": 29,
     "metadata": {},
     "output_type": "execute_result"
    }
   ],
   "source": [
    "df.head(3)"
   ]
  },
  {
   "cell_type": "code",
   "execution_count": 30,
   "id": "3ac30e20",
   "metadata": {
    "ExecuteTime": {
     "end_time": "2023-02-06T18:12:38.261691Z",
     "start_time": "2023-02-06T18:12:38.246573Z"
    }
   },
   "outputs": [
    {
     "data": {
      "text/html": [
       "<div>\n",
       "<style scoped>\n",
       "    .dataframe tbody tr th:only-of-type {\n",
       "        vertical-align: middle;\n",
       "    }\n",
       "\n",
       "    .dataframe tbody tr th {\n",
       "        vertical-align: top;\n",
       "    }\n",
       "\n",
       "    .dataframe thead th {\n",
       "        text-align: right;\n",
       "    }\n",
       "</style>\n",
       "<table border=\"1\" class=\"dataframe\">\n",
       "  <thead>\n",
       "    <tr style=\"text-align: right;\">\n",
       "      <th></th>\n",
       "      <th>A</th>\n",
       "      <th>B</th>\n",
       "      <th>C</th>\n",
       "    </tr>\n",
       "  </thead>\n",
       "  <tbody>\n",
       "    <tr>\n",
       "      <th>2020-03-05</th>\n",
       "      <td>-1.342561</td>\n",
       "      <td>1.334975</td>\n",
       "      <td>-0.910149</td>\n",
       "    </tr>\n",
       "    <tr>\n",
       "      <th>2020-03-06</th>\n",
       "      <td>0.658922</td>\n",
       "      <td>0.808265</td>\n",
       "      <td>0.585609</td>\n",
       "    </tr>\n",
       "  </tbody>\n",
       "</table>\n",
       "</div>"
      ],
      "text/plain": [
       "                   A         B         C\n",
       "2020-03-05 -1.342561  1.334975 -0.910149\n",
       "2020-03-06  0.658922  0.808265  0.585609"
      ]
     },
     "execution_count": 30,
     "metadata": {},
     "output_type": "execute_result"
    }
   ],
   "source": [
    "df.tail(2)"
   ]
  },
  {
   "cell_type": "code",
   "execution_count": 31,
   "id": "0b20d0f3",
   "metadata": {
    "ExecuteTime": {
     "end_time": "2023-02-06T18:18:02.147865Z",
     "start_time": "2023-02-06T18:18:02.141622Z"
    }
   },
   "outputs": [
    {
     "data": {
      "text/plain": [
       "DatetimeIndex(['2020-03-01', '2020-03-02', '2020-03-03', '2020-03-04',\n",
       "               '2020-03-05', '2020-03-06'],\n",
       "              dtype='datetime64[ns]', freq='D')"
      ]
     },
     "execution_count": 31,
     "metadata": {},
     "output_type": "execute_result"
    }
   ],
   "source": [
    "df.index"
   ]
  },
  {
   "cell_type": "code",
   "execution_count": 32,
   "id": "ec1d5b78",
   "metadata": {
    "ExecuteTime": {
     "end_time": "2023-02-06T18:18:31.862220Z",
     "start_time": "2023-02-06T18:18:31.856631Z"
    }
   },
   "outputs": [
    {
     "data": {
      "text/plain": [
       "Index(['A', 'B', 'C'], dtype='object')"
      ]
     },
     "execution_count": 32,
     "metadata": {},
     "output_type": "execute_result"
    }
   ],
   "source": [
    "df.columns"
   ]
  },
  {
   "cell_type": "code",
   "execution_count": 33,
   "id": "4d458264",
   "metadata": {
    "ExecuteTime": {
     "end_time": "2023-02-06T18:18:54.761421Z",
     "start_time": "2023-02-06T18:18:54.755923Z"
    }
   },
   "outputs": [
    {
     "data": {
      "text/plain": [
       "array([[ 0.42683423, -0.9592859 , -0.613088  ],\n",
       "       [-1.67479242, -0.72273338, -1.04168631],\n",
       "       [ 1.6121459 , -0.54128812,  0.40552172],\n",
       "       [ 1.63704148,  1.49002498, -0.09207375],\n",
       "       [-1.34256084,  1.3349748 , -0.91014853],\n",
       "       [ 0.65892155,  0.80826462,  0.58560918]])"
      ]
     },
     "execution_count": 33,
     "metadata": {},
     "output_type": "execute_result"
    }
   ],
   "source": [
    "df.to_numpy()"
   ]
  },
  {
   "cell_type": "code",
   "execution_count": 35,
   "id": "7d320a2d",
   "metadata": {
    "ExecuteTime": {
     "end_time": "2023-02-06T18:19:46.675138Z",
     "start_time": "2023-02-06T18:19:46.645609Z"
    }
   },
   "outputs": [
    {
     "data": {
      "text/html": [
       "<div>\n",
       "<style scoped>\n",
       "    .dataframe tbody tr th:only-of-type {\n",
       "        vertical-align: middle;\n",
       "    }\n",
       "\n",
       "    .dataframe tbody tr th {\n",
       "        vertical-align: top;\n",
       "    }\n",
       "\n",
       "    .dataframe thead th {\n",
       "        text-align: right;\n",
       "    }\n",
       "</style>\n",
       "<table border=\"1\" class=\"dataframe\">\n",
       "  <thead>\n",
       "    <tr style=\"text-align: right;\">\n",
       "      <th></th>\n",
       "      <th>A</th>\n",
       "      <th>B</th>\n",
       "      <th>C</th>\n",
       "    </tr>\n",
       "  </thead>\n",
       "  <tbody>\n",
       "    <tr>\n",
       "      <th>count</th>\n",
       "      <td>6.000000</td>\n",
       "      <td>6.000000</td>\n",
       "      <td>6.000000</td>\n",
       "    </tr>\n",
       "    <tr>\n",
       "      <th>mean</th>\n",
       "      <td>0.219598</td>\n",
       "      <td>0.234993</td>\n",
       "      <td>-0.277644</td>\n",
       "    </tr>\n",
       "    <tr>\n",
       "      <th>std</th>\n",
       "      <td>1.429220</td>\n",
       "      <td>1.100896</td>\n",
       "      <td>0.684500</td>\n",
       "    </tr>\n",
       "    <tr>\n",
       "      <th>min</th>\n",
       "      <td>-1.674792</td>\n",
       "      <td>-0.959286</td>\n",
       "      <td>-1.041686</td>\n",
       "    </tr>\n",
       "    <tr>\n",
       "      <th>25%</th>\n",
       "      <td>-0.900212</td>\n",
       "      <td>-0.677372</td>\n",
       "      <td>-0.835883</td>\n",
       "    </tr>\n",
       "    <tr>\n",
       "      <th>50%</th>\n",
       "      <td>0.542878</td>\n",
       "      <td>0.133488</td>\n",
       "      <td>-0.352581</td>\n",
       "    </tr>\n",
       "    <tr>\n",
       "      <th>75%</th>\n",
       "      <td>1.373840</td>\n",
       "      <td>1.203297</td>\n",
       "      <td>0.281123</td>\n",
       "    </tr>\n",
       "    <tr>\n",
       "      <th>max</th>\n",
       "      <td>1.637041</td>\n",
       "      <td>1.490025</td>\n",
       "      <td>0.585609</td>\n",
       "    </tr>\n",
       "  </tbody>\n",
       "</table>\n",
       "</div>"
      ],
      "text/plain": [
       "              A         B         C\n",
       "count  6.000000  6.000000  6.000000\n",
       "mean   0.219598  0.234993 -0.277644\n",
       "std    1.429220  1.100896  0.684500\n",
       "min   -1.674792 -0.959286 -1.041686\n",
       "25%   -0.900212 -0.677372 -0.835883\n",
       "50%    0.542878  0.133488 -0.352581\n",
       "75%    1.373840  1.203297  0.281123\n",
       "max    1.637041  1.490025  0.585609"
      ]
     },
     "execution_count": 35,
     "metadata": {},
     "output_type": "execute_result"
    }
   ],
   "source": [
    "df.describe()"
   ]
  },
  {
   "cell_type": "code",
   "execution_count": 36,
   "id": "1865143d",
   "metadata": {
    "ExecuteTime": {
     "end_time": "2023-02-06T18:20:35.634277Z",
     "start_time": "2023-02-06T18:20:35.612762Z"
    }
   },
   "outputs": [
    {
     "data": {
      "text/html": [
       "<div>\n",
       "<style scoped>\n",
       "    .dataframe tbody tr th:only-of-type {\n",
       "        vertical-align: middle;\n",
       "    }\n",
       "\n",
       "    .dataframe tbody tr th {\n",
       "        vertical-align: top;\n",
       "    }\n",
       "\n",
       "    .dataframe thead th {\n",
       "        text-align: right;\n",
       "    }\n",
       "</style>\n",
       "<table border=\"1\" class=\"dataframe\">\n",
       "  <thead>\n",
       "    <tr style=\"text-align: right;\">\n",
       "      <th></th>\n",
       "      <th>A</th>\n",
       "      <th>B</th>\n",
       "      <th>C</th>\n",
       "    </tr>\n",
       "  </thead>\n",
       "  <tbody>\n",
       "    <tr>\n",
       "      <th>2020-03-01</th>\n",
       "      <td>0.426834</td>\n",
       "      <td>-0.959286</td>\n",
       "      <td>-0.613088</td>\n",
       "    </tr>\n",
       "    <tr>\n",
       "      <th>2020-03-02</th>\n",
       "      <td>-1.674792</td>\n",
       "      <td>-0.722733</td>\n",
       "      <td>-1.041686</td>\n",
       "    </tr>\n",
       "    <tr>\n",
       "      <th>2020-03-03</th>\n",
       "      <td>1.612146</td>\n",
       "      <td>-0.541288</td>\n",
       "      <td>0.405522</td>\n",
       "    </tr>\n",
       "    <tr>\n",
       "      <th>2020-03-04</th>\n",
       "      <td>1.637041</td>\n",
       "      <td>1.490025</td>\n",
       "      <td>-0.092074</td>\n",
       "    </tr>\n",
       "    <tr>\n",
       "      <th>2020-03-05</th>\n",
       "      <td>-1.342561</td>\n",
       "      <td>1.334975</td>\n",
       "      <td>-0.910149</td>\n",
       "    </tr>\n",
       "    <tr>\n",
       "      <th>2020-03-06</th>\n",
       "      <td>0.658922</td>\n",
       "      <td>0.808265</td>\n",
       "      <td>0.585609</td>\n",
       "    </tr>\n",
       "  </tbody>\n",
       "</table>\n",
       "</div>"
      ],
      "text/plain": [
       "                   A         B         C\n",
       "2020-03-01  0.426834 -0.959286 -0.613088\n",
       "2020-03-02 -1.674792 -0.722733 -1.041686\n",
       "2020-03-03  1.612146 -0.541288  0.405522\n",
       "2020-03-04  1.637041  1.490025 -0.092074\n",
       "2020-03-05 -1.342561  1.334975 -0.910149\n",
       "2020-03-06  0.658922  0.808265  0.585609"
      ]
     },
     "execution_count": 36,
     "metadata": {},
     "output_type": "execute_result"
    }
   ],
   "source": [
    "df.sort_index(axis=1,ascending=True)"
   ]
  },
  {
   "cell_type": "code",
   "execution_count": 39,
   "id": "d2ef4317",
   "metadata": {
    "ExecuteTime": {
     "end_time": "2023-02-06T18:22:23.051078Z",
     "start_time": "2023-02-06T18:22:23.036796Z"
    },
    "scrolled": true
   },
   "outputs": [
    {
     "data": {
      "text/html": [
       "<div>\n",
       "<style scoped>\n",
       "    .dataframe tbody tr th:only-of-type {\n",
       "        vertical-align: middle;\n",
       "    }\n",
       "\n",
       "    .dataframe tbody tr th {\n",
       "        vertical-align: top;\n",
       "    }\n",
       "\n",
       "    .dataframe thead th {\n",
       "        text-align: right;\n",
       "    }\n",
       "</style>\n",
       "<table border=\"1\" class=\"dataframe\">\n",
       "  <thead>\n",
       "    <tr style=\"text-align: right;\">\n",
       "      <th></th>\n",
       "      <th>A</th>\n",
       "      <th>B</th>\n",
       "      <th>C</th>\n",
       "    </tr>\n",
       "  </thead>\n",
       "  <tbody>\n",
       "    <tr>\n",
       "      <th>2020-03-01</th>\n",
       "      <td>0.426834</td>\n",
       "      <td>-0.959286</td>\n",
       "      <td>-0.613088</td>\n",
       "    </tr>\n",
       "    <tr>\n",
       "      <th>2020-03-02</th>\n",
       "      <td>-1.674792</td>\n",
       "      <td>-0.722733</td>\n",
       "      <td>-1.041686</td>\n",
       "    </tr>\n",
       "    <tr>\n",
       "      <th>2020-03-03</th>\n",
       "      <td>1.612146</td>\n",
       "      <td>-0.541288</td>\n",
       "      <td>0.405522</td>\n",
       "    </tr>\n",
       "    <tr>\n",
       "      <th>2020-03-06</th>\n",
       "      <td>0.658922</td>\n",
       "      <td>0.808265</td>\n",
       "      <td>0.585609</td>\n",
       "    </tr>\n",
       "    <tr>\n",
       "      <th>2020-03-05</th>\n",
       "      <td>-1.342561</td>\n",
       "      <td>1.334975</td>\n",
       "      <td>-0.910149</td>\n",
       "    </tr>\n",
       "    <tr>\n",
       "      <th>2020-03-04</th>\n",
       "      <td>1.637041</td>\n",
       "      <td>1.490025</td>\n",
       "      <td>-0.092074</td>\n",
       "    </tr>\n",
       "  </tbody>\n",
       "</table>\n",
       "</div>"
      ],
      "text/plain": [
       "                   A         B         C\n",
       "2020-03-01  0.426834 -0.959286 -0.613088\n",
       "2020-03-02 -1.674792 -0.722733 -1.041686\n",
       "2020-03-03  1.612146 -0.541288  0.405522\n",
       "2020-03-06  0.658922  0.808265  0.585609\n",
       "2020-03-05 -1.342561  1.334975 -0.910149\n",
       "2020-03-04  1.637041  1.490025 -0.092074"
      ]
     },
     "execution_count": 39,
     "metadata": {},
     "output_type": "execute_result"
    }
   ],
   "source": [
    "df.sort_values(by='B',ascending=True)"
   ]
  },
  {
   "cell_type": "code",
   "execution_count": 41,
   "id": "29936df8",
   "metadata": {
    "ExecuteTime": {
     "end_time": "2023-02-06T18:22:55.410743Z",
     "start_time": "2023-02-06T18:22:55.404395Z"
    }
   },
   "outputs": [
    {
     "data": {
      "text/plain": [
       "2020-03-01   -0.959286\n",
       "2020-03-02   -0.722733\n",
       "2020-03-03   -0.541288\n",
       "2020-03-04    1.490025\n",
       "2020-03-05    1.334975\n",
       "2020-03-06    0.808265\n",
       "Freq: D, Name: B, dtype: float64"
      ]
     },
     "execution_count": 41,
     "metadata": {},
     "output_type": "execute_result"
    }
   ],
   "source": [
    "df['B']"
   ]
  },
  {
   "cell_type": "code",
   "execution_count": 46,
   "id": "3b67b503",
   "metadata": {
    "ExecuteTime": {
     "end_time": "2023-02-06T18:24:07.047875Z",
     "start_time": "2023-02-06T18:24:07.034371Z"
    }
   },
   "outputs": [
    {
     "data": {
      "text/html": [
       "<div>\n",
       "<style scoped>\n",
       "    .dataframe tbody tr th:only-of-type {\n",
       "        vertical-align: middle;\n",
       "    }\n",
       "\n",
       "    .dataframe tbody tr th {\n",
       "        vertical-align: top;\n",
       "    }\n",
       "\n",
       "    .dataframe thead th {\n",
       "        text-align: right;\n",
       "    }\n",
       "</style>\n",
       "<table border=\"1\" class=\"dataframe\">\n",
       "  <thead>\n",
       "    <tr style=\"text-align: right;\">\n",
       "      <th></th>\n",
       "      <th>A</th>\n",
       "      <th>B</th>\n",
       "      <th>C</th>\n",
       "    </tr>\n",
       "  </thead>\n",
       "  <tbody>\n",
       "    <tr>\n",
       "      <th>2020-03-01</th>\n",
       "      <td>0.426834</td>\n",
       "      <td>-0.959286</td>\n",
       "      <td>-0.613088</td>\n",
       "    </tr>\n",
       "    <tr>\n",
       "      <th>2020-03-02</th>\n",
       "      <td>-1.674792</td>\n",
       "      <td>-0.722733</td>\n",
       "      <td>-1.041686</td>\n",
       "    </tr>\n",
       "    <tr>\n",
       "      <th>2020-03-03</th>\n",
       "      <td>1.612146</td>\n",
       "      <td>-0.541288</td>\n",
       "      <td>0.405522</td>\n",
       "    </tr>\n",
       "    <tr>\n",
       "      <th>2020-03-04</th>\n",
       "      <td>1.637041</td>\n",
       "      <td>1.490025</td>\n",
       "      <td>-0.092074</td>\n",
       "    </tr>\n",
       "  </tbody>\n",
       "</table>\n",
       "</div>"
      ],
      "text/plain": [
       "                   A         B         C\n",
       "2020-03-01  0.426834 -0.959286 -0.613088\n",
       "2020-03-02 -1.674792 -0.722733 -1.041686\n",
       "2020-03-03  1.612146 -0.541288  0.405522\n",
       "2020-03-04  1.637041  1.490025 -0.092074"
      ]
     },
     "execution_count": 46,
     "metadata": {},
     "output_type": "execute_result"
    }
   ],
   "source": [
    "df[0:4]"
   ]
  },
  {
   "cell_type": "code",
   "execution_count": 45,
   "id": "4e8d2d50",
   "metadata": {
    "ExecuteTime": {
     "end_time": "2023-02-06T18:23:57.572557Z",
     "start_time": "2023-02-06T18:23:57.559656Z"
    }
   },
   "outputs": [
    {
     "data": {
      "text/html": [
       "<div>\n",
       "<style scoped>\n",
       "    .dataframe tbody tr th:only-of-type {\n",
       "        vertical-align: middle;\n",
       "    }\n",
       "\n",
       "    .dataframe tbody tr th {\n",
       "        vertical-align: top;\n",
       "    }\n",
       "\n",
       "    .dataframe thead th {\n",
       "        text-align: right;\n",
       "    }\n",
       "</style>\n",
       "<table border=\"1\" class=\"dataframe\">\n",
       "  <thead>\n",
       "    <tr style=\"text-align: right;\">\n",
       "      <th></th>\n",
       "      <th>A</th>\n",
       "      <th>B</th>\n",
       "      <th>C</th>\n",
       "    </tr>\n",
       "  </thead>\n",
       "  <tbody>\n",
       "    <tr>\n",
       "      <th>2020-03-03</th>\n",
       "      <td>1.612146</td>\n",
       "      <td>-0.541288</td>\n",
       "      <td>0.405522</td>\n",
       "    </tr>\n",
       "    <tr>\n",
       "      <th>2020-03-04</th>\n",
       "      <td>1.637041</td>\n",
       "      <td>1.490025</td>\n",
       "      <td>-0.092074</td>\n",
       "    </tr>\n",
       "  </tbody>\n",
       "</table>\n",
       "</div>"
      ],
      "text/plain": [
       "                   A         B         C\n",
       "2020-03-03  1.612146 -0.541288  0.405522\n",
       "2020-03-04  1.637041  1.490025 -0.092074"
      ]
     },
     "execution_count": 45,
     "metadata": {},
     "output_type": "execute_result"
    }
   ],
   "source": [
    "df[2:4]"
   ]
  },
  {
   "cell_type": "code",
   "execution_count": 47,
   "id": "7e092bff",
   "metadata": {
    "ExecuteTime": {
     "end_time": "2023-02-06T18:24:45.616347Z",
     "start_time": "2023-02-06T18:24:45.602428Z"
    }
   },
   "outputs": [
    {
     "data": {
      "text/plain": [
       "A    0.426834\n",
       "B   -0.959286\n",
       "C   -0.613088\n",
       "Name: 2020-03-01 00:00:00, dtype: float64"
      ]
     },
     "execution_count": 47,
     "metadata": {},
     "output_type": "execute_result"
    }
   ],
   "source": [
    "df.loc[d[0]]"
   ]
  },
  {
   "cell_type": "code",
   "execution_count": 53,
   "id": "796ce382",
   "metadata": {
    "ExecuteTime": {
     "end_time": "2023-02-06T18:26:14.459433Z",
     "start_time": "2023-02-06T18:26:14.439809Z"
    }
   },
   "outputs": [
    {
     "data": {
      "text/html": [
       "<div>\n",
       "<style scoped>\n",
       "    .dataframe tbody tr th:only-of-type {\n",
       "        vertical-align: middle;\n",
       "    }\n",
       "\n",
       "    .dataframe tbody tr th {\n",
       "        vertical-align: top;\n",
       "    }\n",
       "\n",
       "    .dataframe thead th {\n",
       "        text-align: right;\n",
       "    }\n",
       "</style>\n",
       "<table border=\"1\" class=\"dataframe\">\n",
       "  <thead>\n",
       "    <tr style=\"text-align: right;\">\n",
       "      <th></th>\n",
       "      <th>B</th>\n",
       "      <th>C</th>\n",
       "    </tr>\n",
       "  </thead>\n",
       "  <tbody>\n",
       "    <tr>\n",
       "      <th>2020-03-01</th>\n",
       "      <td>-0.959286</td>\n",
       "      <td>-0.613088</td>\n",
       "    </tr>\n",
       "    <tr>\n",
       "      <th>2020-03-03</th>\n",
       "      <td>-0.541288</td>\n",
       "      <td>0.405522</td>\n",
       "    </tr>\n",
       "    <tr>\n",
       "      <th>2020-03-05</th>\n",
       "      <td>1.334975</td>\n",
       "      <td>-0.910149</td>\n",
       "    </tr>\n",
       "  </tbody>\n",
       "</table>\n",
       "</div>"
      ],
      "text/plain": [
       "                   B         C\n",
       "2020-03-01 -0.959286 -0.613088\n",
       "2020-03-03 -0.541288  0.405522\n",
       "2020-03-05  1.334975 -0.910149"
      ]
     },
     "execution_count": 53,
     "metadata": {},
     "output_type": "execute_result"
    }
   ],
   "source": [
    "df.loc[::2,['B','C']]# ::2 alternate rows, ['B','C'] columns"
   ]
  },
  {
   "cell_type": "code",
   "execution_count": 55,
   "id": "04fc79d2",
   "metadata": {
    "ExecuteTime": {
     "end_time": "2023-02-06T18:27:52.037467Z",
     "start_time": "2023-02-06T18:27:52.031933Z"
    }
   },
   "outputs": [
    {
     "data": {
      "text/plain": [
       "0.40552172395240743"
      ]
     },
     "execution_count": 55,
     "metadata": {},
     "output_type": "execute_result"
    }
   ],
   "source": [
    "df.at[d[2],'C']"
   ]
  },
  {
   "cell_type": "code",
   "execution_count": 58,
   "id": "7694aac8",
   "metadata": {
    "ExecuteTime": {
     "end_time": "2023-02-06T18:43:09.717762Z",
     "start_time": "2023-02-06T18:43:09.710265Z"
    }
   },
   "outputs": [
    {
     "data": {
      "text/plain": [
       "A   -1.342561\n",
       "B    1.334975\n",
       "C   -0.910149\n",
       "Name: 2020-03-05 00:00:00, dtype: float64"
      ]
     },
     "execution_count": 58,
     "metadata": {},
     "output_type": "execute_result"
    }
   ],
   "source": [
    "# using positions\n",
    "df.iloc[4]  # 5th row"
   ]
  },
  {
   "cell_type": "code",
   "execution_count": 59,
   "id": "374d16f4",
   "metadata": {
    "ExecuteTime": {
     "end_time": "2023-02-06T18:43:33.871467Z",
     "start_time": "2023-02-06T18:43:33.866936Z"
    }
   },
   "outputs": [
    {
     "data": {
      "text/plain": [
       "-0.9101485262141855"
      ]
     },
     "execution_count": 59,
     "metadata": {},
     "output_type": "execute_result"
    }
   ],
   "source": [
    "df.iloc[4,2]  # 5th row 3rd col"
   ]
  },
  {
   "cell_type": "code",
   "execution_count": 60,
   "id": "9e62fa69",
   "metadata": {
    "ExecuteTime": {
     "end_time": "2023-02-06T18:46:23.175933Z",
     "start_time": "2023-02-06T18:46:23.158000Z"
    }
   },
   "outputs": [
    {
     "data": {
      "text/html": [
       "<div>\n",
       "<style scoped>\n",
       "    .dataframe tbody tr th:only-of-type {\n",
       "        vertical-align: middle;\n",
       "    }\n",
       "\n",
       "    .dataframe tbody tr th {\n",
       "        vertical-align: top;\n",
       "    }\n",
       "\n",
       "    .dataframe thead th {\n",
       "        text-align: right;\n",
       "    }\n",
       "</style>\n",
       "<table border=\"1\" class=\"dataframe\">\n",
       "  <thead>\n",
       "    <tr style=\"text-align: right;\">\n",
       "      <th></th>\n",
       "      <th>A</th>\n",
       "      <th>B</th>\n",
       "    </tr>\n",
       "  </thead>\n",
       "  <tbody>\n",
       "    <tr>\n",
       "      <th>2020-03-04</th>\n",
       "      <td>1.637041</td>\n",
       "      <td>1.490025</td>\n",
       "    </tr>\n",
       "    <tr>\n",
       "      <th>2020-03-05</th>\n",
       "      <td>-1.342561</td>\n",
       "      <td>1.334975</td>\n",
       "    </tr>\n",
       "  </tbody>\n",
       "</table>\n",
       "</div>"
      ],
      "text/plain": [
       "                   A         B\n",
       "2020-03-04  1.637041  1.490025\n",
       "2020-03-05 -1.342561  1.334975"
      ]
     },
     "execution_count": 60,
     "metadata": {},
     "output_type": "execute_result"
    }
   ],
   "source": [
    "df.iloc[3:5,0:2]  # 5th row 3rd col"
   ]
  },
  {
   "cell_type": "code",
   "execution_count": 64,
   "id": "52b73ac4",
   "metadata": {
    "ExecuteTime": {
     "end_time": "2023-02-06T18:48:54.586177Z",
     "start_time": "2023-02-06T18:48:54.570916Z"
    }
   },
   "outputs": [
    {
     "data": {
      "text/html": [
       "<div>\n",
       "<style scoped>\n",
       "    .dataframe tbody tr th:only-of-type {\n",
       "        vertical-align: middle;\n",
       "    }\n",
       "\n",
       "    .dataframe tbody tr th {\n",
       "        vertical-align: top;\n",
       "    }\n",
       "\n",
       "    .dataframe thead th {\n",
       "        text-align: right;\n",
       "    }\n",
       "</style>\n",
       "<table border=\"1\" class=\"dataframe\">\n",
       "  <thead>\n",
       "    <tr style=\"text-align: right;\">\n",
       "      <th></th>\n",
       "      <th>A</th>\n",
       "      <th>B</th>\n",
       "      <th>C</th>\n",
       "    </tr>\n",
       "  </thead>\n",
       "  <tbody>\n",
       "    <tr>\n",
       "      <th>2020-03-01</th>\n",
       "      <td>0.426834</td>\n",
       "      <td>-0.959286</td>\n",
       "      <td>-0.613088</td>\n",
       "    </tr>\n",
       "    <tr>\n",
       "      <th>2020-03-03</th>\n",
       "      <td>1.612146</td>\n",
       "      <td>-0.541288</td>\n",
       "      <td>0.405522</td>\n",
       "    </tr>\n",
       "    <tr>\n",
       "      <th>2020-03-04</th>\n",
       "      <td>1.637041</td>\n",
       "      <td>1.490025</td>\n",
       "      <td>-0.092074</td>\n",
       "    </tr>\n",
       "    <tr>\n",
       "      <th>2020-03-06</th>\n",
       "      <td>0.658922</td>\n",
       "      <td>0.808265</td>\n",
       "      <td>0.585609</td>\n",
       "    </tr>\n",
       "  </tbody>\n",
       "</table>\n",
       "</div>"
      ],
      "text/plain": [
       "                   A         B         C\n",
       "2020-03-01  0.426834 -0.959286 -0.613088\n",
       "2020-03-03  1.612146 -0.541288  0.405522\n",
       "2020-03-04  1.637041  1.490025 -0.092074\n",
       "2020-03-06  0.658922  0.808265  0.585609"
      ]
     },
     "execution_count": 64,
     "metadata": {},
     "output_type": "execute_result"
    }
   ],
   "source": [
    "# where column A value is greater than 0\n",
    "df[df['A']>0]"
   ]
  },
  {
   "cell_type": "code",
   "execution_count": 65,
   "id": "68457901",
   "metadata": {
    "ExecuteTime": {
     "end_time": "2023-02-06T18:49:22.129204Z",
     "start_time": "2023-02-06T18:49:22.114257Z"
    }
   },
   "outputs": [
    {
     "data": {
      "text/html": [
       "<div>\n",
       "<style scoped>\n",
       "    .dataframe tbody tr th:only-of-type {\n",
       "        vertical-align: middle;\n",
       "    }\n",
       "\n",
       "    .dataframe tbody tr th {\n",
       "        vertical-align: top;\n",
       "    }\n",
       "\n",
       "    .dataframe thead th {\n",
       "        text-align: right;\n",
       "    }\n",
       "</style>\n",
       "<table border=\"1\" class=\"dataframe\">\n",
       "  <thead>\n",
       "    <tr style=\"text-align: right;\">\n",
       "      <th></th>\n",
       "      <th>A</th>\n",
       "      <th>B</th>\n",
       "      <th>C</th>\n",
       "    </tr>\n",
       "  </thead>\n",
       "  <tbody>\n",
       "    <tr>\n",
       "      <th>2020-03-03</th>\n",
       "      <td>1.612146</td>\n",
       "      <td>-0.541288</td>\n",
       "      <td>0.405522</td>\n",
       "    </tr>\n",
       "    <tr>\n",
       "      <th>2020-03-04</th>\n",
       "      <td>1.637041</td>\n",
       "      <td>1.490025</td>\n",
       "      <td>-0.092074</td>\n",
       "    </tr>\n",
       "  </tbody>\n",
       "</table>\n",
       "</div>"
      ],
      "text/plain": [
       "                   A         B         C\n",
       "2020-03-03  1.612146 -0.541288  0.405522\n",
       "2020-03-04  1.637041  1.490025 -0.092074"
      ]
     },
     "execution_count": 65,
     "metadata": {},
     "output_type": "execute_result"
    }
   ],
   "source": [
    "df[df['A']>1]"
   ]
  },
  {
   "cell_type": "markdown",
   "id": "f40e9dc9",
   "metadata": {},
   "source": [
    "### Handling Missing data "
   ]
  },
  {
   "cell_type": "code",
   "execution_count": 70,
   "id": "9506b782",
   "metadata": {
    "ExecuteTime": {
     "end_time": "2023-02-06T18:53:26.284166Z",
     "start_time": "2023-02-06T18:53:26.261208Z"
    }
   },
   "outputs": [
    {
     "data": {
      "text/html": [
       "<div>\n",
       "<style scoped>\n",
       "    .dataframe tbody tr th:only-of-type {\n",
       "        vertical-align: middle;\n",
       "    }\n",
       "\n",
       "    .dataframe tbody tr th {\n",
       "        vertical-align: top;\n",
       "    }\n",
       "\n",
       "    .dataframe thead th {\n",
       "        text-align: right;\n",
       "    }\n",
       "</style>\n",
       "<table border=\"1\" class=\"dataframe\">\n",
       "  <thead>\n",
       "    <tr style=\"text-align: right;\">\n",
       "      <th></th>\n",
       "      <th>A</th>\n",
       "      <th>B</th>\n",
       "      <th>C</th>\n",
       "      <th>D</th>\n",
       "    </tr>\n",
       "  </thead>\n",
       "  <tbody>\n",
       "    <tr>\n",
       "      <th>2020-03-01</th>\n",
       "      <td>0.426834</td>\n",
       "      <td>-0.959286</td>\n",
       "      <td>-0.613088</td>\n",
       "      <td>5.0</td>\n",
       "    </tr>\n",
       "    <tr>\n",
       "      <th>2020-03-02</th>\n",
       "      <td>-1.674792</td>\n",
       "      <td>-0.722733</td>\n",
       "      <td>-1.041686</td>\n",
       "      <td>5.0</td>\n",
       "    </tr>\n",
       "    <tr>\n",
       "      <th>2020-03-03</th>\n",
       "      <td>1.612146</td>\n",
       "      <td>-0.541288</td>\n",
       "      <td>0.405522</td>\n",
       "      <td>5.0</td>\n",
       "    </tr>\n",
       "    <tr>\n",
       "      <th>2020-03-04</th>\n",
       "      <td>1.637041</td>\n",
       "      <td>1.490025</td>\n",
       "      <td>-0.092074</td>\n",
       "      <td>NaN</td>\n",
       "    </tr>\n",
       "    <tr>\n",
       "      <th>2020-03-05</th>\n",
       "      <td>-1.342561</td>\n",
       "      <td>1.334975</td>\n",
       "      <td>-0.910149</td>\n",
       "      <td>NaN</td>\n",
       "    </tr>\n",
       "    <tr>\n",
       "      <th>2020-03-06</th>\n",
       "      <td>0.658922</td>\n",
       "      <td>0.808265</td>\n",
       "      <td>0.585609</td>\n",
       "      <td>NaN</td>\n",
       "    </tr>\n",
       "  </tbody>\n",
       "</table>\n",
       "</div>"
      ],
      "text/plain": [
       "                   A         B         C    D\n",
       "2020-03-01  0.426834 -0.959286 -0.613088  5.0\n",
       "2020-03-02 -1.674792 -0.722733 -1.041686  5.0\n",
       "2020-03-03  1.612146 -0.541288  0.405522  5.0\n",
       "2020-03-04  1.637041  1.490025 -0.092074  NaN\n",
       "2020-03-05 -1.342561  1.334975 -0.910149  NaN\n",
       "2020-03-06  0.658922  0.808265  0.585609  NaN"
      ]
     },
     "execution_count": 70,
     "metadata": {},
     "output_type": "execute_result"
    }
   ],
   "source": [
    "df2 = df.reindex(index=d[0:6],columns=list(df.columns)+['D'])\n",
    "df2.loc[d[0]:d[2],'D']=5\n",
    "df2"
   ]
  },
  {
   "cell_type": "code",
   "execution_count": 71,
   "id": "7b114313",
   "metadata": {
    "ExecuteTime": {
     "end_time": "2023-02-06T18:55:38.312886Z",
     "start_time": "2023-02-06T18:55:38.298233Z"
    }
   },
   "outputs": [
    {
     "data": {
      "text/html": [
       "<div>\n",
       "<style scoped>\n",
       "    .dataframe tbody tr th:only-of-type {\n",
       "        vertical-align: middle;\n",
       "    }\n",
       "\n",
       "    .dataframe tbody tr th {\n",
       "        vertical-align: top;\n",
       "    }\n",
       "\n",
       "    .dataframe thead th {\n",
       "        text-align: right;\n",
       "    }\n",
       "</style>\n",
       "<table border=\"1\" class=\"dataframe\">\n",
       "  <thead>\n",
       "    <tr style=\"text-align: right;\">\n",
       "      <th></th>\n",
       "      <th>A</th>\n",
       "      <th>B</th>\n",
       "      <th>C</th>\n",
       "      <th>D</th>\n",
       "    </tr>\n",
       "  </thead>\n",
       "  <tbody>\n",
       "    <tr>\n",
       "      <th>2020-03-01</th>\n",
       "      <td>False</td>\n",
       "      <td>False</td>\n",
       "      <td>False</td>\n",
       "      <td>False</td>\n",
       "    </tr>\n",
       "    <tr>\n",
       "      <th>2020-03-02</th>\n",
       "      <td>False</td>\n",
       "      <td>False</td>\n",
       "      <td>False</td>\n",
       "      <td>False</td>\n",
       "    </tr>\n",
       "    <tr>\n",
       "      <th>2020-03-03</th>\n",
       "      <td>False</td>\n",
       "      <td>False</td>\n",
       "      <td>False</td>\n",
       "      <td>False</td>\n",
       "    </tr>\n",
       "    <tr>\n",
       "      <th>2020-03-04</th>\n",
       "      <td>False</td>\n",
       "      <td>False</td>\n",
       "      <td>False</td>\n",
       "      <td>True</td>\n",
       "    </tr>\n",
       "    <tr>\n",
       "      <th>2020-03-05</th>\n",
       "      <td>False</td>\n",
       "      <td>False</td>\n",
       "      <td>False</td>\n",
       "      <td>True</td>\n",
       "    </tr>\n",
       "    <tr>\n",
       "      <th>2020-03-06</th>\n",
       "      <td>False</td>\n",
       "      <td>False</td>\n",
       "      <td>False</td>\n",
       "      <td>True</td>\n",
       "    </tr>\n",
       "  </tbody>\n",
       "</table>\n",
       "</div>"
      ],
      "text/plain": [
       "                A      B      C      D\n",
       "2020-03-01  False  False  False  False\n",
       "2020-03-02  False  False  False  False\n",
       "2020-03-03  False  False  False  False\n",
       "2020-03-04  False  False  False   True\n",
       "2020-03-05  False  False  False   True\n",
       "2020-03-06  False  False  False   True"
      ]
     },
     "execution_count": 71,
     "metadata": {},
     "output_type": "execute_result"
    }
   ],
   "source": [
    "df2.isna() # df2.isnull()"
   ]
  },
  {
   "cell_type": "code",
   "execution_count": 73,
   "id": "41c02b4a",
   "metadata": {
    "ExecuteTime": {
     "end_time": "2023-02-06T18:56:10.301519Z",
     "start_time": "2023-02-06T18:56:10.293097Z"
    }
   },
   "outputs": [
    {
     "data": {
      "text/plain": [
       "A    0\n",
       "B    0\n",
       "C    0\n",
       "D    3\n",
       "dtype: int64"
      ]
     },
     "execution_count": 73,
     "metadata": {},
     "output_type": "execute_result"
    }
   ],
   "source": [
    "df2.isnull().sum()"
   ]
  },
  {
   "cell_type": "code",
   "execution_count": 76,
   "id": "9bf946cd",
   "metadata": {
    "ExecuteTime": {
     "end_time": "2023-02-06T18:58:01.630216Z",
     "start_time": "2023-02-06T18:58:01.613336Z"
    },
    "scrolled": true
   },
   "outputs": [
    {
     "data": {
      "text/html": [
       "<div>\n",
       "<style scoped>\n",
       "    .dataframe tbody tr th:only-of-type {\n",
       "        vertical-align: middle;\n",
       "    }\n",
       "\n",
       "    .dataframe tbody tr th {\n",
       "        vertical-align: top;\n",
       "    }\n",
       "\n",
       "    .dataframe thead th {\n",
       "        text-align: right;\n",
       "    }\n",
       "</style>\n",
       "<table border=\"1\" class=\"dataframe\">\n",
       "  <thead>\n",
       "    <tr style=\"text-align: right;\">\n",
       "      <th></th>\n",
       "      <th>A</th>\n",
       "      <th>B</th>\n",
       "      <th>C</th>\n",
       "      <th>D</th>\n",
       "    </tr>\n",
       "  </thead>\n",
       "  <tbody>\n",
       "    <tr>\n",
       "      <th>2020-03-01</th>\n",
       "      <td>0.426834</td>\n",
       "      <td>-0.959286</td>\n",
       "      <td>-0.613088</td>\n",
       "      <td>5.0</td>\n",
       "    </tr>\n",
       "    <tr>\n",
       "      <th>2020-03-02</th>\n",
       "      <td>-1.674792</td>\n",
       "      <td>-0.722733</td>\n",
       "      <td>-1.041686</td>\n",
       "      <td>5.0</td>\n",
       "    </tr>\n",
       "    <tr>\n",
       "      <th>2020-03-03</th>\n",
       "      <td>1.612146</td>\n",
       "      <td>-0.541288</td>\n",
       "      <td>0.405522</td>\n",
       "      <td>5.0</td>\n",
       "    </tr>\n",
       "    <tr>\n",
       "      <th>2020-03-04</th>\n",
       "      <td>1.637041</td>\n",
       "      <td>1.490025</td>\n",
       "      <td>-0.092074</td>\n",
       "      <td>2.0</td>\n",
       "    </tr>\n",
       "    <tr>\n",
       "      <th>2020-03-05</th>\n",
       "      <td>-1.342561</td>\n",
       "      <td>1.334975</td>\n",
       "      <td>-0.910149</td>\n",
       "      <td>2.0</td>\n",
       "    </tr>\n",
       "    <tr>\n",
       "      <th>2020-03-06</th>\n",
       "      <td>0.658922</td>\n",
       "      <td>0.808265</td>\n",
       "      <td>0.585609</td>\n",
       "      <td>2.0</td>\n",
       "    </tr>\n",
       "  </tbody>\n",
       "</table>\n",
       "</div>"
      ],
      "text/plain": [
       "                   A         B         C    D\n",
       "2020-03-01  0.426834 -0.959286 -0.613088  5.0\n",
       "2020-03-02 -1.674792 -0.722733 -1.041686  5.0\n",
       "2020-03-03  1.612146 -0.541288  0.405522  5.0\n",
       "2020-03-04  1.637041  1.490025 -0.092074  2.0\n",
       "2020-03-05 -1.342561  1.334975 -0.910149  2.0\n",
       "2020-03-06  0.658922  0.808265  0.585609  2.0"
      ]
     },
     "execution_count": 76,
     "metadata": {},
     "output_type": "execute_result"
    }
   ],
   "source": [
    "df2.fillna(value=2)"
   ]
  },
  {
   "cell_type": "markdown",
   "id": "f3a7a4bf",
   "metadata": {},
   "source": [
    "### Pandas Operations\n",
    "#### 1. Descriptive statistics operations\n",
    "#### 2. Applying functions to data\n",
    "#### 3. String processing operations\n",
    "#### 4. Histogramming\n"
   ]
  },
  {
   "cell_type": "code",
   "execution_count": 77,
   "id": "dc292d70",
   "metadata": {
    "ExecuteTime": {
     "end_time": "2023-02-06T19:04:27.024651Z",
     "start_time": "2023-02-06T19:04:27.016831Z"
    }
   },
   "outputs": [
    {
     "data": {
      "text/plain": [
       "A    0.219598\n",
       "B    0.234993\n",
       "C   -0.277644\n",
       "dtype: float64"
      ]
     },
     "execution_count": 77,
     "metadata": {},
     "output_type": "execute_result"
    }
   ],
   "source": [
    "df.mean() #axis=0"
   ]
  },
  {
   "cell_type": "code",
   "execution_count": 80,
   "id": "14e85198",
   "metadata": {
    "ExecuteTime": {
     "end_time": "2023-02-06T19:06:05.045149Z",
     "start_time": "2023-02-06T19:06:05.036003Z"
    }
   },
   "outputs": [
    {
     "data": {
      "text/plain": [
       "2020-03-01   -0.381847\n",
       "2020-03-02   -1.146404\n",
       "2020-03-03    0.492127\n",
       "2020-03-04    1.011664\n",
       "2020-03-05   -0.305912\n",
       "2020-03-06    0.684265\n",
       "Freq: D, dtype: float64"
      ]
     },
     "execution_count": 80,
     "metadata": {},
     "output_type": "execute_result"
    }
   ],
   "source": [
    "df.mean(1) # axis=1"
   ]
  },
  {
   "cell_type": "code",
   "execution_count": 83,
   "id": "0d9344af",
   "metadata": {
    "ExecuteTime": {
     "end_time": "2023-02-06T19:07:38.885572Z",
     "start_time": "2023-02-06T19:07:38.878915Z"
    }
   },
   "outputs": [
    {
     "data": {
      "text/plain": [
       "2020-03-01    NaN\n",
       "2020-03-02    NaN\n",
       "2020-03-03    1.0\n",
       "2020-03-04    2.0\n",
       "2020-03-05    3.0\n",
       "2020-03-06    NaN\n",
       "Freq: D, dtype: float64"
      ]
     },
     "execution_count": 83,
     "metadata": {},
     "output_type": "execute_result"
    }
   ],
   "source": [
    "s = pd.Series([1,2,3,np.nan,4,5], index=d).shift(2) #shift val 2 places. start from 3rd\n",
    "s"
   ]
  },
  {
   "cell_type": "code",
   "execution_count": 87,
   "id": "6088291f",
   "metadata": {
    "ExecuteTime": {
     "end_time": "2023-02-06T19:12:51.701107Z",
     "start_time": "2023-02-06T19:12:51.686682Z"
    }
   },
   "outputs": [
    {
     "data": {
      "text/html": [
       "<div>\n",
       "<style scoped>\n",
       "    .dataframe tbody tr th:only-of-type {\n",
       "        vertical-align: middle;\n",
       "    }\n",
       "\n",
       "    .dataframe tbody tr th {\n",
       "        vertical-align: top;\n",
       "    }\n",
       "\n",
       "    .dataframe thead th {\n",
       "        text-align: right;\n",
       "    }\n",
       "</style>\n",
       "<table border=\"1\" class=\"dataframe\">\n",
       "  <thead>\n",
       "    <tr style=\"text-align: right;\">\n",
       "      <th></th>\n",
       "      <th>A</th>\n",
       "      <th>B</th>\n",
       "      <th>C</th>\n",
       "    </tr>\n",
       "  </thead>\n",
       "  <tbody>\n",
       "    <tr>\n",
       "      <th>2020-03-01</th>\n",
       "      <td>NaN</td>\n",
       "      <td>NaN</td>\n",
       "      <td>NaN</td>\n",
       "    </tr>\n",
       "    <tr>\n",
       "      <th>2020-03-02</th>\n",
       "      <td>NaN</td>\n",
       "      <td>NaN</td>\n",
       "      <td>NaN</td>\n",
       "    </tr>\n",
       "    <tr>\n",
       "      <th>2020-03-03</th>\n",
       "      <td>0.612146</td>\n",
       "      <td>-1.541288</td>\n",
       "      <td>-0.594478</td>\n",
       "    </tr>\n",
       "    <tr>\n",
       "      <th>2020-03-04</th>\n",
       "      <td>-0.362959</td>\n",
       "      <td>-0.509975</td>\n",
       "      <td>-2.092074</td>\n",
       "    </tr>\n",
       "    <tr>\n",
       "      <th>2020-03-05</th>\n",
       "      <td>-4.342561</td>\n",
       "      <td>-1.665025</td>\n",
       "      <td>-3.910149</td>\n",
       "    </tr>\n",
       "    <tr>\n",
       "      <th>2020-03-06</th>\n",
       "      <td>NaN</td>\n",
       "      <td>NaN</td>\n",
       "      <td>NaN</td>\n",
       "    </tr>\n",
       "  </tbody>\n",
       "</table>\n",
       "</div>"
      ],
      "text/plain": [
       "                   A         B         C\n",
       "2020-03-01       NaN       NaN       NaN\n",
       "2020-03-02       NaN       NaN       NaN\n",
       "2020-03-03  0.612146 -1.541288 -0.594478\n",
       "2020-03-04 -0.362959 -0.509975 -2.092074\n",
       "2020-03-05 -4.342561 -1.665025 -3.910149\n",
       "2020-03-06       NaN       NaN       NaN"
      ]
     },
     "execution_count": 87,
     "metadata": {},
     "output_type": "execute_result"
    }
   ],
   "source": [
    "df.sub(s,axis='index')"
   ]
  },
  {
   "cell_type": "code",
   "execution_count": 88,
   "id": "ec58cbe2",
   "metadata": {
    "ExecuteTime": {
     "end_time": "2023-02-06T19:13:46.888604Z",
     "start_time": "2023-02-06T19:13:46.873482Z"
    }
   },
   "outputs": [
    {
     "data": {
      "text/html": [
       "<div>\n",
       "<style scoped>\n",
       "    .dataframe tbody tr th:only-of-type {\n",
       "        vertical-align: middle;\n",
       "    }\n",
       "\n",
       "    .dataframe tbody tr th {\n",
       "        vertical-align: top;\n",
       "    }\n",
       "\n",
       "    .dataframe thead th {\n",
       "        text-align: right;\n",
       "    }\n",
       "</style>\n",
       "<table border=\"1\" class=\"dataframe\">\n",
       "  <thead>\n",
       "    <tr style=\"text-align: right;\">\n",
       "      <th></th>\n",
       "      <th>A</th>\n",
       "      <th>B</th>\n",
       "      <th>C</th>\n",
       "    </tr>\n",
       "  </thead>\n",
       "  <tbody>\n",
       "    <tr>\n",
       "      <th>2020-03-01</th>\n",
       "      <td>0.426834</td>\n",
       "      <td>-0.959286</td>\n",
       "      <td>-0.613088</td>\n",
       "    </tr>\n",
       "    <tr>\n",
       "      <th>2020-03-02</th>\n",
       "      <td>-1.674792</td>\n",
       "      <td>-0.722733</td>\n",
       "      <td>-1.041686</td>\n",
       "    </tr>\n",
       "    <tr>\n",
       "      <th>2020-03-03</th>\n",
       "      <td>1.612146</td>\n",
       "      <td>-0.541288</td>\n",
       "      <td>0.405522</td>\n",
       "    </tr>\n",
       "    <tr>\n",
       "      <th>2020-03-04</th>\n",
       "      <td>1.637041</td>\n",
       "      <td>1.490025</td>\n",
       "      <td>-0.092074</td>\n",
       "    </tr>\n",
       "    <tr>\n",
       "      <th>2020-03-05</th>\n",
       "      <td>-1.342561</td>\n",
       "      <td>1.334975</td>\n",
       "      <td>-0.910149</td>\n",
       "    </tr>\n",
       "    <tr>\n",
       "      <th>2020-03-06</th>\n",
       "      <td>0.658922</td>\n",
       "      <td>0.808265</td>\n",
       "      <td>0.585609</td>\n",
       "    </tr>\n",
       "  </tbody>\n",
       "</table>\n",
       "</div>"
      ],
      "text/plain": [
       "                   A         B         C\n",
       "2020-03-01  0.426834 -0.959286 -0.613088\n",
       "2020-03-02 -1.674792 -0.722733 -1.041686\n",
       "2020-03-03  1.612146 -0.541288  0.405522\n",
       "2020-03-04  1.637041  1.490025 -0.092074\n",
       "2020-03-05 -1.342561  1.334975 -0.910149\n",
       "2020-03-06  0.658922  0.808265  0.585609"
      ]
     },
     "execution_count": 88,
     "metadata": {},
     "output_type": "execute_result"
    }
   ],
   "source": [
    "df"
   ]
  },
  {
   "cell_type": "code",
   "execution_count": 89,
   "id": "d5a24e6b",
   "metadata": {
    "ExecuteTime": {
     "end_time": "2023-02-06T19:14:12.057795Z",
     "start_time": "2023-02-06T19:14:12.042126Z"
    }
   },
   "outputs": [
    {
     "data": {
      "text/html": [
       "<div>\n",
       "<style scoped>\n",
       "    .dataframe tbody tr th:only-of-type {\n",
       "        vertical-align: middle;\n",
       "    }\n",
       "\n",
       "    .dataframe tbody tr th {\n",
       "        vertical-align: top;\n",
       "    }\n",
       "\n",
       "    .dataframe thead th {\n",
       "        text-align: right;\n",
       "    }\n",
       "</style>\n",
       "<table border=\"1\" class=\"dataframe\">\n",
       "  <thead>\n",
       "    <tr style=\"text-align: right;\">\n",
       "      <th></th>\n",
       "      <th>A</th>\n",
       "      <th>B</th>\n",
       "      <th>C</th>\n",
       "    </tr>\n",
       "  </thead>\n",
       "  <tbody>\n",
       "    <tr>\n",
       "      <th>2020-03-01</th>\n",
       "      <td>0.426834</td>\n",
       "      <td>0.959286</td>\n",
       "      <td>0.613088</td>\n",
       "    </tr>\n",
       "    <tr>\n",
       "      <th>2020-03-02</th>\n",
       "      <td>1.674792</td>\n",
       "      <td>0.722733</td>\n",
       "      <td>1.041686</td>\n",
       "    </tr>\n",
       "    <tr>\n",
       "      <th>2020-03-03</th>\n",
       "      <td>1.612146</td>\n",
       "      <td>0.541288</td>\n",
       "      <td>0.405522</td>\n",
       "    </tr>\n",
       "    <tr>\n",
       "      <th>2020-03-04</th>\n",
       "      <td>1.637041</td>\n",
       "      <td>1.490025</td>\n",
       "      <td>0.092074</td>\n",
       "    </tr>\n",
       "    <tr>\n",
       "      <th>2020-03-05</th>\n",
       "      <td>1.342561</td>\n",
       "      <td>1.334975</td>\n",
       "      <td>0.910149</td>\n",
       "    </tr>\n",
       "    <tr>\n",
       "      <th>2020-03-06</th>\n",
       "      <td>0.658922</td>\n",
       "      <td>0.808265</td>\n",
       "      <td>0.585609</td>\n",
       "    </tr>\n",
       "  </tbody>\n",
       "</table>\n",
       "</div>"
      ],
      "text/plain": [
       "                   A         B         C\n",
       "2020-03-01  0.426834  0.959286  0.613088\n",
       "2020-03-02  1.674792  0.722733  1.041686\n",
       "2020-03-03  1.612146  0.541288  0.405522\n",
       "2020-03-04  1.637041  1.490025  0.092074\n",
       "2020-03-05  1.342561  1.334975  0.910149\n",
       "2020-03-06  0.658922  0.808265  0.585609"
      ]
     },
     "execution_count": 89,
     "metadata": {},
     "output_type": "execute_result"
    }
   ],
   "source": [
    "df.apply(np.absolute)"
   ]
  },
  {
   "cell_type": "markdown",
   "id": "b6a38ff1",
   "metadata": {},
   "source": [
    "### String functions"
   ]
  },
  {
   "cell_type": "code",
   "execution_count": 133,
   "id": "97083263",
   "metadata": {
    "ExecuteTime": {
     "end_time": "2023-02-06T20:33:57.944156Z",
     "start_time": "2023-02-06T20:33:57.929829Z"
    }
   },
   "outputs": [
    {
     "data": {
      "text/plain": [
       "0     AMITABH\n",
       "1      SATISH\n",
       "2      PRAVIR\n",
       "3         NaN\n",
       "4    FOOTBALL\n",
       "dtype: object"
      ]
     },
     "execution_count": 133,
     "metadata": {},
     "output_type": "execute_result"
    }
   ],
   "source": [
    "\n",
    "s=pd.Series(['amitabh','satish','pravir',np.nan,'football'])\n",
    "x =s.str.upper()\n",
    "x"
   ]
  },
  {
   "cell_type": "markdown",
   "id": "ad103ee0",
   "metadata": {},
   "source": [
    "### Split and Merge"
   ]
  },
  {
   "cell_type": "code",
   "execution_count": 93,
   "id": "60365f07",
   "metadata": {
    "ExecuteTime": {
     "end_time": "2023-02-06T19:15:32.185718Z",
     "start_time": "2023-02-06T19:15:32.178853Z"
    },
    "scrolled": true
   },
   "outputs": [
    {
     "data": {
      "text/plain": [
       "A    3.311834\n",
       "B    2.449311\n",
       "C    1.627295\n",
       "dtype: float64"
      ]
     },
     "execution_count": 93,
     "metadata": {},
     "output_type": "execute_result"
    }
   ],
   "source": [
    "df.apply(lambda x: x.max()-x.min())"
   ]
  },
  {
   "cell_type": "code",
   "execution_count": 95,
   "id": "50391fe4",
   "metadata": {
    "ExecuteTime": {
     "end_time": "2023-02-06T19:22:23.341261Z",
     "start_time": "2023-02-06T19:22:23.320237Z"
    }
   },
   "outputs": [
    {
     "data": {
      "text/html": [
       "<div>\n",
       "<style scoped>\n",
       "    .dataframe tbody tr th:only-of-type {\n",
       "        vertical-align: middle;\n",
       "    }\n",
       "\n",
       "    .dataframe tbody tr th {\n",
       "        vertical-align: top;\n",
       "    }\n",
       "\n",
       "    .dataframe thead th {\n",
       "        text-align: right;\n",
       "    }\n",
       "</style>\n",
       "<table border=\"1\" class=\"dataframe\">\n",
       "  <thead>\n",
       "    <tr style=\"text-align: right;\">\n",
       "      <th></th>\n",
       "      <th>0</th>\n",
       "      <th>1</th>\n",
       "      <th>2</th>\n",
       "      <th>3</th>\n",
       "    </tr>\n",
       "  </thead>\n",
       "  <tbody>\n",
       "    <tr>\n",
       "      <th>0</th>\n",
       "      <td>0.099988</td>\n",
       "      <td>-0.277864</td>\n",
       "      <td>1.052681</td>\n",
       "      <td>-0.156324</td>\n",
       "    </tr>\n",
       "    <tr>\n",
       "      <th>1</th>\n",
       "      <td>0.640793</td>\n",
       "      <td>-0.508209</td>\n",
       "      <td>0.759076</td>\n",
       "      <td>1.047814</td>\n",
       "    </tr>\n",
       "    <tr>\n",
       "      <th>2</th>\n",
       "      <td>-0.379146</td>\n",
       "      <td>-1.097745</td>\n",
       "      <td>-0.439379</td>\n",
       "      <td>-0.849361</td>\n",
       "    </tr>\n",
       "    <tr>\n",
       "      <th>3</th>\n",
       "      <td>0.095308</td>\n",
       "      <td>-1.069948</td>\n",
       "      <td>0.016241</td>\n",
       "      <td>0.962191</td>\n",
       "    </tr>\n",
       "    <tr>\n",
       "      <th>4</th>\n",
       "      <td>-1.128252</td>\n",
       "      <td>-0.034631</td>\n",
       "      <td>-0.276910</td>\n",
       "      <td>-1.403493</td>\n",
       "    </tr>\n",
       "    <tr>\n",
       "      <th>5</th>\n",
       "      <td>1.468052</td>\n",
       "      <td>0.777492</td>\n",
       "      <td>0.866585</td>\n",
       "      <td>1.039143</td>\n",
       "    </tr>\n",
       "    <tr>\n",
       "      <th>6</th>\n",
       "      <td>-0.006366</td>\n",
       "      <td>0.550900</td>\n",
       "      <td>1.764900</td>\n",
       "      <td>1.529768</td>\n",
       "    </tr>\n",
       "    <tr>\n",
       "      <th>7</th>\n",
       "      <td>1.892595</td>\n",
       "      <td>1.178432</td>\n",
       "      <td>0.117499</td>\n",
       "      <td>1.165538</td>\n",
       "    </tr>\n",
       "    <tr>\n",
       "      <th>8</th>\n",
       "      <td>-0.901056</td>\n",
       "      <td>1.524994</td>\n",
       "      <td>0.970901</td>\n",
       "      <td>-0.621051</td>\n",
       "    </tr>\n",
       "    <tr>\n",
       "      <th>9</th>\n",
       "      <td>-1.808442</td>\n",
       "      <td>0.196605</td>\n",
       "      <td>1.483328</td>\n",
       "      <td>1.351339</td>\n",
       "    </tr>\n",
       "  </tbody>\n",
       "</table>\n",
       "</div>"
      ],
      "text/plain": [
       "          0         1         2         3\n",
       "0  0.099988 -0.277864  1.052681 -0.156324\n",
       "1  0.640793 -0.508209  0.759076  1.047814\n",
       "2 -0.379146 -1.097745 -0.439379 -0.849361\n",
       "3  0.095308 -1.069948  0.016241  0.962191\n",
       "4 -1.128252 -0.034631 -0.276910 -1.403493\n",
       "5  1.468052  0.777492  0.866585  1.039143\n",
       "6 -0.006366  0.550900  1.764900  1.529768\n",
       "7  1.892595  1.178432  0.117499  1.165538\n",
       "8 -0.901056  1.524994  0.970901 -0.621051\n",
       "9 -1.808442  0.196605  1.483328  1.351339"
      ]
     },
     "execution_count": 95,
     "metadata": {},
     "output_type": "execute_result"
    }
   ],
   "source": [
    "ndf = pd.DataFrame(np.random.randn(10,4))\n",
    "ndf"
   ]
  },
  {
   "cell_type": "code",
   "execution_count": 99,
   "id": "c9f23809",
   "metadata": {
    "ExecuteTime": {
     "end_time": "2023-02-06T20:12:15.697221Z",
     "start_time": "2023-02-06T20:12:15.671007Z"
    }
   },
   "outputs": [
    {
     "data": {
      "text/plain": [
       "[          0         1         2         3\n",
       " 0  0.099988 -0.277864  1.052681 -0.156324\n",
       " 1  0.640793 -0.508209  0.759076  1.047814\n",
       " 2 -0.379146 -1.097745 -0.439379 -0.849361,\n",
       "           0         1         2         3\n",
       " 3  0.095308 -1.069948  0.016241  0.962191\n",
       " 4 -1.128252 -0.034631 -0.276910 -1.403493\n",
       " 5  1.468052  0.777492  0.866585  1.039143\n",
       " 6 -0.006366  0.550900  1.764900  1.529768,\n",
       "           0         1         2         3\n",
       " 7  1.892595  1.178432  0.117499  1.165538\n",
       " 8 -0.901056  1.524994  0.970901 -0.621051\n",
       " 9 -1.808442  0.196605  1.483328  1.351339]"
      ]
     },
     "execution_count": 99,
     "metadata": {},
     "output_type": "execute_result"
    }
   ],
   "source": [
    "ndf2=[ndf[:3],ndf[3:7],ndf[7:]]\n",
    "ndf2"
   ]
  },
  {
   "cell_type": "code",
   "execution_count": 100,
   "id": "ddeecaca",
   "metadata": {
    "ExecuteTime": {
     "end_time": "2023-02-06T20:13:51.264206Z",
     "start_time": "2023-02-06T20:13:51.241686Z"
    }
   },
   "outputs": [
    {
     "data": {
      "text/html": [
       "<div>\n",
       "<style scoped>\n",
       "    .dataframe tbody tr th:only-of-type {\n",
       "        vertical-align: middle;\n",
       "    }\n",
       "\n",
       "    .dataframe tbody tr th {\n",
       "        vertical-align: top;\n",
       "    }\n",
       "\n",
       "    .dataframe thead th {\n",
       "        text-align: right;\n",
       "    }\n",
       "</style>\n",
       "<table border=\"1\" class=\"dataframe\">\n",
       "  <thead>\n",
       "    <tr style=\"text-align: right;\">\n",
       "      <th></th>\n",
       "      <th>0</th>\n",
       "      <th>1</th>\n",
       "      <th>2</th>\n",
       "      <th>3</th>\n",
       "    </tr>\n",
       "  </thead>\n",
       "  <tbody>\n",
       "    <tr>\n",
       "      <th>0</th>\n",
       "      <td>0.099988</td>\n",
       "      <td>-0.277864</td>\n",
       "      <td>1.052681</td>\n",
       "      <td>-0.156324</td>\n",
       "    </tr>\n",
       "    <tr>\n",
       "      <th>1</th>\n",
       "      <td>0.640793</td>\n",
       "      <td>-0.508209</td>\n",
       "      <td>0.759076</td>\n",
       "      <td>1.047814</td>\n",
       "    </tr>\n",
       "    <tr>\n",
       "      <th>2</th>\n",
       "      <td>-0.379146</td>\n",
       "      <td>-1.097745</td>\n",
       "      <td>-0.439379</td>\n",
       "      <td>-0.849361</td>\n",
       "    </tr>\n",
       "    <tr>\n",
       "      <th>3</th>\n",
       "      <td>0.095308</td>\n",
       "      <td>-1.069948</td>\n",
       "      <td>0.016241</td>\n",
       "      <td>0.962191</td>\n",
       "    </tr>\n",
       "    <tr>\n",
       "      <th>4</th>\n",
       "      <td>-1.128252</td>\n",
       "      <td>-0.034631</td>\n",
       "      <td>-0.276910</td>\n",
       "      <td>-1.403493</td>\n",
       "    </tr>\n",
       "    <tr>\n",
       "      <th>5</th>\n",
       "      <td>1.468052</td>\n",
       "      <td>0.777492</td>\n",
       "      <td>0.866585</td>\n",
       "      <td>1.039143</td>\n",
       "    </tr>\n",
       "    <tr>\n",
       "      <th>6</th>\n",
       "      <td>-0.006366</td>\n",
       "      <td>0.550900</td>\n",
       "      <td>1.764900</td>\n",
       "      <td>1.529768</td>\n",
       "    </tr>\n",
       "    <tr>\n",
       "      <th>7</th>\n",
       "      <td>1.892595</td>\n",
       "      <td>1.178432</td>\n",
       "      <td>0.117499</td>\n",
       "      <td>1.165538</td>\n",
       "    </tr>\n",
       "    <tr>\n",
       "      <th>8</th>\n",
       "      <td>-0.901056</td>\n",
       "      <td>1.524994</td>\n",
       "      <td>0.970901</td>\n",
       "      <td>-0.621051</td>\n",
       "    </tr>\n",
       "    <tr>\n",
       "      <th>9</th>\n",
       "      <td>-1.808442</td>\n",
       "      <td>0.196605</td>\n",
       "      <td>1.483328</td>\n",
       "      <td>1.351339</td>\n",
       "    </tr>\n",
       "  </tbody>\n",
       "</table>\n",
       "</div>"
      ],
      "text/plain": [
       "          0         1         2         3\n",
       "0  0.099988 -0.277864  1.052681 -0.156324\n",
       "1  0.640793 -0.508209  0.759076  1.047814\n",
       "2 -0.379146 -1.097745 -0.439379 -0.849361\n",
       "3  0.095308 -1.069948  0.016241  0.962191\n",
       "4 -1.128252 -0.034631 -0.276910 -1.403493\n",
       "5  1.468052  0.777492  0.866585  1.039143\n",
       "6 -0.006366  0.550900  1.764900  1.529768\n",
       "7  1.892595  1.178432  0.117499  1.165538\n",
       "8 -0.901056  1.524994  0.970901 -0.621051\n",
       "9 -1.808442  0.196605  1.483328  1.351339"
      ]
     },
     "execution_count": 100,
     "metadata": {},
     "output_type": "execute_result"
    }
   ],
   "source": [
    "pd.concat(ndf2)"
   ]
  },
  {
   "cell_type": "code",
   "execution_count": 107,
   "id": "ea099f4d",
   "metadata": {
    "ExecuteTime": {
     "end_time": "2023-02-06T20:16:22.583523Z",
     "start_time": "2023-02-06T20:16:22.571479Z"
    }
   },
   "outputs": [
    {
     "data": {
      "text/html": [
       "<div>\n",
       "<style scoped>\n",
       "    .dataframe tbody tr th:only-of-type {\n",
       "        vertical-align: middle;\n",
       "    }\n",
       "\n",
       "    .dataframe tbody tr th {\n",
       "        vertical-align: top;\n",
       "    }\n",
       "\n",
       "    .dataframe thead th {\n",
       "        text-align: right;\n",
       "    }\n",
       "</style>\n",
       "<table border=\"1\" class=\"dataframe\">\n",
       "  <thead>\n",
       "    <tr style=\"text-align: right;\">\n",
       "      <th></th>\n",
       "      <th>A</th>\n",
       "      <th>B</th>\n",
       "    </tr>\n",
       "  </thead>\n",
       "  <tbody>\n",
       "    <tr>\n",
       "      <th>0</th>\n",
       "      <td>1</td>\n",
       "      <td>3</td>\n",
       "    </tr>\n",
       "    <tr>\n",
       "      <th>1</th>\n",
       "      <td>2</td>\n",
       "      <td>4</td>\n",
       "    </tr>\n",
       "  </tbody>\n",
       "</table>\n",
       "</div>"
      ],
      "text/plain": [
       "   A  B\n",
       "0  1  3\n",
       "1  2  4"
      ]
     },
     "execution_count": 107,
     "metadata": {},
     "output_type": "execute_result"
    }
   ],
   "source": [
    "left = pd.DataFrame({'A':[1,2],'B':[3,4]})\n",
    "left"
   ]
  },
  {
   "cell_type": "code",
   "execution_count": 111,
   "id": "358a1aec",
   "metadata": {
    "ExecuteTime": {
     "end_time": "2023-02-06T20:17:09.551324Z",
     "start_time": "2023-02-06T20:17:09.539605Z"
    },
    "scrolled": true
   },
   "outputs": [
    {
     "data": {
      "text/html": [
       "<div>\n",
       "<style scoped>\n",
       "    .dataframe tbody tr th:only-of-type {\n",
       "        vertical-align: middle;\n",
       "    }\n",
       "\n",
       "    .dataframe tbody tr th {\n",
       "        vertical-align: top;\n",
       "    }\n",
       "\n",
       "    .dataframe thead th {\n",
       "        text-align: right;\n",
       "    }\n",
       "</style>\n",
       "<table border=\"1\" class=\"dataframe\">\n",
       "  <thead>\n",
       "    <tr style=\"text-align: right;\">\n",
       "      <th></th>\n",
       "      <th>A</th>\n",
       "      <th>C</th>\n",
       "    </tr>\n",
       "  </thead>\n",
       "  <tbody>\n",
       "    <tr>\n",
       "      <th>0</th>\n",
       "      <td>4</td>\n",
       "      <td>6</td>\n",
       "    </tr>\n",
       "    <tr>\n",
       "      <th>1</th>\n",
       "      <td>2</td>\n",
       "      <td>5</td>\n",
       "    </tr>\n",
       "  </tbody>\n",
       "</table>\n",
       "</div>"
      ],
      "text/plain": [
       "   A  C\n",
       "0  4  6\n",
       "1  2  5"
      ]
     },
     "execution_count": 111,
     "metadata": {},
     "output_type": "execute_result"
    }
   ],
   "source": [
    "right = pd.DataFrame({'A':[4,2],'C':[6,5]})\n",
    "right"
   ]
  },
  {
   "cell_type": "code",
   "execution_count": 112,
   "id": "64dfb8dd",
   "metadata": {
    "ExecuteTime": {
     "end_time": "2023-02-06T20:17:15.802474Z",
     "start_time": "2023-02-06T20:17:15.784342Z"
    },
    "scrolled": false
   },
   "outputs": [
    {
     "data": {
      "text/html": [
       "<div>\n",
       "<style scoped>\n",
       "    .dataframe tbody tr th:only-of-type {\n",
       "        vertical-align: middle;\n",
       "    }\n",
       "\n",
       "    .dataframe tbody tr th {\n",
       "        vertical-align: top;\n",
       "    }\n",
       "\n",
       "    .dataframe thead th {\n",
       "        text-align: right;\n",
       "    }\n",
       "</style>\n",
       "<table border=\"1\" class=\"dataframe\">\n",
       "  <thead>\n",
       "    <tr style=\"text-align: right;\">\n",
       "      <th></th>\n",
       "      <th>A</th>\n",
       "      <th>B</th>\n",
       "      <th>C</th>\n",
       "    </tr>\n",
       "  </thead>\n",
       "  <tbody>\n",
       "    <tr>\n",
       "      <th>0</th>\n",
       "      <td>2</td>\n",
       "      <td>4</td>\n",
       "      <td>5</td>\n",
       "    </tr>\n",
       "  </tbody>\n",
       "</table>\n",
       "</div>"
      ],
      "text/plain": [
       "   A  B  C\n",
       "0  2  4  5"
      ]
     },
     "execution_count": 112,
     "metadata": {},
     "output_type": "execute_result"
    }
   ],
   "source": [
    "pd.merge(left,right, on='A')"
   ]
  },
  {
   "cell_type": "code",
   "execution_count": 113,
   "id": "6c9bbef9",
   "metadata": {
    "ExecuteTime": {
     "end_time": "2023-02-06T20:20:32.423270Z",
     "start_time": "2023-02-06T20:20:32.401441Z"
    }
   },
   "outputs": [
    {
     "data": {
      "text/html": [
       "<div>\n",
       "<style scoped>\n",
       "    .dataframe tbody tr th:only-of-type {\n",
       "        vertical-align: middle;\n",
       "    }\n",
       "\n",
       "    .dataframe tbody tr th {\n",
       "        vertical-align: top;\n",
       "    }\n",
       "\n",
       "    .dataframe thead th {\n",
       "        text-align: right;\n",
       "    }\n",
       "</style>\n",
       "<table border=\"1\" class=\"dataframe\">\n",
       "  <thead>\n",
       "    <tr style=\"text-align: right;\">\n",
       "      <th></th>\n",
       "      <th>0</th>\n",
       "      <th>1</th>\n",
       "      <th>2</th>\n",
       "      <th>3</th>\n",
       "    </tr>\n",
       "  </thead>\n",
       "  <tbody>\n",
       "    <tr>\n",
       "      <th>0</th>\n",
       "      <td>0.099988</td>\n",
       "      <td>-0.277864</td>\n",
       "      <td>1.052681</td>\n",
       "      <td>-0.156324</td>\n",
       "    </tr>\n",
       "    <tr>\n",
       "      <th>1</th>\n",
       "      <td>0.640793</td>\n",
       "      <td>-0.508209</td>\n",
       "      <td>0.759076</td>\n",
       "      <td>1.047814</td>\n",
       "    </tr>\n",
       "    <tr>\n",
       "      <th>2</th>\n",
       "      <td>-0.379146</td>\n",
       "      <td>-1.097745</td>\n",
       "      <td>-0.439379</td>\n",
       "      <td>-0.849361</td>\n",
       "    </tr>\n",
       "    <tr>\n",
       "      <th>3</th>\n",
       "      <td>0.095308</td>\n",
       "      <td>-1.069948</td>\n",
       "      <td>0.016241</td>\n",
       "      <td>0.962191</td>\n",
       "    </tr>\n",
       "    <tr>\n",
       "      <th>4</th>\n",
       "      <td>-1.128252</td>\n",
       "      <td>-0.034631</td>\n",
       "      <td>-0.276910</td>\n",
       "      <td>-1.403493</td>\n",
       "    </tr>\n",
       "    <tr>\n",
       "      <th>5</th>\n",
       "      <td>1.468052</td>\n",
       "      <td>0.777492</td>\n",
       "      <td>0.866585</td>\n",
       "      <td>1.039143</td>\n",
       "    </tr>\n",
       "    <tr>\n",
       "      <th>6</th>\n",
       "      <td>-0.006366</td>\n",
       "      <td>0.550900</td>\n",
       "      <td>1.764900</td>\n",
       "      <td>1.529768</td>\n",
       "    </tr>\n",
       "    <tr>\n",
       "      <th>7</th>\n",
       "      <td>1.892595</td>\n",
       "      <td>1.178432</td>\n",
       "      <td>0.117499</td>\n",
       "      <td>1.165538</td>\n",
       "    </tr>\n",
       "    <tr>\n",
       "      <th>8</th>\n",
       "      <td>-0.901056</td>\n",
       "      <td>1.524994</td>\n",
       "      <td>0.970901</td>\n",
       "      <td>-0.621051</td>\n",
       "    </tr>\n",
       "    <tr>\n",
       "      <th>9</th>\n",
       "      <td>-1.808442</td>\n",
       "      <td>0.196605</td>\n",
       "      <td>1.483328</td>\n",
       "      <td>1.351339</td>\n",
       "    </tr>\n",
       "  </tbody>\n",
       "</table>\n",
       "</div>"
      ],
      "text/plain": [
       "          0         1         2         3\n",
       "0  0.099988 -0.277864  1.052681 -0.156324\n",
       "1  0.640793 -0.508209  0.759076  1.047814\n",
       "2 -0.379146 -1.097745 -0.439379 -0.849361\n",
       "3  0.095308 -1.069948  0.016241  0.962191\n",
       "4 -1.128252 -0.034631 -0.276910 -1.403493\n",
       "5  1.468052  0.777492  0.866585  1.039143\n",
       "6 -0.006366  0.550900  1.764900  1.529768\n",
       "7  1.892595  1.178432  0.117499  1.165538\n",
       "8 -0.901056  1.524994  0.970901 -0.621051\n",
       "9 -1.808442  0.196605  1.483328  1.351339"
      ]
     },
     "execution_count": 113,
     "metadata": {},
     "output_type": "execute_result"
    }
   ],
   "source": [
    "ndf"
   ]
  },
  {
   "cell_type": "markdown",
   "id": "68cc3d58",
   "metadata": {},
   "source": [
    "### Group by"
   ]
  },
  {
   "cell_type": "code",
   "execution_count": 115,
   "id": "a13640a2",
   "metadata": {
    "ExecuteTime": {
     "end_time": "2023-02-06T20:21:37.288721Z",
     "start_time": "2023-02-06T20:21:37.260144Z"
    }
   },
   "outputs": [
    {
     "data": {
      "text/html": [
       "<div>\n",
       "<style scoped>\n",
       "    .dataframe tbody tr th:only-of-type {\n",
       "        vertical-align: middle;\n",
       "    }\n",
       "\n",
       "    .dataframe tbody tr th {\n",
       "        vertical-align: top;\n",
       "    }\n",
       "\n",
       "    .dataframe thead th {\n",
       "        text-align: right;\n",
       "    }\n",
       "</style>\n",
       "<table border=\"1\" class=\"dataframe\">\n",
       "  <thead>\n",
       "    <tr style=\"text-align: right;\">\n",
       "      <th></th>\n",
       "      <th>0</th>\n",
       "      <th>1</th>\n",
       "      <th>3</th>\n",
       "    </tr>\n",
       "    <tr>\n",
       "      <th>2</th>\n",
       "      <th></th>\n",
       "      <th></th>\n",
       "      <th></th>\n",
       "    </tr>\n",
       "  </thead>\n",
       "  <tbody>\n",
       "    <tr>\n",
       "      <th>-0.439379</th>\n",
       "      <td>-0.379146</td>\n",
       "      <td>-1.097745</td>\n",
       "      <td>-0.849361</td>\n",
       "    </tr>\n",
       "    <tr>\n",
       "      <th>-0.276910</th>\n",
       "      <td>-1.128252</td>\n",
       "      <td>-0.034631</td>\n",
       "      <td>-1.403493</td>\n",
       "    </tr>\n",
       "    <tr>\n",
       "      <th>0.016241</th>\n",
       "      <td>0.095308</td>\n",
       "      <td>-1.069948</td>\n",
       "      <td>0.962191</td>\n",
       "    </tr>\n",
       "    <tr>\n",
       "      <th>0.117499</th>\n",
       "      <td>1.892595</td>\n",
       "      <td>1.178432</td>\n",
       "      <td>1.165538</td>\n",
       "    </tr>\n",
       "    <tr>\n",
       "      <th>0.759076</th>\n",
       "      <td>0.640793</td>\n",
       "      <td>-0.508209</td>\n",
       "      <td>1.047814</td>\n",
       "    </tr>\n",
       "    <tr>\n",
       "      <th>0.866585</th>\n",
       "      <td>1.468052</td>\n",
       "      <td>0.777492</td>\n",
       "      <td>1.039143</td>\n",
       "    </tr>\n",
       "    <tr>\n",
       "      <th>0.970901</th>\n",
       "      <td>-0.901056</td>\n",
       "      <td>1.524994</td>\n",
       "      <td>-0.621051</td>\n",
       "    </tr>\n",
       "    <tr>\n",
       "      <th>1.052681</th>\n",
       "      <td>0.099988</td>\n",
       "      <td>-0.277864</td>\n",
       "      <td>-0.156324</td>\n",
       "    </tr>\n",
       "    <tr>\n",
       "      <th>1.483328</th>\n",
       "      <td>-1.808442</td>\n",
       "      <td>0.196605</td>\n",
       "      <td>1.351339</td>\n",
       "    </tr>\n",
       "    <tr>\n",
       "      <th>1.764900</th>\n",
       "      <td>-0.006366</td>\n",
       "      <td>0.550900</td>\n",
       "      <td>1.529768</td>\n",
       "    </tr>\n",
       "  </tbody>\n",
       "</table>\n",
       "</div>"
      ],
      "text/plain": [
       "                  0         1         3\n",
       "2                                      \n",
       "-0.439379 -0.379146 -1.097745 -0.849361\n",
       "-0.276910 -1.128252 -0.034631 -1.403493\n",
       " 0.016241  0.095308 -1.069948  0.962191\n",
       " 0.117499  1.892595  1.178432  1.165538\n",
       " 0.759076  0.640793 -0.508209  1.047814\n",
       " 0.866585  1.468052  0.777492  1.039143\n",
       " 0.970901 -0.901056  1.524994 -0.621051\n",
       " 1.052681  0.099988 -0.277864 -0.156324\n",
       " 1.483328 -1.808442  0.196605  1.351339\n",
       " 1.764900 -0.006366  0.550900  1.529768"
      ]
     },
     "execution_count": 115,
     "metadata": {},
     "output_type": "execute_result"
    }
   ],
   "source": [
    "ndf.groupby(2).sum()"
   ]
  },
  {
   "cell_type": "code",
   "execution_count": 117,
   "id": "7c588a49",
   "metadata": {
    "ExecuteTime": {
     "end_time": "2023-02-06T20:22:22.585698Z",
     "start_time": "2023-02-06T20:22:22.559056Z"
    }
   },
   "outputs": [
    {
     "data": {
      "text/html": [
       "<div>\n",
       "<style scoped>\n",
       "    .dataframe tbody tr th:only-of-type {\n",
       "        vertical-align: middle;\n",
       "    }\n",
       "\n",
       "    .dataframe tbody tr th {\n",
       "        vertical-align: top;\n",
       "    }\n",
       "\n",
       "    .dataframe thead th {\n",
       "        text-align: right;\n",
       "    }\n",
       "</style>\n",
       "<table border=\"1\" class=\"dataframe\">\n",
       "  <thead>\n",
       "    <tr style=\"text-align: right;\">\n",
       "      <th></th>\n",
       "      <th></th>\n",
       "      <th>0</th>\n",
       "      <th>1</th>\n",
       "    </tr>\n",
       "    <tr>\n",
       "      <th>2</th>\n",
       "      <th>3</th>\n",
       "      <th></th>\n",
       "      <th></th>\n",
       "    </tr>\n",
       "  </thead>\n",
       "  <tbody>\n",
       "    <tr>\n",
       "      <th>-0.439379</th>\n",
       "      <th>-0.849361</th>\n",
       "      <td>-0.379146</td>\n",
       "      <td>-1.097745</td>\n",
       "    </tr>\n",
       "    <tr>\n",
       "      <th>-0.276910</th>\n",
       "      <th>-1.403493</th>\n",
       "      <td>-1.128252</td>\n",
       "      <td>-0.034631</td>\n",
       "    </tr>\n",
       "    <tr>\n",
       "      <th>0.016241</th>\n",
       "      <th>0.962191</th>\n",
       "      <td>0.095308</td>\n",
       "      <td>-1.069948</td>\n",
       "    </tr>\n",
       "    <tr>\n",
       "      <th>0.117499</th>\n",
       "      <th>1.165538</th>\n",
       "      <td>1.892595</td>\n",
       "      <td>1.178432</td>\n",
       "    </tr>\n",
       "    <tr>\n",
       "      <th>0.759076</th>\n",
       "      <th>1.047814</th>\n",
       "      <td>0.640793</td>\n",
       "      <td>-0.508209</td>\n",
       "    </tr>\n",
       "    <tr>\n",
       "      <th>0.866585</th>\n",
       "      <th>1.039143</th>\n",
       "      <td>1.468052</td>\n",
       "      <td>0.777492</td>\n",
       "    </tr>\n",
       "    <tr>\n",
       "      <th>0.970901</th>\n",
       "      <th>-0.621051</th>\n",
       "      <td>-0.901056</td>\n",
       "      <td>1.524994</td>\n",
       "    </tr>\n",
       "    <tr>\n",
       "      <th>1.052681</th>\n",
       "      <th>-0.156324</th>\n",
       "      <td>0.099988</td>\n",
       "      <td>-0.277864</td>\n",
       "    </tr>\n",
       "    <tr>\n",
       "      <th>1.483328</th>\n",
       "      <th>1.351339</th>\n",
       "      <td>-1.808442</td>\n",
       "      <td>0.196605</td>\n",
       "    </tr>\n",
       "    <tr>\n",
       "      <th>1.764900</th>\n",
       "      <th>1.529768</th>\n",
       "      <td>-0.006366</td>\n",
       "      <td>0.550900</td>\n",
       "    </tr>\n",
       "  </tbody>\n",
       "</table>\n",
       "</div>"
      ],
      "text/plain": [
       "                            0         1\n",
       "2         3                            \n",
       "-0.439379 -0.849361 -0.379146 -1.097745\n",
       "-0.276910 -1.403493 -1.128252 -0.034631\n",
       " 0.016241  0.962191  0.095308 -1.069948\n",
       " 0.117499  1.165538  1.892595  1.178432\n",
       " 0.759076  1.047814  0.640793 -0.508209\n",
       " 0.866585  1.039143  1.468052  0.777492\n",
       " 0.970901 -0.621051 -0.901056  1.524994\n",
       " 1.052681 -0.156324  0.099988 -0.277864\n",
       " 1.483328  1.351339 -1.808442  0.196605\n",
       " 1.764900  1.529768 -0.006366  0.550900"
      ]
     },
     "execution_count": 117,
     "metadata": {},
     "output_type": "execute_result"
    }
   ],
   "source": [
    "ndf.groupby([2,3]).sum()"
   ]
  },
  {
   "cell_type": "markdown",
   "id": "2481cd20",
   "metadata": {},
   "source": [
    "### Stack and pivot table "
   ]
  },
  {
   "cell_type": "code",
   "execution_count": 143,
   "id": "3b5e9df8",
   "metadata": {
    "ExecuteTime": {
     "end_time": "2023-02-06T20:53:16.584449Z",
     "start_time": "2023-02-06T20:53:16.577113Z"
    }
   },
   "outputs": [
    {
     "data": {
      "text/plain": [
       "0  0    0.099988\n",
       "   1   -0.277864\n",
       "   2    1.052681\n",
       "   3   -0.156324\n",
       "1  0    0.640793\n",
       "   1   -0.508209\n",
       "dtype: float64"
      ]
     },
     "execution_count": 143,
     "metadata": {},
     "output_type": "execute_result"
    }
   ],
   "source": [
    "a =ndf.stack()\n",
    "a.head(6)"
   ]
  },
  {
   "cell_type": "code",
   "execution_count": 145,
   "id": "59fa45aa",
   "metadata": {
    "ExecuteTime": {
     "end_time": "2023-02-06T20:53:44.602193Z",
     "start_time": "2023-02-06T20:53:44.584824Z"
    },
    "scrolled": true
   },
   "outputs": [
    {
     "data": {
      "text/html": [
       "<div>\n",
       "<style scoped>\n",
       "    .dataframe tbody tr th:only-of-type {\n",
       "        vertical-align: middle;\n",
       "    }\n",
       "\n",
       "    .dataframe tbody tr th {\n",
       "        vertical-align: top;\n",
       "    }\n",
       "\n",
       "    .dataframe thead th {\n",
       "        text-align: right;\n",
       "    }\n",
       "</style>\n",
       "<table border=\"1\" class=\"dataframe\">\n",
       "  <thead>\n",
       "    <tr style=\"text-align: right;\">\n",
       "      <th></th>\n",
       "      <th>0</th>\n",
       "      <th>1</th>\n",
       "      <th>2</th>\n",
       "      <th>3</th>\n",
       "    </tr>\n",
       "  </thead>\n",
       "  <tbody>\n",
       "    <tr>\n",
       "      <th>0</th>\n",
       "      <td>0.099988</td>\n",
       "      <td>-0.277864</td>\n",
       "      <td>1.052681</td>\n",
       "      <td>-0.156324</td>\n",
       "    </tr>\n",
       "    <tr>\n",
       "      <th>1</th>\n",
       "      <td>0.640793</td>\n",
       "      <td>-0.508209</td>\n",
       "      <td>0.759076</td>\n",
       "      <td>1.047814</td>\n",
       "    </tr>\n",
       "  </tbody>\n",
       "</table>\n",
       "</div>"
      ],
      "text/plain": [
       "          0         1         2         3\n",
       "0  0.099988 -0.277864  1.052681 -0.156324\n",
       "1  0.640793 -0.508209  0.759076  1.047814"
      ]
     },
     "execution_count": 145,
     "metadata": {},
     "output_type": "execute_result"
    }
   ],
   "source": [
    "a.unstack().head(2)"
   ]
  },
  {
   "cell_type": "code",
   "execution_count": 150,
   "id": "3f89aa87",
   "metadata": {
    "ExecuteTime": {
     "end_time": "2023-02-06T20:56:59.145967Z",
     "start_time": "2023-02-06T20:56:59.118294Z"
    },
    "scrolled": true
   },
   "outputs": [
    {
     "data": {
      "text/html": [
       "<div>\n",
       "<style scoped>\n",
       "    .dataframe tbody tr th:only-of-type {\n",
       "        vertical-align: middle;\n",
       "    }\n",
       "\n",
       "    .dataframe tbody tr th {\n",
       "        vertical-align: top;\n",
       "    }\n",
       "\n",
       "    .dataframe thead th {\n",
       "        text-align: right;\n",
       "    }\n",
       "</style>\n",
       "<table border=\"1\" class=\"dataframe\">\n",
       "  <thead>\n",
       "    <tr style=\"text-align: right;\">\n",
       "      <th></th>\n",
       "      <th></th>\n",
       "      <th></th>\n",
       "      <th>0</th>\n",
       "    </tr>\n",
       "    <tr>\n",
       "      <th>1</th>\n",
       "      <th>2</th>\n",
       "      <th>3</th>\n",
       "      <th></th>\n",
       "    </tr>\n",
       "  </thead>\n",
       "  <tbody>\n",
       "    <tr>\n",
       "      <th>-1.097745</th>\n",
       "      <th>-0.439379</th>\n",
       "      <th>-0.849361</th>\n",
       "      <td>-0.379146</td>\n",
       "    </tr>\n",
       "    <tr>\n",
       "      <th>-1.069948</th>\n",
       "      <th>0.016241</th>\n",
       "      <th>0.962191</th>\n",
       "      <td>0.095308</td>\n",
       "    </tr>\n",
       "    <tr>\n",
       "      <th>-0.508209</th>\n",
       "      <th>0.759076</th>\n",
       "      <th>1.047814</th>\n",
       "      <td>0.640793</td>\n",
       "    </tr>\n",
       "  </tbody>\n",
       "</table>\n",
       "</div>"
      ],
      "text/plain": [
       "                                      0\n",
       "1         2         3                  \n",
       "-1.097745 -0.439379 -0.849361 -0.379146\n",
       "-1.069948  0.016241  0.962191  0.095308\n",
       "-0.508209  0.759076  1.047814  0.640793"
      ]
     },
     "execution_count": 150,
     "metadata": {},
     "output_type": "execute_result"
    }
   ],
   "source": [
    "pd.pivot_table(ndf,values=2,index=[1,2,3]).head(3)"
   ]
  },
  {
   "cell_type": "markdown",
   "id": "ebfed7e3",
   "metadata": {},
   "source": [
    "### Time Series and Categorical Data"
   ]
  },
  {
   "cell_type": "code",
   "execution_count": 156,
   "id": "01ac1f80",
   "metadata": {
    "ExecuteTime": {
     "end_time": "2023-02-06T21:07:26.115125Z",
     "start_time": "2023-02-06T21:07:26.098087Z"
    }
   },
   "outputs": [
    {
     "data": {
      "text/plain": [
       "2023-01-01 00:00:00     28\n",
       "2023-01-01 00:00:01    447\n",
       "2023-01-01 00:00:02    420\n",
       "2023-01-01 00:00:03    212\n",
       "2023-01-01 00:00:04    128\n",
       "                      ... \n",
       "2023-01-01 00:01:35     80\n",
       "2023-01-01 00:01:36    461\n",
       "2023-01-01 00:01:37     60\n",
       "2023-01-01 00:01:38    198\n",
       "2023-01-01 00:01:39     48\n",
       "Freq: S, Length: 100, dtype: int64"
      ]
     },
     "execution_count": 156,
     "metadata": {},
     "output_type": "execute_result"
    }
   ],
   "source": [
    "dates = pd.date_range('1/1/2023',periods=100,freq='S')\n",
    "ts = pd.Series(np.random.randint(0,500,len(dates)),dates)\n",
    "ts"
   ]
  },
  {
   "cell_type": "code",
   "execution_count": 154,
   "id": "4b0313b5",
   "metadata": {
    "ExecuteTime": {
     "end_time": "2023-02-06T21:04:24.291617Z",
     "start_time": "2023-02-06T21:04:24.263505Z"
    }
   },
   "outputs": [
    {
     "data": {
      "text/plain": [
       "2023-01-01    25980\n",
       "Freq: 5T, dtype: int64"
      ]
     },
     "execution_count": 154,
     "metadata": {},
     "output_type": "execute_result"
    }
   ],
   "source": [
    "ts.resample('5min').sum()"
   ]
  },
  {
   "cell_type": "code",
   "execution_count": 166,
   "id": "16cd52a0",
   "metadata": {
    "ExecuteTime": {
     "end_time": "2023-02-06T21:15:39.406776Z",
     "start_time": "2023-02-06T21:15:39.390560Z"
    },
    "scrolled": true
   },
   "outputs": [
    {
     "name": "stdout",
     "output_type": "stream",
     "text": [
      "2023-01-01 00:00:00+00:00     28\n",
      "2023-01-01 00:00:01+00:00    447\n",
      "2023-01-01 00:00:02+00:00    420\n",
      "2023-01-01 00:00:03+00:00    212\n",
      "2023-01-01 00:00:04+00:00    128\n",
      "Freq: S, dtype: int64\n",
      "2023-01-01 05:30:00+05:30     28\n",
      "2023-01-01 05:30:01+05:30    447\n",
      "2023-01-01 05:30:02+05:30    420\n",
      "2023-01-01 05:30:03+05:30    212\n",
      "2023-01-01 05:30:04+05:30    128\n",
      "Freq: S, dtype: int64\n"
     ]
    }
   ],
   "source": [
    "ts_utc = ts.tz_localize('UTC')\n",
    "print(ts_utc.head())\n",
    "conv = ts_utc.tz_convert('Asia/Kolkata')\n",
    "print(conv.head())\n"
   ]
  },
  {
   "cell_type": "code",
   "execution_count": 178,
   "id": "1a7f461a",
   "metadata": {
    "ExecuteTime": {
     "end_time": "2023-02-06T21:29:56.487019Z",
     "start_time": "2023-02-06T21:29:56.469963Z"
    }
   },
   "outputs": [
    {
     "data": {
      "text/html": [
       "<div>\n",
       "<style scoped>\n",
       "    .dataframe tbody tr th:only-of-type {\n",
       "        vertical-align: middle;\n",
       "    }\n",
       "\n",
       "    .dataframe tbody tr th {\n",
       "        vertical-align: top;\n",
       "    }\n",
       "\n",
       "    .dataframe thead th {\n",
       "        text-align: right;\n",
       "    }\n",
       "</style>\n",
       "<table border=\"1\" class=\"dataframe\">\n",
       "  <thead>\n",
       "    <tr style=\"text-align: right;\">\n",
       "      <th></th>\n",
       "      <th>id</th>\n",
       "      <th>grade</th>\n",
       "    </tr>\n",
       "  </thead>\n",
       "  <tbody>\n",
       "    <tr>\n",
       "      <th>0</th>\n",
       "      <td>1</td>\n",
       "      <td>F</td>\n",
       "    </tr>\n",
       "    <tr>\n",
       "      <th>1</th>\n",
       "      <td>2</td>\n",
       "      <td>E</td>\n",
       "    </tr>\n",
       "    <tr>\n",
       "      <th>2</th>\n",
       "      <td>3</td>\n",
       "      <td>D</td>\n",
       "    </tr>\n",
       "    <tr>\n",
       "      <th>3</th>\n",
       "      <td>4</td>\n",
       "      <td>C</td>\n",
       "    </tr>\n",
       "    <tr>\n",
       "      <th>4</th>\n",
       "      <td>5</td>\n",
       "      <td>B</td>\n",
       "    </tr>\n",
       "    <tr>\n",
       "      <th>5</th>\n",
       "      <td>6</td>\n",
       "      <td>A</td>\n",
       "    </tr>\n",
       "  </tbody>\n",
       "</table>\n",
       "</div>"
      ],
      "text/plain": [
       "   id grade\n",
       "0   1     F\n",
       "1   2     E\n",
       "2   3     D\n",
       "3   4     C\n",
       "4   5     B\n",
       "5   6     A"
      ]
     },
     "execution_count": 178,
     "metadata": {},
     "output_type": "execute_result"
    }
   ],
   "source": [
    "# Categorical\n",
    "\n",
    "cdf = pd.DataFrame({'id':[1,2,3,4,5,6],\n",
    "                   \"grade\":['F','E','D','C','B','A']\n",
    "                   })\n",
    "cdf"
   ]
  },
  {
   "cell_type": "code",
   "execution_count": 182,
   "id": "157ae811",
   "metadata": {
    "ExecuteTime": {
     "end_time": "2023-02-06T21:31:16.718211Z",
     "start_time": "2023-02-06T21:31:16.701407Z"
    }
   },
   "outputs": [
    {
     "data": {
      "text/html": [
       "<div>\n",
       "<style scoped>\n",
       "    .dataframe tbody tr th:only-of-type {\n",
       "        vertical-align: middle;\n",
       "    }\n",
       "\n",
       "    .dataframe tbody tr th {\n",
       "        vertical-align: top;\n",
       "    }\n",
       "\n",
       "    .dataframe thead th {\n",
       "        text-align: right;\n",
       "    }\n",
       "</style>\n",
       "<table border=\"1\" class=\"dataframe\">\n",
       "  <thead>\n",
       "    <tr style=\"text-align: right;\">\n",
       "      <th></th>\n",
       "      <th>id</th>\n",
       "      <th>grade</th>\n",
       "      <th>Grade</th>\n",
       "    </tr>\n",
       "  </thead>\n",
       "  <tbody>\n",
       "    <tr>\n",
       "      <th>0</th>\n",
       "      <td>1</td>\n",
       "      <td>F</td>\n",
       "      <td>very bad</td>\n",
       "    </tr>\n",
       "    <tr>\n",
       "      <th>1</th>\n",
       "      <td>2</td>\n",
       "      <td>E</td>\n",
       "      <td>bad</td>\n",
       "    </tr>\n",
       "    <tr>\n",
       "      <th>2</th>\n",
       "      <td>3</td>\n",
       "      <td>D</td>\n",
       "      <td>medium</td>\n",
       "    </tr>\n",
       "    <tr>\n",
       "      <th>3</th>\n",
       "      <td>4</td>\n",
       "      <td>C</td>\n",
       "      <td>good</td>\n",
       "    </tr>\n",
       "    <tr>\n",
       "      <th>4</th>\n",
       "      <td>5</td>\n",
       "      <td>B</td>\n",
       "      <td>very good</td>\n",
       "    </tr>\n",
       "    <tr>\n",
       "      <th>5</th>\n",
       "      <td>6</td>\n",
       "      <td>A</td>\n",
       "      <td>excellent</td>\n",
       "    </tr>\n",
       "  </tbody>\n",
       "</table>\n",
       "</div>"
      ],
      "text/plain": [
       "   id grade      Grade\n",
       "0   1     F   very bad\n",
       "1   2     E        bad\n",
       "2   3     D     medium\n",
       "3   4     C       good\n",
       "4   5     B  very good\n",
       "5   6     A  excellent"
      ]
     },
     "execution_count": 182,
     "metadata": {},
     "output_type": "execute_result"
    }
   ],
   "source": [
    "cdf[\"Grade\"] = cdf[\"grade\"].astype(\"category\")\n",
    "cdf[\"Grade\"] = cdf[\"grade\"].categories=[\"very bad\",\"bad\",\"medium\",\"good\",\"very good\",\"excellent\"]\n",
    "cdf"
   ]
  },
  {
   "cell_type": "code",
   "execution_count": null,
   "id": "f8721362",
   "metadata": {},
   "outputs": [],
   "source": [
    "\n"
   ]
  }
 ],
 "metadata": {
  "kernelspec": {
   "display_name": "Python 3 (ipykernel)",
   "language": "python",
   "name": "python3"
  },
  "language_info": {
   "codemirror_mode": {
    "name": "ipython",
    "version": 3
   },
   "file_extension": ".py",
   "mimetype": "text/x-python",
   "name": "python",
   "nbconvert_exporter": "python",
   "pygments_lexer": "ipython3",
   "version": "3.9.13"
  },
  "varInspector": {
   "cols": {
    "lenName": 16,
    "lenType": 16,
    "lenVar": 40
   },
   "kernels_config": {
    "python": {
     "delete_cmd_postfix": "",
     "delete_cmd_prefix": "del ",
     "library": "var_list.py",
     "varRefreshCmd": "print(var_dic_list())"
    },
    "r": {
     "delete_cmd_postfix": ") ",
     "delete_cmd_prefix": "rm(",
     "library": "var_list.r",
     "varRefreshCmd": "cat(var_dic_list()) "
    }
   },
   "types_to_exclude": [
    "module",
    "function",
    "builtin_function_or_method",
    "instance",
    "_Feature"
   ],
   "window_display": false
  }
 },
 "nbformat": 4,
 "nbformat_minor": 5
}
