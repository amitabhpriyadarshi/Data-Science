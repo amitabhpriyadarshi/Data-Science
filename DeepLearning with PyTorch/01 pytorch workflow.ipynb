{
 "cells": [
  {
   "cell_type": "markdown",
   "id": "13d7a384",
   "metadata": {},
   "source": [
    "## PyTorch Workflow"
   ]
  },
  {
   "cell_type": "code",
   "execution_count": 1,
   "id": "fbcb9f3c",
   "metadata": {
    "ExecuteTime": {
     "end_time": "2023-05-21T15:42:20.457688Z",
     "start_time": "2023-05-21T15:42:13.156355Z"
    },
    "cell_style": "center"
   },
   "outputs": [
    {
     "name": "stdout",
     "output_type": "stream",
     "text": [
      "2.0.1\n"
     ]
    }
   ],
   "source": [
    "import torch\n",
    "from torch import nn\n",
    "import pandas as pd\n",
    "import numpy as np\n",
    "import matplotlib.pyplot as plt\n",
    "print(torch.__version__)\n",
    "import seaborn as sns"
   ]
  },
  {
   "cell_type": "code",
   "execution_count": 2,
   "id": "e16b7fc3",
   "metadata": {
    "ExecuteTime": {
     "end_time": "2023-05-21T15:42:20.484068Z",
     "start_time": "2023-05-21T15:42:20.460821Z"
    }
   },
   "outputs": [
    {
     "data": {
      "text/plain": [
       "(tensor([[0.0000],\n",
       "         [0.0200],\n",
       "         [0.0400],\n",
       "         [0.0600],\n",
       "         [0.0800],\n",
       "         [0.1000],\n",
       "         [0.1200],\n",
       "         [0.1400],\n",
       "         [0.1600],\n",
       "         [0.1800]]),\n",
       " tensor([[0.2000],\n",
       "         [0.2140],\n",
       "         [0.2280],\n",
       "         [0.2420],\n",
       "         [0.2560],\n",
       "         [0.2700],\n",
       "         [0.2840],\n",
       "         [0.2980],\n",
       "         [0.3120],\n",
       "         [0.3260]]))"
      ]
     },
     "execution_count": 2,
     "metadata": {},
     "output_type": "execute_result"
    }
   ],
   "source": [
    "weight = 0.7\n",
    "bias = 0.2\n",
    "\n",
    "# y=a+bx : b is weight and a is bias\n",
    "\n",
    "start = 0\n",
    "end = 1\n",
    "step = 0.02\n",
    "X = torch.arange(start, end, step).unsqueeze(dim=1)\n",
    "y = (weight * X) + bias\n",
    "\n",
    "X[:10], y[:10]"
   ]
  },
  {
   "cell_type": "code",
   "execution_count": 3,
   "id": "cb8a1fb7",
   "metadata": {
    "ExecuteTime": {
     "end_time": "2023-05-21T15:42:20.491540Z",
     "start_time": "2023-05-21T15:42:20.486236Z"
    }
   },
   "outputs": [
    {
     "data": {
      "text/plain": [
       "(50, 50)"
      ]
     },
     "execution_count": 3,
     "metadata": {},
     "output_type": "execute_result"
    }
   ],
   "source": [
    "len(X),len(y)"
   ]
  },
  {
   "cell_type": "code",
   "execution_count": 4,
   "id": "316bdda1",
   "metadata": {
    "ExecuteTime": {
     "end_time": "2023-05-21T15:42:20.503852Z",
     "start_time": "2023-05-21T15:42:20.496597Z"
    }
   },
   "outputs": [
    {
     "data": {
      "text/plain": [
       "40"
      ]
     },
     "execution_count": 4,
     "metadata": {},
     "output_type": "execute_result"
    }
   ],
   "source": [
    "# splitting data into train and test\n",
    "train_split = int(0.8*len(X))\n",
    "train_split"
   ]
  },
  {
   "cell_type": "code",
   "execution_count": 5,
   "id": "4825a04b",
   "metadata": {
    "ExecuteTime": {
     "end_time": "2023-05-21T15:42:20.515950Z",
     "start_time": "2023-05-21T15:42:20.508566Z"
    }
   },
   "outputs": [
    {
     "data": {
      "text/plain": [
       "(40, 40, 10, 10)"
      ]
     },
     "execution_count": 5,
     "metadata": {},
     "output_type": "execute_result"
    }
   ],
   "source": [
    "X_train,y_train = X[:train_split],y[:train_split]\n",
    "X_test,y_test = X[train_split:],y[train_split:]\n",
    "len(X_train),len(y_train),len(X_test),len(y_test)"
   ]
  },
  {
   "cell_type": "code",
   "execution_count": 6,
   "id": "d3380933",
   "metadata": {
    "ExecuteTime": {
     "end_time": "2023-05-21T15:42:20.776275Z",
     "start_time": "2023-05-21T15:42:20.518003Z"
    },
    "cell_style": "center"
   },
   "outputs": [
    {
     "data": {
      "image/png": "[encoded data removed]",
      "text/plain": [
       "<Figure size 600x600 with 1 Axes>"
      ]
     },
     "metadata": {},
     "output_type": "display_data"
    }
   ],
   "source": [
    "def plot_predictions(train_data=X_train, \n",
    "                     train_labels=y_train, \n",
    "                     test_data=X_test, \n",
    "                     test_labels=y_test,\n",
    "                     predictions=None\n",
    "                    ):\n",
    "    plt.figure(figsize=(6,6))\n",
    "    plt.scatter(train_data,train_labels,c='b',s=4, label=\"training data\")\n",
    "    plt.scatter(test_data,test_labels,c='g',s=4, label=\"testing data\")\n",
    "    if predictions is not None:\n",
    "        plt.scatter(test_data,predictions,c='r',s=4, label=\"prediction\")\n",
    "    plt.legend(prop={\"size\":14})\n",
    "    \n",
    "plot_predictions()"
   ]
  },
  {
   "cell_type": "code",
   "execution_count": 7,
   "id": "2a1d85ad",
   "metadata": {
    "ExecuteTime": {
     "end_time": "2023-05-21T15:42:20.784617Z",
     "start_time": "2023-05-21T15:42:20.778786Z"
    }
   },
   "outputs": [],
   "source": [
    "class LinearRegressionModel(nn.Module):\n",
    "    def __init__(self):\n",
    "        super().__init__()\n",
    "        self.weights = nn.Parameter(torch.randn(1,requires_grad=True, dtype=torch.float))\n",
    "        self.bias = nn.Parameter(torch.randn(1,requires_grad=True, dtype=torch.float))\n",
    "        # override forward method\n",
    "    def forward(self,x:torch.Tensor)->torch.Tensor:\n",
    "            return (self.weights * x) + self.bias\n",
    "        "
   ]
  },
  {
   "cell_type": "code",
   "execution_count": 8,
   "id": "c8ec3b45",
   "metadata": {
    "ExecuteTime": {
     "end_time": "2023-05-21T15:42:20.801246Z",
     "start_time": "2023-05-21T15:42:20.787292Z"
    }
   },
   "outputs": [
    {
     "data": {
      "text/plain": [
       "[Parameter containing:\n",
       " tensor([0.3367], requires_grad=True),\n",
       " Parameter containing:\n",
       " tensor([0.1288], requires_grad=True)]"
      ]
     },
     "execution_count": 8,
     "metadata": {},
     "output_type": "execute_result"
    }
   ],
   "source": [
    "torch.manual_seed(42)\n",
    "\n",
    "model_0 = LinearRegressionModel()\n",
    "\n",
    "list(model_0.parameters())\n"
   ]
  },
  {
   "cell_type": "code",
   "execution_count": 9,
   "id": "cf4e5c8a",
   "metadata": {
    "ExecuteTime": {
     "end_time": "2023-05-21T15:42:20.809664Z",
     "start_time": "2023-05-21T15:42:20.803183Z"
    }
   },
   "outputs": [
    {
     "data": {
      "text/plain": [
       "OrderedDict([('weights', tensor([0.3367])), ('bias', tensor([0.1288]))])"
      ]
     },
     "execution_count": 9,
     "metadata": {},
     "output_type": "execute_result"
    }
   ],
   "source": [
    "model_0.state_dict()"
   ]
  },
  {
   "cell_type": "code",
   "execution_count": 10,
   "id": "c6a84eea",
   "metadata": {
    "ExecuteTime": {
     "end_time": "2023-05-21T15:42:20.821248Z",
     "start_time": "2023-05-21T15:42:20.814775Z"
    }
   },
   "outputs": [
    {
     "data": {
      "text/plain": [
       "tensor([[0.3982],\n",
       "        [0.4049],\n",
       "        [0.4116],\n",
       "        [0.4184],\n",
       "        [0.4251],\n",
       "        [0.4318],\n",
       "        [0.4386],\n",
       "        [0.4453],\n",
       "        [0.4520],\n",
       "        [0.4588]])"
      ]
     },
     "execution_count": 10,
     "metadata": {},
     "output_type": "execute_result"
    }
   ],
   "source": [
    "#testing model without training\n",
    "with torch.inference_mode():\n",
    "    y_preds = model_0(X_test)\n",
    "    \n",
    "y_preds"
   ]
  },
  {
   "cell_type": "code",
   "execution_count": 11,
   "id": "7e8b6ffa",
   "metadata": {
    "ExecuteTime": {
     "end_time": "2023-05-21T15:42:21.042499Z",
     "start_time": "2023-05-21T15:42:20.824239Z"
    }
   },
   "outputs": [
    {
     "data": {
      "image/png": "[encoded data removed]",
      "text/plain": [
       "<Figure size 600x600 with 1 Axes>"
      ]
     },
     "metadata": {},
     "output_type": "display_data"
    }
   ],
   "source": [
    "plot_predictions(predictions=y_preds)"
   ]
  },
  {
   "cell_type": "markdown",
   "id": "72e708f8",
   "metadata": {},
   "source": [
    "## train the model"
   ]
  },
  {
   "cell_type": "code",
   "execution_count": 12,
   "id": "4d95a635",
   "metadata": {
    "ExecuteTime": {
     "end_time": "2023-05-21T15:42:21.048815Z",
     "start_time": "2023-05-21T15:42:21.044316Z"
    }
   },
   "outputs": [
    {
     "data": {
      "text/plain": [
       "L1Loss()"
      ]
     },
     "execution_count": 12,
     "metadata": {},
     "output_type": "execute_result"
    }
   ],
   "source": [
    "#loss function\n",
    "loss_fn = nn.L1Loss() # to see how poorly your model is predicting.\n",
    "loss_fn"
   ]
  },
  {
   "cell_type": "code",
   "execution_count": 13,
   "id": "c4f27dea",
   "metadata": {
    "ExecuteTime": {
     "end_time": "2023-05-21T15:42:21.059097Z",
     "start_time": "2023-05-21T15:42:21.051973Z"
    }
   },
   "outputs": [
    {
     "data": {
      "text/plain": [
       "SGD (\n",
       "Parameter Group 0\n",
       "    dampening: 0\n",
       "    differentiable: False\n",
       "    foreach: None\n",
       "    lr: 0.01\n",
       "    maximize: False\n",
       "    momentum: 0\n",
       "    nesterov: False\n",
       "    weight_decay: 0\n",
       ")"
      ]
     },
     "execution_count": 13,
     "metadata": {},
     "output_type": "execute_result"
    }
   ],
   "source": [
    "# set up the optimizer\n",
    "optimizer = torch.optim.SGD(model_0.parameters(),lr=0.01)\n",
    "optimizer"
   ]
  },
  {
   "cell_type": "code",
   "execution_count": 14,
   "id": "905f40da",
   "metadata": {
    "ExecuteTime": {
     "end_time": "2023-05-21T15:42:21.251231Z",
     "start_time": "2023-05-21T15:42:21.061794Z"
    },
    "scrolled": true
   },
   "outputs": [
    {
     "name": "stdout",
     "output_type": "stream",
     "text": [
      "Epoch: 0 |Loss: 0.21288137137889862 |Test Loss: 0.38106516003608704\n",
      "Epoch: 5 |Loss: 0.1552763283252716 |Test Loss: 0.31371015310287476\n",
      "Epoch: 10 |Loss: 0.10352079570293427 |Test Loss: 0.25147974491119385\n",
      "Epoch: 15 |Loss: 0.07614791393280029 |Test Loss: 0.2054152488708496\n",
      "Epoch: 20 |Loss: 0.06281837821006775 |Test Loss: 0.17283539474010468\n",
      "Epoch: 25 |Loss: 0.056416451930999756 |Test Loss: 0.1508382260799408\n",
      "Epoch: 30 |Loss: 0.05294134095311165 |Test Loss: 0.13596084713935852\n",
      "Epoch: 35 |Loss: 0.050631940364837646 |Test Loss: 0.12572267651557922\n",
      "Epoch: 40 |Loss: 0.04865921288728714 |Test Loss: 0.11750064045190811\n",
      "Epoch: 45 |Loss: 0.04691421240568161 |Test Loss: 0.11199061572551727\n",
      "Epoch: 50 |Loss: 0.04516920447349548 |Test Loss: 0.10648057609796524\n",
      "Epoch: 55 |Loss: 0.04342421144247055 |Test Loss: 0.1009705439209938\n",
      "Epoch: 60 |Loss: 0.04170272871851921 |Test Loss: 0.09683426469564438\n",
      "Epoch: 65 |Loss: 0.03998541831970215 |Test Loss: 0.09269803017377853\n",
      "Epoch: 70 |Loss: 0.03826601430773735 |Test Loss: 0.0885617583990097\n",
      "Epoch: 75 |Loss: 0.03654661402106285 |Test Loss: 0.08442547917366028\n",
      "Epoch: 80 |Loss: 0.03482924401760101 |Test Loss: 0.08097609877586365\n",
      "Epoch: 85 |Loss: 0.033115021884441376 |Test Loss: 0.07683982700109482\n",
      "Epoch: 90 |Loss: 0.031400807201862335 |Test Loss: 0.07270355522632599\n",
      "Epoch: 95 |Loss: 0.029681792482733727 |Test Loss: 0.06856729090213776\n",
      "Epoch: 100 |Loss: 0.027962392196059227 |Test Loss: 0.06443102657794952\n",
      "Epoch: 105 |Loss: 0.026242990046739578 |Test Loss: 0.0602947473526001\n",
      "Epoch: 110 |Loss: 0.02452731318771839 |Test Loss: 0.05684535577893257\n",
      "Epoch: 115 |Loss: 0.022813092917203903 |Test Loss: 0.05270911008119583\n",
      "Epoch: 120 |Loss: 0.0210975781083107 |Test Loss: 0.04857286810874939\n",
      "Epoch: 125 |Loss: 0.019378170371055603 |Test Loss: 0.04443662241101265\n",
      "Epoch: 130 |Loss: 0.017658770084381104 |Test Loss: 0.040300387889146805\n",
      "Epoch: 135 |Loss: 0.015939587727189064 |Test Loss: 0.036851055920124054\n",
      "Epoch: 140 |Loss: 0.014225363731384277 |Test Loss: 0.03271481394767761\n",
      "Epoch: 145 |Loss: 0.01251113973557949 |Test Loss: 0.02857857383787632\n",
      "Epoch: 150 |Loss: 0.010793947614729404 |Test Loss: 0.024442333728075027\n",
      "Epoch: 155 |Loss: 0.009074544534087181 |Test Loss: 0.020306086167693138\n",
      "Epoch: 160 |Loss: 0.007355140056461096 |Test Loss: 0.016169846057891846\n",
      "Epoch: 165 |Loss: 0.005637629888951778 |Test Loss: 0.012720471248030663\n",
      "Epoch: 170 |Loss: 0.003923413809388876 |Test Loss: 0.00858424324542284\n",
      "Epoch: 175 |Loss: 0.0022105842363089323 |Test Loss: 0.005143803544342518\n",
      "Epoch: 180 |Loss: 0.004262552596628666 |Test Loss: 0.005269003100693226\n",
      "Epoch: 185 |Loss: 0.007258452475070953 |Test Loss: 0.008202021941542625\n",
      "Epoch: 190 |Loss: 0.004262552596628666 |Test Loss: 0.005269003100693226\n",
      "Epoch: 195 |Loss: 0.007258452475070953 |Test Loss: 0.008202021941542625\n"
     ]
    }
   ],
   "source": [
    "# training loop\n",
    "\n",
    "\n",
    "epochs=200\n",
    "\n",
    "#tracking improvements\n",
    "epoch_counts=[]\n",
    "loss_values=[]\n",
    "test_loss_values=[]\n",
    "\n",
    "for epoch in range(epochs):\n",
    "    #0 set model to training mode\n",
    "    model_0.train()\n",
    "    #1 forward pass\n",
    "    y_preds = model_0(X_train)\n",
    "    #2 calculate the loss\n",
    "    loss=loss_fn(y_preds,y_train)\n",
    "#     print(loss)\n",
    "    #3 optimizer zero grad\n",
    "    optimizer.zero_grad()\n",
    "    #4 perform back propagation on the loss\n",
    "    loss.backward()\n",
    "    #5 step the optimizer\n",
    "    optimizer.step()\n",
    "    \n",
    "    #testing\n",
    "\n",
    "    model_0.eval()\n",
    "    with torch.inference_mode():\n",
    "        test_pred=model_0(X_test)\n",
    "        test_loss=loss_fn(test_pred,y_test)\n",
    "    if epoch %5==0:\n",
    "        epoch_counts.append(epoch)\n",
    "        loss_values.append(loss)\n",
    "        test_loss_values.append(test_loss)\n",
    "        print(f\"Epoch: {epoch} |Loss: {loss} |Test Loss: {test_loss}\")\n",
    "        \n",
    "        \n",
    "        "
   ]
  },
  {
   "cell_type": "code",
   "execution_count": 15,
   "id": "003e010a",
   "metadata": {
    "ExecuteTime": {
     "end_time": "2023-05-21T15:42:21.261023Z",
     "start_time": "2023-05-21T15:42:21.253932Z"
    }
   },
   "outputs": [
    {
     "name": "stdout",
     "output_type": "stream",
     "text": [
      "tensor(0.0073, grad_fn=<MeanBackward0>)\n",
      "OrderedDict([('weights', tensor([0.6921])), ('bias', tensor([0.1988]))])\n"
     ]
    }
   ],
   "source": [
    "print(loss)\n",
    "print(model_0.state_dict())"
   ]
  },
  {
   "cell_type": "code",
   "execution_count": 16,
   "id": "f50e9096",
   "metadata": {
    "ExecuteTime": {
     "end_time": "2023-05-21T15:42:21.271958Z",
     "start_time": "2023-05-21T15:42:21.265316Z"
    }
   },
   "outputs": [
    {
     "data": {
      "text/plain": [
       "tensor([[0.7525],\n",
       "        [0.7663],\n",
       "        [0.7802],\n",
       "        [0.7940],\n",
       "        [0.8079],\n",
       "        [0.8217],\n",
       "        [0.8356],\n",
       "        [0.8494],\n",
       "        [0.8632],\n",
       "        [0.8771]])"
      ]
     },
     "execution_count": 16,
     "metadata": {},
     "output_type": "execute_result"
    }
   ],
   "source": [
    "#testing model without training\n",
    "with torch.inference_mode():\n",
    "    y_preds = model_0(X_test)\n",
    "    \n",
    "y_preds"
   ]
  },
  {
   "cell_type": "code",
   "execution_count": 17,
   "id": "be84af4d",
   "metadata": {
    "ExecuteTime": {
     "end_time": "2023-05-21T15:42:21.480465Z",
     "start_time": "2023-05-21T15:42:21.274504Z"
    }
   },
   "outputs": [
    {
     "data": {
      "image/png": "[encoded data removed]",
      "text/plain": [
       "<Figure size 600x600 with 1 Axes>"
      ]
     },
     "metadata": {},
     "output_type": "display_data"
    }
   ],
   "source": [
    "plot_predictions(predictions=y_preds)"
   ]
  },
  {
   "cell_type": "code",
   "execution_count": 18,
   "id": "d2e55ea9",
   "metadata": {
    "ExecuteTime": {
     "end_time": "2023-05-21T15:42:21.486547Z",
     "start_time": "2023-05-21T15:42:21.483366Z"
    }
   },
   "outputs": [],
   "source": [
    "# we can increase the epochs to make the model learn more perfectly"
   ]
  },
  {
   "cell_type": "markdown",
   "id": "ea37224c",
   "metadata": {
    "ExecuteTime": {
     "end_time": "2023-05-20T22:29:57.297382Z",
     "start_time": "2023-05-20T22:29:57.293094Z"
    }
   },
   "source": [
    "## Plotting"
   ]
  },
  {
   "cell_type": "code",
   "execution_count": 19,
   "id": "325529c5",
   "metadata": {
    "ExecuteTime": {
     "end_time": "2023-05-21T15:42:21.514703Z",
     "start_time": "2023-05-21T15:42:21.488662Z"
    }
   },
   "outputs": [
    {
     "data": {
      "text/plain": [
       "([0,\n",
       "  5,\n",
       "  10,\n",
       "  15,\n",
       "  20,\n",
       "  25,\n",
       "  30,\n",
       "  35,\n",
       "  40,\n",
       "  45,\n",
       "  50,\n",
       "  55,\n",
       "  60,\n",
       "  65,\n",
       "  70,\n",
       "  75,\n",
       "  80,\n",
       "  85,\n",
       "  90,\n",
       "  95,\n",
       "  100,\n",
       "  105,\n",
       "  110,\n",
       "  115,\n",
       "  120,\n",
       "  125,\n",
       "  130,\n",
       "  135,\n",
       "  140,\n",
       "  145,\n",
       "  150,\n",
       "  155,\n",
       "  160,\n",
       "  165,\n",
       "  170,\n",
       "  175,\n",
       "  180,\n",
       "  185,\n",
       "  190,\n",
       "  195],\n",
       " [tensor(0.2129, grad_fn=<MeanBackward0>),\n",
       "  tensor(0.1553, grad_fn=<MeanBackward0>),\n",
       "  tensor(0.1035, grad_fn=<MeanBackward0>),\n",
       "  tensor(0.0761, grad_fn=<MeanBackward0>),\n",
       "  tensor(0.0628, grad_fn=<MeanBackward0>),\n",
       "  tensor(0.0564, grad_fn=<MeanBackward0>),\n",
       "  tensor(0.0529, grad_fn=<MeanBackward0>),\n",
       "  tensor(0.0506, grad_fn=<MeanBackward0>),\n",
       "  tensor(0.0487, grad_fn=<MeanBackward0>),\n",
       "  tensor(0.0469, grad_fn=<MeanBackward0>),\n",
       "  tensor(0.0452, grad_fn=<MeanBackward0>),\n",
       "  tensor(0.0434, grad_fn=<MeanBackward0>),\n",
       "  tensor(0.0417, grad_fn=<MeanBackward0>),\n",
       "  tensor(0.0400, grad_fn=<MeanBackward0>),\n",
       "  tensor(0.0383, grad_fn=<MeanBackward0>),\n",
       "  tensor(0.0365, grad_fn=<MeanBackward0>),\n",
       "  tensor(0.0348, grad_fn=<MeanBackward0>),\n",
       "  tensor(0.0331, grad_fn=<MeanBackward0>),\n",
       "  tensor(0.0314, grad_fn=<MeanBackward0>),\n",
       "  tensor(0.0297, grad_fn=<MeanBackward0>),\n",
       "  tensor(0.0280, grad_fn=<MeanBackward0>),\n",
       "  tensor(0.0262, grad_fn=<MeanBackward0>),\n",
       "  tensor(0.0245, grad_fn=<MeanBackward0>),\n",
       "  tensor(0.0228, grad_fn=<MeanBackward0>),\n",
       "  tensor(0.0211, grad_fn=<MeanBackward0>),\n",
       "  tensor(0.0194, grad_fn=<MeanBackward0>),\n",
       "  tensor(0.0177, grad_fn=<MeanBackward0>),\n",
       "  tensor(0.0159, grad_fn=<MeanBackward0>),\n",
       "  tensor(0.0142, grad_fn=<MeanBackward0>),\n",
       "  tensor(0.0125, grad_fn=<MeanBackward0>),\n",
       "  tensor(0.0108, grad_fn=<MeanBackward0>),\n",
       "  tensor(0.0091, grad_fn=<MeanBackward0>),\n",
       "  tensor(0.0074, grad_fn=<MeanBackward0>),\n",
       "  tensor(0.0056, grad_fn=<MeanBackward0>),\n",
       "  tensor(0.0039, grad_fn=<MeanBackward0>),\n",
       "  tensor(0.0022, grad_fn=<MeanBackward0>),\n",
       "  tensor(0.0043, grad_fn=<MeanBackward0>),\n",
       "  tensor(0.0073, grad_fn=<MeanBackward0>),\n",
       "  tensor(0.0043, grad_fn=<MeanBackward0>),\n",
       "  tensor(0.0073, grad_fn=<MeanBackward0>)],\n",
       " [tensor(0.3811),\n",
       "  tensor(0.3137),\n",
       "  tensor(0.2515),\n",
       "  tensor(0.2054),\n",
       "  tensor(0.1728),\n",
       "  tensor(0.1508),\n",
       "  tensor(0.1360),\n",
       "  tensor(0.1257),\n",
       "  tensor(0.1175),\n",
       "  tensor(0.1120),\n",
       "  tensor(0.1065),\n",
       "  tensor(0.1010),\n",
       "  tensor(0.0968),\n",
       "  tensor(0.0927),\n",
       "  tensor(0.0886),\n",
       "  tensor(0.0844),\n",
       "  tensor(0.0810),\n",
       "  tensor(0.0768),\n",
       "  tensor(0.0727),\n",
       "  tensor(0.0686),\n",
       "  tensor(0.0644),\n",
       "  tensor(0.0603),\n",
       "  tensor(0.0568),\n",
       "  tensor(0.0527),\n",
       "  tensor(0.0486),\n",
       "  tensor(0.0444),\n",
       "  tensor(0.0403),\n",
       "  tensor(0.0369),\n",
       "  tensor(0.0327),\n",
       "  tensor(0.0286),\n",
       "  tensor(0.0244),\n",
       "  tensor(0.0203),\n",
       "  tensor(0.0162),\n",
       "  tensor(0.0127),\n",
       "  tensor(0.0086),\n",
       "  tensor(0.0051),\n",
       "  tensor(0.0053),\n",
       "  tensor(0.0082),\n",
       "  tensor(0.0053),\n",
       "  tensor(0.0082)])"
      ]
     },
     "execution_count": 19,
     "metadata": {},
     "output_type": "execute_result"
    }
   ],
   "source": [
    "epoch_counts,loss_values,test_loss_values"
   ]
  },
  {
   "cell_type": "code",
   "execution_count": 20,
   "id": "6927da7a",
   "metadata": {
    "ExecuteTime": {
     "end_time": "2023-05-21T15:42:21.527126Z",
     "start_time": "2023-05-21T15:42:21.517476Z"
    }
   },
   "outputs": [
    {
     "name": "stdout",
     "output_type": "stream",
     "text": [
      "[0.21288137 0.15527633 0.1035208  0.07614791 0.06281838 0.05641645\n",
      " 0.05294134 0.05063194 0.04865921 0.04691421 0.0451692  0.04342421\n",
      " 0.04170273 0.03998542 0.03826601 0.03654661 0.03482924 0.03311502\n",
      " 0.03140081 0.02968179 0.02796239 0.02624299 0.02452731 0.02281309\n",
      " 0.02109758 0.01937817 0.01765877 0.01593959 0.01422536 0.01251114\n",
      " 0.01079395 0.00907454 0.00735514 0.00563763 0.00392341 0.00221058\n",
      " 0.00426255 0.00725845 0.00426255 0.00725845]\n",
      "[0.38106516 0.31371015 0.25147974 0.20541525 0.1728354  0.15083823\n",
      " 0.13596085 0.12572268 0.11750064 0.11199062 0.10648058 0.10097054\n",
      " 0.09683426 0.09269803 0.08856176 0.08442548 0.0809761  0.07683983\n",
      " 0.07270356 0.06856729 0.06443103 0.06029475 0.05684536 0.05270911\n",
      " 0.04857287 0.04443662 0.04030039 0.03685106 0.03271481 0.02857857\n",
      " 0.02444233 0.02030609 0.01616985 0.01272047 0.00858424 0.0051438\n",
      " 0.005269   0.00820202 0.005269   0.00820202]\n"
     ]
    }
   ],
   "source": [
    "print(np.array(torch.tensor(loss_values).numpy()))\n",
    "print(np.array(torch.tensor(test_loss_values).numpy()))"
   ]
  },
  {
   "cell_type": "code",
   "execution_count": 21,
   "id": "7cba50dd",
   "metadata": {
    "ExecuteTime": {
     "end_time": "2023-05-21T15:42:21.709642Z",
     "start_time": "2023-05-21T15:42:21.529779Z"
    }
   },
   "outputs": [
    {
     "data": {
      "image/png": "[encoded data removed]",
      "text/plain": [
       "<Figure size 640x480 with 1 Axes>"
      ]
     },
     "metadata": {},
     "output_type": "display_data"
    }
   ],
   "source": [
    "plt.plot(epoch_counts,np.array(torch.tensor(loss_values).numpy()),label=\"Train Loss\")\n",
    "plt.plot(epoch_counts,np.array(torch.tensor(test_loss_values).numpy()),label=\"Test Loss\")\n",
    "plt.title(\"Training and testing loss curve\")\n",
    "plt.ylabel(\"Loss\")\n",
    "plt.xlabel(\"Epochs\")\n",
    "plt.legend()\n",
    "plt.show()"
   ]
  },
  {
   "cell_type": "markdown",
   "id": "4e45016a",
   "metadata": {},
   "source": [
    "## saving model in PyTorch\n",
    "\n",
    "1.```torch.save()```: python pickle format. save<br>\n",
    "2.```torch.load()```: load<br>\n",
    "3.```torch.nn.Module.load_state_dict()```: load models saved dictionary"
   ]
  },
  {
   "cell_type": "code",
   "execution_count": 22,
   "id": "6e4a467b",
   "metadata": {
    "ExecuteTime": {
     "end_time": "2023-05-21T15:42:21.718509Z",
     "start_time": "2023-05-21T15:42:21.712247Z"
    }
   },
   "outputs": [],
   "source": [
    "#saving model\n",
    "from pathlib import Path\n",
    "\n",
    "MODEL_PATH = Path(\"models\")\n",
    "MODEL_PATH.mkdir(parents=True, exist_ok=True)\n",
    "\n",
    "MODEL_NAME = \"01_pytorch_workflow_model_0.pth\"\n",
    "MODEL_SAVE_PATH = MODEL_PATH/MODEL_NAME\n",
    "\n",
    "torch.save(model_0,MODEL_SAVE_PATH)\n"
   ]
  },
  {
   "cell_type": "code",
   "execution_count": 23,
   "id": "a994369e",
   "metadata": {
    "ExecuteTime": {
     "end_time": "2023-05-21T15:42:21.729116Z",
     "start_time": "2023-05-21T15:42:21.721835Z"
    }
   },
   "outputs": [
    {
     "data": {
      "text/plain": [
       "OrderedDict([('weights', tensor([0.6921])), ('bias', tensor([0.1988]))])"
      ]
     },
     "execution_count": 23,
     "metadata": {},
     "output_type": "execute_result"
    }
   ],
   "source": [
    "model_0.state_dict()"
   ]
  },
  {
   "cell_type": "code",
   "execution_count": 24,
   "id": "3dd8ca51",
   "metadata": {
    "ExecuteTime": {
     "end_time": "2023-05-21T15:42:21.739624Z",
     "start_time": "2023-05-21T15:42:21.731632Z"
    }
   },
   "outputs": [
    {
     "data": {
      "text/plain": [
       "OrderedDict([('weights', tensor([0.6921])), ('bias', tensor([0.1988]))])"
      ]
     },
     "execution_count": 24,
     "metadata": {},
     "output_type": "execute_result"
    }
   ],
   "source": [
    "#loading model\n",
    "model_0_loaded = torch.load(MODEL_SAVE_PATH)\n",
    "model_0_loaded.state_dict()"
   ]
  },
  {
   "cell_type": "code",
   "execution_count": 25,
   "id": "0559f6b3",
   "metadata": {
    "ExecuteTime": {
     "end_time": "2023-05-21T15:42:21.749755Z",
     "start_time": "2023-05-21T15:42:21.742194Z"
    }
   },
   "outputs": [
    {
     "data": {
      "text/plain": [
       "tensor([[0.7525],\n",
       "        [0.7663],\n",
       "        [0.7802],\n",
       "        [0.7940],\n",
       "        [0.8079],\n",
       "        [0.8217],\n",
       "        [0.8356],\n",
       "        [0.8494],\n",
       "        [0.8632],\n",
       "        [0.8771]])"
      ]
     },
     "execution_count": 25,
     "metadata": {},
     "output_type": "execute_result"
    }
   ],
   "source": [
    "model_0_loaded.eval()\n",
    "with torch.inference_mode():\n",
    "    model_0_loaded_preds = model_0_loaded(X_test)\n",
    "model_0_loaded_preds"
   ]
  },
  {
   "cell_type": "code",
   "execution_count": 26,
   "id": "5325f2bb",
   "metadata": {
    "ExecuteTime": {
     "end_time": "2023-05-21T15:42:21.975934Z",
     "start_time": "2023-05-21T15:42:21.751989Z"
    }
   },
   "outputs": [
    {
     "data": {
      "image/png": "[encoded data removed]",
      "text/plain": [
       "<Figure size 600x600 with 1 Axes>"
      ]
     },
     "metadata": {},
     "output_type": "display_data"
    }
   ],
   "source": [
    "plot_predictions(predictions=model_0_loaded_preds)"
   ]
  },
  {
   "cell_type": "code",
   "execution_count": 27,
   "id": "bf2a5da4",
   "metadata": {
    "ExecuteTime": {
     "end_time": "2023-05-21T15:42:21.985210Z",
     "start_time": "2023-05-21T15:42:21.978067Z"
    }
   },
   "outputs": [
    {
     "data": {
      "text/plain": [
       "tensor([[True],\n",
       "        [True],\n",
       "        [True],\n",
       "        [True],\n",
       "        [True],\n",
       "        [True],\n",
       "        [True],\n",
       "        [True],\n",
       "        [True],\n",
       "        [True]])"
      ]
     },
     "execution_count": 27,
     "metadata": {},
     "output_type": "execute_result"
    }
   ],
   "source": [
    "y_preds==model_0_loaded_preds"
   ]
  },
  {
   "cell_type": "code",
   "execution_count": null,
   "id": "daf11f73",
   "metadata": {},
   "outputs": [],
   "source": []
  }
 ],
 "metadata": {
  "hide_input": false,
  "kernelspec": {
   "display_name": "Python 3 (ipykernel)",
   "language": "python",
   "name": "python3"
  },
  "language_info": {
   "codemirror_mode": {
    "name": "ipython",
    "version": 3
   },
   "file_extension": ".py",
   "mimetype": "text/x-python",
   "name": "python",
   "nbconvert_exporter": "python",
   "pygments_lexer": "ipython3",
   "version": "3.9.13"
  },
  "varInspector": {
   "cols": {
    "lenName": 16,
    "lenType": 16,
    "lenVar": 40
   },
   "kernels_config": {
    "python": {
     "delete_cmd_postfix": "",
     "delete_cmd_prefix": "del ",
     "library": "var_list.py",
     "varRefreshCmd": "print(var_dic_list())"
    },
    "r": {
     "delete_cmd_postfix": ") ",
     "delete_cmd_prefix": "rm(",
     "library": "var_list.r",
     "varRefreshCmd": "cat(var_dic_list()) "
    }
   },
   "types_to_exclude": [
    "module",
    "function",
    "builtin_function_or_method",
    "instance",
    "_Feature"
   ],
   "window_display": false
  }
 },
 "nbformat": 4,
 "nbformat_minor": 5
}
