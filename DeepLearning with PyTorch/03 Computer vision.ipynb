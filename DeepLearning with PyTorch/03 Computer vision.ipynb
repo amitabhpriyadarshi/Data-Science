{
 "cells": [
  {
   "cell_type": "markdown",
   "id": "8459b541",
   "metadata": {},
   "source": [
    "# Computer Vision"
   ]
  },
  {
   "cell_type": "code",
   "execution_count": 1,
   "id": "9b5f8255",
   "metadata": {
    "ExecuteTime": {
     "end_time": "2023-05-23T20:16:44.006434Z",
     "start_time": "2023-05-23T20:16:40.144697Z"
    }
   },
   "outputs": [],
   "source": [
    "from pathlib import Path\n",
    "import torch\n",
    "from torch import nn\n",
    "\n",
    "import torchvision\n",
    "from torchvision import datasets\n",
    "from torchvision import transforms\n",
    "from torchvision.transforms import ToTensor\n",
    "\n",
    "\n",
    "import pandas as pd\n",
    "import numpy as np\n",
    "import matplotlib.pyplot as plt\n",
    "import seaborn as sns\n",
    "\n",
    "import sklearn\n",
    "from sklearn.model_selection import train_test_split"
   ]
  },
  {
   "cell_type": "code",
   "execution_count": 2,
   "id": "8ab48c75",
   "metadata": {
    "ExecuteTime": {
     "end_time": "2023-05-23T20:16:44.147613Z",
     "start_time": "2023-05-23T20:16:44.009351Z"
    },
    "scrolled": true
   },
   "outputs": [],
   "source": [
    "train_data = datasets.FashionMNIST(\n",
    "    root=\"data\",\n",
    "    train=True,\n",
    "    download=True,\n",
    "    transform=ToTensor(),\n",
    "    target_transform=None\n",
    ")\n",
    "test_data = datasets.FashionMNIST(\n",
    "    root=\"data\",\n",
    "    train=False,\n",
    "    download=True,\n",
    "    transform=ToTensor()\n",
    ")"
   ]
  },
  {
   "cell_type": "code",
   "execution_count": 3,
   "id": "93151e1b",
   "metadata": {
    "ExecuteTime": {
     "end_time": "2023-05-23T20:16:44.169167Z",
     "start_time": "2023-05-23T20:16:44.153230Z"
    }
   },
   "outputs": [
    {
     "data": {
      "text/plain": [
       "(60000, 10000)"
      ]
     },
     "execution_count": 3,
     "metadata": {},
     "output_type": "execute_result"
    }
   ],
   "source": [
    "len(train_data),len(test_data)"
   ]
  },
  {
   "cell_type": "code",
   "execution_count": 4,
   "id": "3db16169",
   "metadata": {
    "ExecuteTime": {
     "end_time": "2023-05-23T20:16:44.191331Z",
     "start_time": "2023-05-23T20:16:44.172740Z"
    }
   },
   "outputs": [
    {
     "data": {
      "text/plain": [
       "(9,\n",
       " torch.Size([1, 28, 28]),\n",
       " tensor([[[0.0000, 0.0000, 0.0000, 0.0000, 0.0000, 0.0000, 0.0000, 0.0000,\n",
       "           0.0000, 0.0000, 0.0000, 0.0000, 0.0000, 0.0000, 0.0000, 0.0000,\n",
       "           0.0000, 0.0000, 0.0000, 0.0000, 0.0000, 0.0000, 0.0000, 0.0000,\n",
       "           0.0000, 0.0000, 0.0000, 0.0000],\n",
       "          [0.0000, 0.0000, 0.0000, 0.0000, 0.0000, 0.0000, 0.0000, 0.0000,\n",
       "           0.0000, 0.0000, 0.0000, 0.0000, 0.0000, 0.0000, 0.0000, 0.0000,\n",
       "           0.0000, 0.0000, 0.0000, 0.0000, 0.0000, 0.0000, 0.0000, 0.0000,\n",
       "           0.0000, 0.0000, 0.0000, 0.0000],\n",
       "          [0.0000, 0.0000, 0.0000, 0.0000, 0.0000, 0.0000, 0.0000, 0.0000,\n",
       "           0.0000, 0.0000, 0.0000, 0.0000, 0.0000, 0.0000, 0.0000, 0.0000,\n",
       "           0.0000, 0.0000, 0.0000, 0.0000, 0.0000, 0.0000, 0.0000, 0.0000,\n",
       "           0.0000, 0.0000, 0.0000, 0.0000],\n",
       "          [0.0000, 0.0000, 0.0000, 0.0000, 0.0000, 0.0000, 0.0000, 0.0000,\n",
       "           0.0000, 0.0000, 0.0000, 0.0000, 0.0039, 0.0000, 0.0000, 0.0510,\n",
       "           0.2863, 0.0000, 0.0000, 0.0039, 0.0157, 0.0000, 0.0000, 0.0000,\n",
       "           0.0000, 0.0039, 0.0039, 0.0000],\n",
       "          [0.0000, 0.0000, 0.0000, 0.0000, 0.0000, 0.0000, 0.0000, 0.0000,\n",
       "           0.0000, 0.0000, 0.0000, 0.0000, 0.0118, 0.0000, 0.1412, 0.5333,\n",
       "           0.4980, 0.2431, 0.2118, 0.0000, 0.0000, 0.0000, 0.0039, 0.0118,\n",
       "           0.0157, 0.0000, 0.0000, 0.0118],\n",
       "          [0.0000, 0.0000, 0.0000, 0.0000, 0.0000, 0.0000, 0.0000, 0.0000,\n",
       "           0.0000, 0.0000, 0.0000, 0.0000, 0.0235, 0.0000, 0.4000, 0.8000,\n",
       "           0.6902, 0.5255, 0.5647, 0.4824, 0.0902, 0.0000, 0.0000, 0.0000,\n",
       "           0.0000, 0.0471, 0.0392, 0.0000],\n",
       "          [0.0000, 0.0000, 0.0000, 0.0000, 0.0000, 0.0000, 0.0000, 0.0000,\n",
       "           0.0000, 0.0000, 0.0000, 0.0000, 0.0000, 0.0000, 0.6078, 0.9255,\n",
       "           0.8118, 0.6980, 0.4196, 0.6118, 0.6314, 0.4275, 0.2510, 0.0902,\n",
       "           0.3020, 0.5098, 0.2824, 0.0588],\n",
       "          [0.0000, 0.0000, 0.0000, 0.0000, 0.0000, 0.0000, 0.0000, 0.0000,\n",
       "           0.0000, 0.0000, 0.0000, 0.0039, 0.0000, 0.2706, 0.8118, 0.8745,\n",
       "           0.8549, 0.8471, 0.8471, 0.6392, 0.4980, 0.4745, 0.4784, 0.5725,\n",
       "           0.5529, 0.3451, 0.6745, 0.2588],\n",
       "          [0.0000, 0.0000, 0.0000, 0.0000, 0.0000, 0.0000, 0.0000, 0.0000,\n",
       "           0.0000, 0.0039, 0.0039, 0.0039, 0.0000, 0.7843, 0.9098, 0.9098,\n",
       "           0.9137, 0.8980, 0.8745, 0.8745, 0.8431, 0.8353, 0.6431, 0.4980,\n",
       "           0.4824, 0.7686, 0.8980, 0.0000],\n",
       "          [0.0000, 0.0000, 0.0000, 0.0000, 0.0000, 0.0000, 0.0000, 0.0000,\n",
       "           0.0000, 0.0000, 0.0000, 0.0000, 0.0000, 0.7176, 0.8824, 0.8471,\n",
       "           0.8745, 0.8941, 0.9216, 0.8902, 0.8784, 0.8706, 0.8784, 0.8667,\n",
       "           0.8745, 0.9608, 0.6784, 0.0000],\n",
       "          [0.0000, 0.0000, 0.0000, 0.0000, 0.0000, 0.0000, 0.0000, 0.0000,\n",
       "           0.0000, 0.0000, 0.0000, 0.0000, 0.0000, 0.7569, 0.8941, 0.8549,\n",
       "           0.8353, 0.7765, 0.7059, 0.8314, 0.8235, 0.8275, 0.8353, 0.8745,\n",
       "           0.8627, 0.9529, 0.7922, 0.0000],\n",
       "          [0.0000, 0.0000, 0.0000, 0.0000, 0.0000, 0.0000, 0.0000, 0.0000,\n",
       "           0.0000, 0.0039, 0.0118, 0.0000, 0.0471, 0.8588, 0.8627, 0.8314,\n",
       "           0.8549, 0.7529, 0.6627, 0.8902, 0.8157, 0.8549, 0.8784, 0.8314,\n",
       "           0.8863, 0.7725, 0.8196, 0.2039],\n",
       "          [0.0000, 0.0000, 0.0000, 0.0000, 0.0000, 0.0000, 0.0000, 0.0000,\n",
       "           0.0000, 0.0000, 0.0235, 0.0000, 0.3882, 0.9569, 0.8706, 0.8627,\n",
       "           0.8549, 0.7961, 0.7765, 0.8667, 0.8431, 0.8353, 0.8706, 0.8627,\n",
       "           0.9608, 0.4667, 0.6549, 0.2196],\n",
       "          [0.0000, 0.0000, 0.0000, 0.0000, 0.0000, 0.0000, 0.0000, 0.0000,\n",
       "           0.0000, 0.0157, 0.0000, 0.0000, 0.2157, 0.9255, 0.8941, 0.9020,\n",
       "           0.8941, 0.9412, 0.9098, 0.8353, 0.8549, 0.8745, 0.9176, 0.8510,\n",
       "           0.8510, 0.8196, 0.3608, 0.0000],\n",
       "          [0.0000, 0.0000, 0.0039, 0.0157, 0.0235, 0.0275, 0.0078, 0.0000,\n",
       "           0.0000, 0.0000, 0.0000, 0.0000, 0.9294, 0.8863, 0.8510, 0.8745,\n",
       "           0.8706, 0.8588, 0.8706, 0.8667, 0.8471, 0.8745, 0.8980, 0.8431,\n",
       "           0.8549, 1.0000, 0.3020, 0.0000],\n",
       "          [0.0000, 0.0118, 0.0000, 0.0000, 0.0000, 0.0000, 0.0000, 0.0000,\n",
       "           0.0000, 0.2431, 0.5686, 0.8000, 0.8941, 0.8118, 0.8353, 0.8667,\n",
       "           0.8549, 0.8157, 0.8275, 0.8549, 0.8784, 0.8745, 0.8588, 0.8431,\n",
       "           0.8784, 0.9569, 0.6235, 0.0000],\n",
       "          [0.0000, 0.0000, 0.0000, 0.0000, 0.0706, 0.1725, 0.3216, 0.4196,\n",
       "           0.7412, 0.8941, 0.8627, 0.8706, 0.8510, 0.8863, 0.7843, 0.8039,\n",
       "           0.8275, 0.9020, 0.8784, 0.9176, 0.6902, 0.7373, 0.9804, 0.9725,\n",
       "           0.9137, 0.9333, 0.8431, 0.0000],\n",
       "          [0.0000, 0.2235, 0.7333, 0.8157, 0.8784, 0.8667, 0.8784, 0.8157,\n",
       "           0.8000, 0.8392, 0.8157, 0.8196, 0.7843, 0.6235, 0.9608, 0.7569,\n",
       "           0.8078, 0.8745, 1.0000, 1.0000, 0.8667, 0.9176, 0.8667, 0.8275,\n",
       "           0.8627, 0.9098, 0.9647, 0.0000],\n",
       "          [0.0118, 0.7922, 0.8941, 0.8784, 0.8667, 0.8275, 0.8275, 0.8392,\n",
       "           0.8039, 0.8039, 0.8039, 0.8627, 0.9412, 0.3137, 0.5882, 1.0000,\n",
       "           0.8980, 0.8667, 0.7373, 0.6039, 0.7490, 0.8235, 0.8000, 0.8196,\n",
       "           0.8706, 0.8941, 0.8824, 0.0000],\n",
       "          [0.3843, 0.9137, 0.7765, 0.8235, 0.8706, 0.8980, 0.8980, 0.9176,\n",
       "           0.9765, 0.8627, 0.7608, 0.8431, 0.8510, 0.9451, 0.2549, 0.2863,\n",
       "           0.4157, 0.4588, 0.6588, 0.8588, 0.8667, 0.8431, 0.8510, 0.8745,\n",
       "           0.8745, 0.8784, 0.8980, 0.1137],\n",
       "          [0.2941, 0.8000, 0.8314, 0.8000, 0.7569, 0.8039, 0.8275, 0.8824,\n",
       "           0.8471, 0.7255, 0.7725, 0.8078, 0.7765, 0.8353, 0.9412, 0.7647,\n",
       "           0.8902, 0.9608, 0.9373, 0.8745, 0.8549, 0.8314, 0.8196, 0.8706,\n",
       "           0.8627, 0.8667, 0.9020, 0.2627],\n",
       "          [0.1882, 0.7961, 0.7176, 0.7608, 0.8353, 0.7725, 0.7255, 0.7451,\n",
       "           0.7608, 0.7529, 0.7922, 0.8392, 0.8588, 0.8667, 0.8627, 0.9255,\n",
       "           0.8824, 0.8471, 0.7804, 0.8078, 0.7294, 0.7098, 0.6941, 0.6745,\n",
       "           0.7098, 0.8039, 0.8078, 0.4510],\n",
       "          [0.0000, 0.4784, 0.8588, 0.7569, 0.7020, 0.6706, 0.7176, 0.7686,\n",
       "           0.8000, 0.8235, 0.8353, 0.8118, 0.8275, 0.8235, 0.7843, 0.7686,\n",
       "           0.7608, 0.7490, 0.7647, 0.7490, 0.7765, 0.7529, 0.6902, 0.6118,\n",
       "           0.6549, 0.6941, 0.8235, 0.3608],\n",
       "          [0.0000, 0.0000, 0.2902, 0.7412, 0.8314, 0.7490, 0.6863, 0.6745,\n",
       "           0.6863, 0.7098, 0.7255, 0.7373, 0.7412, 0.7373, 0.7569, 0.7765,\n",
       "           0.8000, 0.8196, 0.8235, 0.8235, 0.8275, 0.7373, 0.7373, 0.7608,\n",
       "           0.7529, 0.8471, 0.6667, 0.0000],\n",
       "          [0.0078, 0.0000, 0.0000, 0.0000, 0.2588, 0.7843, 0.8706, 0.9294,\n",
       "           0.9373, 0.9490, 0.9647, 0.9529, 0.9569, 0.8667, 0.8627, 0.7569,\n",
       "           0.7490, 0.7020, 0.7137, 0.7137, 0.7098, 0.6902, 0.6510, 0.6588,\n",
       "           0.3882, 0.2275, 0.0000, 0.0000],\n",
       "          [0.0000, 0.0000, 0.0000, 0.0000, 0.0000, 0.0000, 0.0000, 0.1569,\n",
       "           0.2392, 0.1725, 0.2824, 0.1608, 0.1373, 0.0000, 0.0000, 0.0000,\n",
       "           0.0000, 0.0000, 0.0000, 0.0000, 0.0000, 0.0000, 0.0000, 0.0000,\n",
       "           0.0000, 0.0000, 0.0000, 0.0000],\n",
       "          [0.0000, 0.0000, 0.0000, 0.0000, 0.0000, 0.0000, 0.0000, 0.0000,\n",
       "           0.0000, 0.0000, 0.0000, 0.0000, 0.0000, 0.0000, 0.0000, 0.0000,\n",
       "           0.0000, 0.0000, 0.0000, 0.0000, 0.0000, 0.0000, 0.0000, 0.0000,\n",
       "           0.0000, 0.0000, 0.0000, 0.0000],\n",
       "          [0.0000, 0.0000, 0.0000, 0.0000, 0.0000, 0.0000, 0.0000, 0.0000,\n",
       "           0.0000, 0.0000, 0.0000, 0.0000, 0.0000, 0.0000, 0.0000, 0.0000,\n",
       "           0.0000, 0.0000, 0.0000, 0.0000, 0.0000, 0.0000, 0.0000, 0.0000,\n",
       "           0.0000, 0.0000, 0.0000, 0.0000]]]))"
      ]
     },
     "execution_count": 4,
     "metadata": {},
     "output_type": "execute_result"
    }
   ],
   "source": [
    "#see the first training example\n",
    "image, label = train_data[0]\n",
    "label,image.shape, image\n",
    "#Color,Height, width"
   ]
  },
  {
   "cell_type": "code",
   "execution_count": 5,
   "id": "fc8e8010",
   "metadata": {
    "ExecuteTime": {
     "end_time": "2023-05-23T20:16:44.204051Z",
     "start_time": "2023-05-23T20:16:44.196620Z"
    }
   },
   "outputs": [
    {
     "data": {
      "text/plain": [
       "['T-shirt/top',\n",
       " 'Trouser',\n",
       " 'Pullover',\n",
       " 'Dress',\n",
       " 'Coat',\n",
       " 'Sandal',\n",
       " 'Shirt',\n",
       " 'Sneaker',\n",
       " 'Bag',\n",
       " 'Ankle boot']"
      ]
     },
     "execution_count": 5,
     "metadata": {},
     "output_type": "execute_result"
    }
   ],
   "source": [
    "class_names = train_data.classes\n",
    "class_names"
   ]
  },
  {
   "cell_type": "code",
   "execution_count": 6,
   "id": "75cd363b",
   "metadata": {
    "ExecuteTime": {
     "end_time": "2023-05-23T20:16:44.216675Z",
     "start_time": "2023-05-23T20:16:44.207958Z"
    }
   },
   "outputs": [
    {
     "data": {
      "text/plain": [
       "{'T-shirt/top': 0,\n",
       " 'Trouser': 1,\n",
       " 'Pullover': 2,\n",
       " 'Dress': 3,\n",
       " 'Coat': 4,\n",
       " 'Sandal': 5,\n",
       " 'Shirt': 6,\n",
       " 'Sneaker': 7,\n",
       " 'Bag': 8,\n",
       " 'Ankle boot': 9}"
      ]
     },
     "execution_count": 6,
     "metadata": {},
     "output_type": "execute_result"
    }
   ],
   "source": [
    "class_to_idx = train_data.class_to_idx\n",
    "class_to_idx"
   ]
  },
  {
   "cell_type": "code",
   "execution_count": 7,
   "id": "44585604",
   "metadata": {
    "ExecuteTime": {
     "end_time": "2023-05-23T20:16:44.386578Z",
     "start_time": "2023-05-23T20:16:44.220604Z"
    }
   },
   "outputs": [
    {
     "data": {
      "text/plain": [
       "(-0.5, 27.5, 27.5, -0.5)"
      ]
     },
     "execution_count": 7,
     "metadata": {},
     "output_type": "execute_result"
    },
    {
     "data": {
      "image/png": "[encoded data removed]",
      "text/plain": [
       "<Figure size 640x480 with 1 Axes>"
      ]
     },
     "metadata": {},
     "output_type": "display_data"
    }
   ],
   "source": [
    "image_tensor_permuted = image.permute(1,2,0) # now its Height, width,color\n",
    "plt.imshow(image_tensor_permuted,cmap='gray')\n",
    "plt.title(class_names[label])\n",
    "plt.axis(False) #to remove the axis"
   ]
  },
  {
   "cell_type": "code",
   "execution_count": 8,
   "id": "2cc6e7ce",
   "metadata": {
    "ExecuteTime": {
     "end_time": "2023-05-23T20:16:45.049231Z",
     "start_time": "2023-05-23T20:16:44.390097Z"
    }
   },
   "outputs": [
    {
     "data": {
      "image/png": "[encoded data removed]",
      "text/plain": [
       "<Figure size 700x700 with 16 Axes>"
      ]
     },
     "metadata": {},
     "output_type": "display_data"
    }
   ],
   "source": [
    "# print random images\n",
    "torch.manual_seed=42\n",
    "fig = plt.figure(figsize=(7,7))\n",
    "rows,cols=4,4\n",
    "for i in range(1,rows*cols+1):\n",
    "    random_idx = torch.randint(0,len(train_data),size=[1]).item()\n",
    "    #print(random_idx)\n",
    "    img, label = train_data[random_idx]\n",
    "    fig.add_subplot(rows,cols,i)\n",
    "    plt.imshow(img.squeeze(),cmap='gray')\n",
    "    plt.title(class_names[label])\n",
    "    plt.axis(False)"
   ]
  },
  {
   "cell_type": "code",
   "execution_count": 9,
   "id": "b4c61af2",
   "metadata": {
    "ExecuteTime": {
     "end_time": "2023-05-23T20:16:45.064140Z",
     "start_time": "2023-05-23T20:16:45.056976Z"
    }
   },
   "outputs": [
    {
     "data": {
      "text/plain": [
       "(1875, 313)"
      ]
     },
     "execution_count": 9,
     "metadata": {},
     "output_type": "execute_result"
    }
   ],
   "source": [
    "# prepare dataloader in batches 32\n",
    "from torch.utils.data import DataLoader\n",
    "BATCH_SIZE=32\n",
    "train_dataloader = DataLoader(dataset=train_data, \n",
    "                              batch_size=BATCH_SIZE, \n",
    "                              shuffle=True)\n",
    "test_dataloader = DataLoader(dataset=test_data, \n",
    "                             batch_size=BATCH_SIZE, \n",
    "                             shuffle=False)\n",
    "\n",
    "len(train_dataloader),len(test_dataloader)"
   ]
  },
  {
   "cell_type": "code",
   "execution_count": 10,
   "id": "c59f545b",
   "metadata": {
    "ExecuteTime": {
     "end_time": "2023-05-23T20:16:45.088424Z",
     "start_time": "2023-05-23T20:16:45.067202Z"
    }
   },
   "outputs": [
    {
     "data": {
      "text/plain": [
       "(torch.Size([32, 1, 28, 28]), torch.Size([32]))"
      ]
     },
     "execution_count": 10,
     "metadata": {},
     "output_type": "execute_result"
    }
   ],
   "source": [
    "#check inside the training dataloader\n",
    "train_feature_batch,train_labels_batch = next(iter(train_dataloader))\n",
    "train_feature_batch.shape,train_labels_batch.shape"
   ]
  },
  {
   "cell_type": "code",
   "execution_count": 11,
   "id": "4cdbbb57",
   "metadata": {
    "ExecuteTime": {
     "end_time": "2023-05-23T20:16:45.171265Z",
     "start_time": "2023-05-23T20:16:45.091672Z"
    }
   },
   "outputs": [
    {
     "data": {
      "text/plain": [
       "(-0.5, 27.5, 27.5, -0.5)"
      ]
     },
     "execution_count": 11,
     "metadata": {},
     "output_type": "execute_result"
    },
    {
     "data": {
      "image/png": "[encoded data removed]",
      "text/plain": [
       "<Figure size 400x400 with 1 Axes>"
      ]
     },
     "metadata": {},
     "output_type": "display_data"
    }
   ],
   "source": [
    "# show a sample\n",
    "torch.manual_seed=42\n",
    "random_idx = torch.randint(0,len(train_feature_batch),size=[1]).item()\n",
    "\n",
    "fig = plt.figure(figsize=(4,4))\n",
    "\n",
    "img, label = train_feature_batch[random_idx],train_labels_batch[random_idx]\n",
    "plt.imshow(img.squeeze(),cmap='gray')\n",
    "plt.title(class_names[label])\n",
    "plt.axis(False)"
   ]
  },
  {
   "cell_type": "markdown",
   "id": "40a7584b",
   "metadata": {},
   "source": [
    "## Build baseline model"
   ]
  },
  {
   "cell_type": "code",
   "execution_count": 12,
   "id": "ad02f708",
   "metadata": {
    "ExecuteTime": {
     "end_time": "2023-05-23T20:16:45.184026Z",
     "start_time": "2023-05-23T20:16:45.175745Z"
    }
   },
   "outputs": [],
   "source": [
    "from torch import nn\n",
    "class FashionMNISTModelV0(nn.Module):\n",
    "    def __init__(self, input_shape:int, hidden_unit:int,output_shape:int):\n",
    "        super().__init__()\n",
    "        self.layer_stack = nn.Sequential(\n",
    "            nn.Flatten(),\n",
    "            nn.Linear(in_features=input_shape,\n",
    "                     out_features=hidden_unit),\n",
    "            nn.Linear(in_features=hidden_unit,\n",
    "                     out_features=output_shape)\n",
    "        )\n",
    "    def forward(self,x):\n",
    "        return self.layer_stack(x)\n",
    "    \n",
    "   "
   ]
  },
  {
   "cell_type": "code",
   "execution_count": 13,
   "id": "d8dd0b47",
   "metadata": {
    "ExecuteTime": {
     "end_time": "2023-05-23T20:16:45.197956Z",
     "start_time": "2023-05-23T20:16:45.187671Z"
    }
   },
   "outputs": [
    {
     "data": {
      "text/plain": [
       "FashionMNISTModelV0(\n",
       "  (layer_stack): Sequential(\n",
       "    (0): Flatten(start_dim=1, end_dim=-1)\n",
       "    (1): Linear(in_features=784, out_features=10, bias=True)\n",
       "    (2): Linear(in_features=10, out_features=10, bias=True)\n",
       "  )\n",
       ")"
      ]
     },
     "execution_count": 13,
     "metadata": {},
     "output_type": "execute_result"
    }
   ],
   "source": [
    "torch.manual_seed=42\n",
    "model_0 = FashionMNISTModelV0(\n",
    "    input_shape=784, #28x28 image size\n",
    "    hidden_unit=10,\n",
    "    output_shape=len(class_names)  \n",
    ")\n",
    "\n",
    "model_0.to(\"cpu\")"
   ]
  },
  {
   "cell_type": "code",
   "execution_count": null,
   "id": "69532933",
   "metadata": {},
   "outputs": [],
   "source": []
  },
  {
   "cell_type": "code",
   "execution_count": 14,
   "id": "0969c542",
   "metadata": {
    "ExecuteTime": {
     "end_time": "2023-05-23T20:16:45.211594Z",
     "start_time": "2023-05-23T20:16:45.202232Z"
    }
   },
   "outputs": [
    {
     "name": "stdout",
     "output_type": "stream",
     "text": [
      "helper file exist\n"
     ]
    }
   ],
   "source": [
    "# to import external py file and its function to our project\n",
    "import requests\n",
    "from pathlib import Path\n",
    "\n",
    "if Path(\"helper_function.py\").is_file():\n",
    "    print(\"helper file exist\")\n",
    "else:\n",
    "    print(\"downloading...\")\n",
    "    request = requests.get(\"https://raw.githubusercontent.com/mrdbourke/pytorch-deep-learning/main/helper_functions.py\")\n",
    "    with open(\"helper_function.py\",\"wb\") as f:\n",
    "        f.write(request.content)"
   ]
  },
  {
   "cell_type": "code",
   "execution_count": 15,
   "id": "4fd96175",
   "metadata": {
    "ExecuteTime": {
     "end_time": "2023-05-23T20:16:45.225206Z",
     "start_time": "2023-05-23T20:16:45.217222Z"
    }
   },
   "outputs": [],
   "source": [
    "\n",
    "# def accuracy_fn(y_true,y_pred):\n",
    "#     correct = torch.eq(y_true,y_pred).sum().item()\n",
    "#     acc = (correct/len(y_pred))*100\n",
    "#     return acc\n",
    "\n",
    "#or\n",
    "from helper_function import accuracy_fn\n",
    "\n",
    "## loss fn and optimizer and accuracy\n",
    "loss_fn = nn.CrossEntropyLoss()\n",
    "optimizer = torch.optim.SGD(params=model_0.parameters(),lr=0.1)\n"
   ]
  },
  {
   "cell_type": "code",
   "execution_count": 16,
   "id": "f52a3f4e",
   "metadata": {
    "ExecuteTime": {
     "end_time": "2023-05-23T20:16:45.235875Z",
     "start_time": "2023-05-23T20:16:45.229048Z"
    }
   },
   "outputs": [],
   "source": [
    "# to time our experiment\n",
    "from timeit import default_timer as timer\n",
    "\n",
    "def print_train_time(start:float,\n",
    "                    end:float,\n",
    "                    device:torch.device=None):\n",
    "    \"\"\"Prints difference between start and end time.\n",
    "\n",
    "    Args:\n",
    "        start (float): Start time of computation (preferred in timeit format). \n",
    "        end (float): End time of computation.\n",
    "        device ([type], optional): Device that compute is running on. Defaults to None.\n",
    "\n",
    "    Returns:\n",
    "        float: time between start and end in seconds (higher is longer).\n",
    "    \"\"\"\n",
    "    total_time=end-start\n",
    "    print(f\"Train time on {device}: {total_time:.3f} seconds\")\n",
    "    return total_time\n",
    "    "
   ]
  },
  {
   "cell_type": "markdown",
   "id": "9a2cbb0f",
   "metadata": {},
   "source": [
    "## train test loop"
   ]
  },
  {
   "cell_type": "code",
   "execution_count": 17,
   "id": "7d91794e",
   "metadata": {
    "ExecuteTime": {
     "end_time": "2023-05-23T20:17:13.947832Z",
     "start_time": "2023-05-23T20:16:45.240268Z"
    }
   },
   "outputs": [
    {
     "data": {
      "application/vnd.jupyter.widget-view+json": {
       "model_id": "33a46b575a1c40209f55414fb15e5ace",
       "version_major": 2,
       "version_minor": 0
      },
      "text/plain": [
       "  0%|          | 0/3 [00:00<?, ?it/s]"
      ]
     },
     "metadata": {},
     "output_type": "display_data"
    },
    {
     "name": "stdout",
     "output_type": "stream",
     "text": [
      "Epoch: 0\n",
      "-----\n",
      "Looked at 0/60000 samples\n",
      "Looked at 28800/60000 samples\n",
      "Looked at 57600/60000 samples\n",
      "Train loss: 0.5968 | Test loss: 0.5431, Test acc: 80.5611\n",
      "\n",
      "Epoch: 1\n",
      "-----\n",
      "Looked at 0/60000 samples\n",
      "Looked at 28800/60000 samples\n",
      "Looked at 57600/60000 samples\n",
      "Train loss: 0.4781 | Test loss: 0.5031, Test acc: 82.8275\n",
      "\n",
      "Epoch: 2\n",
      "-----\n",
      "Looked at 0/60000 samples\n",
      "Looked at 28800/60000 samples\n",
      "Looked at 57600/60000 samples\n",
      "Train loss: 0.4553 | Test loss: 0.4955, Test acc: 82.5879\n",
      "\n",
      "Train time on cpu: 28.692 seconds\n"
     ]
    }
   ],
   "source": [
    "from tqdm.auto import tqdm\n",
    "\n",
    "torch.manual_seed=42\n",
    "train_start = timer()\n",
    "\n",
    "\n",
    "epochs=3\n",
    "\n",
    "for epoch in tqdm(range(epochs)):\n",
    "    print(f\"Epoch: {epoch}\\n-----\")\n",
    "    train_loss =0\n",
    "    #add loop for batch\n",
    "    for batch,(X,y) in enumerate(train_dataloader):\n",
    "        model_0.train()\n",
    "        #forward pass\n",
    "        y_pred = model_0(X)\n",
    "        #calculating loss per batch\n",
    "        loss = loss_fn(y_pred,y)\n",
    "        train_loss+=loss\n",
    "        #optimize\n",
    "        optimizer.zero_grad()\n",
    "        #losss backward propg\n",
    "        loss.backward()\n",
    "        #optimizer step\n",
    "        optimizer.step()\n",
    "        #print\n",
    "        if batch % 900 ==0:\n",
    "            print(f\"Looked at {batch*len(X)}/{len(train_dataloader.dataset)} samples\")\n",
    "    #\n",
    "    train_loss/=len(train_dataloader)\n",
    "    \n",
    "    ##testing loop\n",
    "    test_loss,test_acc =0,0\n",
    "    model_0.eval()\n",
    "    with torch.inference_mode():\n",
    "        for X_test,y_test in test_dataloader:\n",
    "            test_pred = model_0(X_test)\n",
    "            test_loss+= loss_fn(test_pred,y_test)\n",
    "            test_acc+= accuracy_fn(y_true=y_test,y_pred=test_pred.argmax(dim=1))\n",
    "        test_loss/=len(test_dataloader)\n",
    "        test_acc/=len(test_dataloader)\n",
    "    print(f\"Train loss: {train_loss:.4f} | Test loss: {test_loss:.4f}, Test acc: {test_acc:.4f}\\n\")\n",
    "    \n",
    "    \n",
    "train_end=timer()\n",
    "tot_1 = print_train_time(train_start,train_end,device = str(next(model_0.parameters()).device))"
   ]
  },
  {
   "cell_type": "code",
   "execution_count": null,
   "id": "3765f54a",
   "metadata": {},
   "outputs": [],
   "source": []
  },
  {
   "cell_type": "markdown",
   "id": "9f5b60ee",
   "metadata": {},
   "source": [
    "## make prediction and model_0 result"
   ]
  },
  {
   "cell_type": "code",
   "execution_count": 18,
   "id": "695fb137",
   "metadata": {
    "ExecuteTime": {
     "end_time": "2023-05-23T20:17:13.960526Z",
     "start_time": "2023-05-23T20:17:13.951642Z"
    }
   },
   "outputs": [],
   "source": [
    "torch.manual_seed=42\n",
    "def eval_model(model:torch.nn.Module,\n",
    "               data_loader: torch.utils.data.DataLoader,\n",
    "               loss_fn:torch.nn.Module,\n",
    "               accuracy_fn):\n",
    "    loss,acc=0,0\n",
    "    model.eval()\n",
    "    with torch.inference_mode():\n",
    "        for X,y in tqdm(data_loader):\n",
    "            y_pred = model(X)\n",
    "            loss+= loss_fn(y_pred,y)\n",
    "            acc+= accuracy_fn(y_true=y,y_pred=y_pred.argmax(dim=1))\n",
    "        loss/=len(data_loader)\n",
    "        acc/=len(data_loader)\n",
    "    return {\"model_name\":model.__class__.__name__,\n",
    "            \"model_loss\":loss.item(),\n",
    "            \"model_acc\":acc\n",
    "           }         "
   ]
  },
  {
   "cell_type": "code",
   "execution_count": 19,
   "id": "ee3634c1",
   "metadata": {
    "ExecuteTime": {
     "end_time": "2023-05-23T20:17:15.691175Z",
     "start_time": "2023-05-23T20:17:13.963782Z"
    }
   },
   "outputs": [
    {
     "data": {
      "application/vnd.jupyter.widget-view+json": {
       "model_id": "199334b503414bad826478e2612283b6",
       "version_major": 2,
       "version_minor": 0
      },
      "text/plain": [
       "  0%|          | 0/313 [00:00<?, ?it/s]"
      ]
     },
     "metadata": {},
     "output_type": "display_data"
    },
    {
     "data": {
      "text/plain": [
       "{'model_name': 'FashionMNISTModelV0',\n",
       " 'model_loss': 0.49553433060646057,\n",
       " 'model_acc': 82.58785942492013}"
      ]
     },
     "execution_count": 19,
     "metadata": {},
     "output_type": "execute_result"
    }
   ],
   "source": [
    "model_0_results = eval_model(model=model_0, \n",
    "                             data_loader=test_dataloader,\n",
    "                             loss_fn=loss_fn, \n",
    "                             accuracy_fn=accuracy_fn\n",
    "                            )\n",
    "model_0_results"
   ]
  },
  {
   "cell_type": "markdown",
   "id": "59f41d0d",
   "metadata": {},
   "source": [
    "# Better model.  Non-linear model"
   ]
  },
  {
   "cell_type": "code",
   "execution_count": 20,
   "id": "2dfbb893",
   "metadata": {
    "ExecuteTime": {
     "end_time": "2023-05-23T20:17:15.734491Z",
     "start_time": "2023-05-23T20:17:15.701013Z"
    }
   },
   "outputs": [
    {
     "data": {
      "text/plain": [
       "'cpu'"
      ]
     },
     "execution_count": 20,
     "metadata": {},
     "output_type": "execute_result"
    }
   ],
   "source": [
    "import torch\n",
    "device = \"cuda\" if torch.cuda.is_available() else \"cpu\"\n",
    "device"
   ]
  },
  {
   "cell_type": "code",
   "execution_count": 21,
   "id": "6705ccc7",
   "metadata": {
    "ExecuteTime": {
     "end_time": "2023-05-23T20:17:15.756761Z",
     "start_time": "2023-05-23T20:17:15.741823Z"
    }
   },
   "outputs": [],
   "source": [
    "from torch import nn\n",
    "class FashionMNISTModelV1(nn.Module):\n",
    "    def __init__(self, input_shape:int, hidden_unit:int,output_shape:int):\n",
    "        super().__init__()\n",
    "        self.layer_stack = nn.Sequential(\n",
    "            nn.Flatten(),\n",
    "            nn.Linear(in_features=input_shape,out_features=hidden_unit),\n",
    "            nn.ReLU(),\n",
    "            nn.Linear(in_features=hidden_unit,out_features=output_shape),\n",
    "            nn.ReLU()\n",
    "        )\n",
    "    def forward(self,x:torch.Tensor):\n",
    "        return self.layer_stack(x)\n",
    "    \n",
    "   "
   ]
  },
  {
   "cell_type": "code",
   "execution_count": 22,
   "id": "24863406",
   "metadata": {
    "ExecuteTime": {
     "end_time": "2023-05-23T20:17:15.774969Z",
     "start_time": "2023-05-23T20:17:15.762395Z"
    }
   },
   "outputs": [
    {
     "data": {
      "text/plain": [
       "FashionMNISTModelV1(\n",
       "  (layer_stack): Sequential(\n",
       "    (0): Flatten(start_dim=1, end_dim=-1)\n",
       "    (1): Linear(in_features=784, out_features=10, bias=True)\n",
       "    (2): ReLU()\n",
       "    (3): Linear(in_features=10, out_features=10, bias=True)\n",
       "    (4): ReLU()\n",
       "  )\n",
       ")"
      ]
     },
     "execution_count": 22,
     "metadata": {},
     "output_type": "execute_result"
    }
   ],
   "source": [
    "torch.manual_seed=42\n",
    "model_1 = FashionMNISTModelV1(\n",
    "    input_shape=784, #28x28 image size\n",
    "    hidden_unit=10,\n",
    "    output_shape=len(class_names)  \n",
    ")\n",
    "\n",
    "model_1.to(device)"
   ]
  },
  {
   "cell_type": "code",
   "execution_count": 23,
   "id": "97adb9c2",
   "metadata": {
    "ExecuteTime": {
     "end_time": "2023-05-23T20:17:15.784925Z",
     "start_time": "2023-05-23T20:17:15.779206Z"
    }
   },
   "outputs": [],
   "source": [
    "from helper_function import accuracy_fn\n",
    "## loss fn and optimizer and accuracy\n",
    "loss_fn = nn.CrossEntropyLoss()\n",
    "optimizer = torch.optim.SGD(params=model_1.parameters(),lr=0.1)\n"
   ]
  },
  {
   "cell_type": "markdown",
   "id": "dab3e4ae",
   "metadata": {},
   "source": [
    "## function for training and test loop"
   ]
  },
  {
   "cell_type": "code",
   "execution_count": 24,
   "id": "766c518c",
   "metadata": {
    "ExecuteTime": {
     "end_time": "2023-05-23T20:17:15.802512Z",
     "start_time": "2023-05-23T20:17:15.789441Z"
    }
   },
   "outputs": [],
   "source": [
    "def train_step(model: torch.nn.Module,\n",
    "               data_loader:torch.utils.data.DataLoader,\n",
    "               loss_fn:torch.nn.Module,\n",
    "               optimizer:torch.optim.Optimizer,\n",
    "               accuracy_fn,\n",
    "               device: torch.device =device\n",
    "              ):\n",
    "    train_loss, train_acc = 0,0 \n",
    "    model.train()\n",
    "    for batch,(X,y) in enumerate(data_loader):\n",
    "        X,y = X.to(device),y.to(device)\n",
    "        y_pred = model(X)\n",
    "        loss = loss_fn(y_pred,y)\n",
    "        train_loss+=loss\n",
    "        train_acc+=accuracy_fn(y_true=y,y_pred=y_pred.argmax(dim=1))\n",
    "        optimizer.zero_grad()\n",
    "        loss.backward()\n",
    "        optimizer.step()\n",
    "    train_loss/=len(data_loader)\n",
    "    train_acc/=len(data_loader)\n",
    "    print(f\"Train Loss: {train_loss:.5f} | Train Accuracy: {train_acc:.2f}%\\n\")\n",
    "\n",
    "\n",
    "\n",
    "def test_step(model: torch.nn.Module,\n",
    "               data_loader:torch.utils.data.DataLoader,\n",
    "               loss_fn:torch.nn.Module,\n",
    "               accuracy_fn,\n",
    "               device: torch.device =device\n",
    "              ):\n",
    "    test_loss, test_acc = 0,0 \n",
    "    model.to(device)\n",
    "    model.eval()\n",
    "    with torch.inference_mode():\n",
    "        for X,y in data_loader:\n",
    "            X,y = X.to(device),y.to(device)\n",
    "            test_pred = model(X)\n",
    "            test_loss += loss_fn(test_pred,y)\n",
    "            test_acc+=accuracy_fn(y_true=y,y_pred=test_pred.argmax(dim=1))\n",
    "        test_loss/=len(data_loader)\n",
    "        test_acc/=len(data_loader)\n",
    "        print(f\"Test Loss: {test_loss:.5f} | Test Accuracy: {test_acc:.2f}%\\n\")\n"
   ]
  },
  {
   "cell_type": "code",
   "execution_count": 25,
   "id": "1523a531",
   "metadata": {
    "ExecuteTime": {
     "end_time": "2023-05-23T20:17:45.165235Z",
     "start_time": "2023-05-23T20:17:15.806584Z"
    },
    "scrolled": true
   },
   "outputs": [
    {
     "data": {
      "application/vnd.jupyter.widget-view+json": {
       "model_id": "94b3a044043c49d4ba3ec2f93e634cbd",
       "version_major": 2,
       "version_minor": 0
      },
      "text/plain": [
       "  0%|          | 0/3 [00:00<?, ?it/s]"
      ]
     },
     "metadata": {},
     "output_type": "display_data"
    },
    {
     "name": "stdout",
     "output_type": "stream",
     "text": [
      "Epoch: 0\n",
      "-----\n",
      "Train Loss: 0.92134 | Train Accuracy: 68.89%\n",
      "\n",
      "Test Loss: 0.72065 | Test Accuracy: 74.24%\n",
      "\n",
      "Epoch: 1\n",
      "-----\n",
      "Train Loss: 0.68790 | Train Accuracy: 75.08%\n",
      "\n",
      "Test Loss: 0.76194 | Test Accuracy: 72.47%\n",
      "\n",
      "Epoch: 2\n",
      "-----\n",
      "Train Loss: 0.65489 | Train Accuracy: 76.07%\n",
      "\n",
      "Test Loss: 0.67445 | Test Accuracy: 75.37%\n",
      "\n",
      "Train time on cpu: 29.349 seconds\n"
     ]
    }
   ],
   "source": [
    "from tqdm.auto import tqdm\n",
    "\n",
    "torch.manual_seed=42\n",
    "train_start = timer()\n",
    "\n",
    "epochs=3\n",
    "\n",
    "for epoch in tqdm(range(epochs)):\n",
    "    print(f\"Epoch: {epoch}\\n-----\")\n",
    "    train_step(model=model_1,\n",
    "              data_loader=train_dataloader,\n",
    "              loss_fn=loss_fn,\n",
    "              optimizer=optimizer,\n",
    "              accuracy_fn=accuracy_fn,\n",
    "              device=device)\n",
    "    \n",
    "    test_step(model=model_1,\n",
    "              data_loader=test_dataloader,\n",
    "              loss_fn=loss_fn,\n",
    "              accuracy_fn=accuracy_fn,\n",
    "              device=device)\n",
    "    \n",
    "    \n",
    "train_end=timer()\n",
    "tot2 = print_train_time(train_start,train_end,device = str(next(model_1.parameters()).device))"
   ]
  },
  {
   "cell_type": "code",
   "execution_count": 26,
   "id": "bc9f1354",
   "metadata": {
    "ExecuteTime": {
     "end_time": "2023-05-23T20:17:45.174612Z",
     "start_time": "2023-05-23T20:17:45.168312Z"
    }
   },
   "outputs": [
    {
     "data": {
      "text/plain": [
       "{'model_name': 'FashionMNISTModelV0',\n",
       " 'model_loss': 0.49553433060646057,\n",
       " 'model_acc': 82.58785942492013}"
      ]
     },
     "execution_count": 26,
     "metadata": {},
     "output_type": "execute_result"
    }
   ],
   "source": [
    "model_0_results"
   ]
  },
  {
   "cell_type": "code",
   "execution_count": 27,
   "id": "e8733128",
   "metadata": {
    "ExecuteTime": {
     "end_time": "2023-05-23T20:17:46.842897Z",
     "start_time": "2023-05-23T20:17:45.193386Z"
    }
   },
   "outputs": [
    {
     "data": {
      "application/vnd.jupyter.widget-view+json": {
       "model_id": "988e09d52a6942489aab4f144d494400",
       "version_major": 2,
       "version_minor": 0
      },
      "text/plain": [
       "  0%|          | 0/313 [00:00<?, ?it/s]"
      ]
     },
     "metadata": {},
     "output_type": "display_data"
    },
    {
     "data": {
      "text/plain": [
       "{'model_name': 'FashionMNISTModelV1',\n",
       " 'model_loss': 0.6744546890258789,\n",
       " 'model_acc': 75.3694089456869}"
      ]
     },
     "execution_count": 27,
     "metadata": {},
     "output_type": "execute_result"
    }
   ],
   "source": [
    "model_1_results = eval_model(model=model_1, \n",
    "                             data_loader=test_dataloader,\n",
    "                             loss_fn=loss_fn, \n",
    "                             accuracy_fn=accuracy_fn\n",
    "                            )\n",
    "model_1_results"
   ]
  },
  {
   "cell_type": "markdown",
   "id": "a9b6c521",
   "metadata": {},
   "source": [
    "# CNN Model  "
   ]
  },
  {
   "cell_type": "code",
   "execution_count": 28,
   "id": "ae1ce3c0",
   "metadata": {
    "ExecuteTime": {
     "end_time": "2023-05-23T20:17:46.858960Z",
     "start_time": "2023-05-23T20:17:46.846914Z"
    }
   },
   "outputs": [],
   "source": [
    "from torch import nn\n",
    "class FashionMNISTModelV2(nn.Module):\n",
    "    def __init__(self, input_shape:int, hidden_unit:int,output_shape:int):\n",
    "        super().__init__()\n",
    "        self.conv_block_1= nn.Sequential(\n",
    "            nn.Conv2d(in_channels=input_shape,\n",
    "                      out_channels=hidden_unit,\n",
    "                      kernel_size=3,\n",
    "                      stride=1,\n",
    "                      padding=1),\n",
    "            nn.ReLU(),\n",
    "            nn.Conv2d(in_channels=hidden_unit,\n",
    "                      out_channels=hidden_unit,\n",
    "                      kernel_size=3,\n",
    "                      stride=1,\n",
    "                      padding=1),\n",
    "            nn.ReLU(),\n",
    "            nn.MaxPool2d(kernel_size=2)\n",
    "        )\n",
    "        self.conv_block_2= nn.Sequential(\n",
    "            nn.Conv2d(in_channels=hidden_unit,\n",
    "                      out_channels=hidden_unit,\n",
    "                      kernel_size=3,\n",
    "                      stride=1,\n",
    "                      padding=1),\n",
    "            nn.ReLU(),\n",
    "            nn.Conv2d(in_channels=hidden_unit,\n",
    "                      out_channels=hidden_unit,\n",
    "                      kernel_size=3,\n",
    "                      stride=1,\n",
    "                      padding=1),\n",
    "            nn.ReLU(),\n",
    "            nn.MaxPool2d(kernel_size=2)\n",
    "        )\n",
    "        self.classifier=nn.Sequential(\n",
    "            nn.Flatten(),\n",
    "            nn.Linear(in_features=hidden_unit*7*7,out_features=output_shape)\n",
    "        \n",
    "        )\n",
    "        \n",
    "    def forward(self,x):\n",
    "        x= self.conv_block_1(x)\n",
    "#         print(f\"Out shape of Conv_block1: {x.shape}\")\n",
    "        x= self.conv_block_2(x)\n",
    "#         print(f\"Out shape of Conv_block2: {x.shape}\")\n",
    "        x= self.classifier(x)\n",
    "#         print(f\"Out shape of Classifier: {x.shape}\")\n",
    "        return x\n",
    "    \n",
    "   "
   ]
  },
  {
   "cell_type": "code",
   "execution_count": 29,
   "id": "4baf34d1",
   "metadata": {
    "ExecuteTime": {
     "end_time": "2023-05-23T20:17:46.874477Z",
     "start_time": "2023-05-23T20:17:46.862659Z"
    }
   },
   "outputs": [
    {
     "data": {
      "text/plain": [
       "FashionMNISTModelV2(\n",
       "  (conv_block_1): Sequential(\n",
       "    (0): Conv2d(1, 10, kernel_size=(3, 3), stride=(1, 1), padding=(1, 1))\n",
       "    (1): ReLU()\n",
       "    (2): Conv2d(10, 10, kernel_size=(3, 3), stride=(1, 1), padding=(1, 1))\n",
       "    (3): ReLU()\n",
       "    (4): MaxPool2d(kernel_size=2, stride=2, padding=0, dilation=1, ceil_mode=False)\n",
       "  )\n",
       "  (conv_block_2): Sequential(\n",
       "    (0): Conv2d(10, 10, kernel_size=(3, 3), stride=(1, 1), padding=(1, 1))\n",
       "    (1): ReLU()\n",
       "    (2): Conv2d(10, 10, kernel_size=(3, 3), stride=(1, 1), padding=(1, 1))\n",
       "    (3): ReLU()\n",
       "    (4): MaxPool2d(kernel_size=2, stride=2, padding=0, dilation=1, ceil_mode=False)\n",
       "  )\n",
       "  (classifier): Sequential(\n",
       "    (0): Flatten(start_dim=1, end_dim=-1)\n",
       "    (1): Linear(in_features=490, out_features=10, bias=True)\n",
       "  )\n",
       ")"
      ]
     },
     "execution_count": 29,
     "metadata": {},
     "output_type": "execute_result"
    }
   ],
   "source": [
    "torch.manual_seed=42\n",
    "model_2 = FashionMNISTModelV2(\n",
    "    input_shape=1, #color channel\n",
    "    hidden_unit=10,\n",
    "    output_shape=len(class_names)  \n",
    ")\n",
    "\n",
    "model_2.to(device)"
   ]
  },
  {
   "cell_type": "code",
   "execution_count": 30,
   "id": "1372aa95",
   "metadata": {
    "ExecuteTime": {
     "end_time": "2023-05-23T20:17:46.882973Z",
     "start_time": "2023-05-23T20:17:46.877717Z"
    }
   },
   "outputs": [],
   "source": [
    "from helper_function import accuracy_fn\n",
    "## loss fn and optimizer and accuracy\n",
    "loss_fn = nn.CrossEntropyLoss()\n",
    "optimizer = torch.optim.SGD(params=model_2.parameters(),lr=0.1)\n"
   ]
  },
  {
   "cell_type": "code",
   "execution_count": 31,
   "id": "b6ba796d",
   "metadata": {
    "ExecuteTime": {
     "end_time": "2023-05-23T20:19:19.506914Z",
     "start_time": "2023-05-23T20:17:46.886809Z"
    }
   },
   "outputs": [
    {
     "data": {
      "application/vnd.jupyter.widget-view+json": {
       "model_id": "c85a8ff8cb9040ba93fbc690d52e9a1d",
       "version_major": 2,
       "version_minor": 0
      },
      "text/plain": [
       "  0%|          | 0/3 [00:00<?, ?it/s]"
      ]
     },
     "metadata": {},
     "output_type": "display_data"
    },
    {
     "name": "stdout",
     "output_type": "stream",
     "text": [
      "Epoch: 0\n",
      "-----\n",
      "Train Loss: 0.61056 | Train Accuracy: 77.77%\n",
      "\n",
      "Test Loss: 0.38823 | Test Accuracy: 86.11%\n",
      "\n",
      "Epoch: 1\n",
      "-----\n",
      "Train Loss: 0.34938 | Train Accuracy: 87.51%\n",
      "\n",
      "Test Loss: 0.34657 | Test Accuracy: 87.94%\n",
      "\n",
      "Epoch: 2\n",
      "-----\n",
      "Train Loss: 0.31658 | Train Accuracy: 88.54%\n",
      "\n",
      "Test Loss: 0.31633 | Test Accuracy: 88.92%\n",
      "\n",
      "Train time on cpu: 92.612 seconds\n"
     ]
    }
   ],
   "source": [
    "from tqdm.auto import tqdm\n",
    "\n",
    "torch.manual_seed=42\n",
    "train_start = timer()\n",
    "\n",
    "epochs=3\n",
    "\n",
    "for epoch in tqdm(range(epochs)):\n",
    "    print(f\"Epoch: {epoch}\\n-----\")\n",
    "    train_step(model=model_2,\n",
    "              data_loader=train_dataloader,\n",
    "              loss_fn=loss_fn,\n",
    "              optimizer=optimizer,\n",
    "              accuracy_fn=accuracy_fn,\n",
    "              device=device)\n",
    "    \n",
    "    test_step(model=model_2,\n",
    "              data_loader=test_dataloader,\n",
    "              loss_fn=loss_fn,\n",
    "              accuracy_fn=accuracy_fn,\n",
    "              device=device)\n",
    "    \n",
    "    \n",
    "train_end=timer()\n",
    "tot3 = print_train_time(train_start,train_end,device = str(next(model_1.parameters()).device))"
   ]
  },
  {
   "cell_type": "code",
   "execution_count": 32,
   "id": "842b9473",
   "metadata": {
    "ExecuteTime": {
     "end_time": "2023-05-23T20:19:22.869942Z",
     "start_time": "2023-05-23T20:19:19.510156Z"
    }
   },
   "outputs": [
    {
     "data": {
      "application/vnd.jupyter.widget-view+json": {
       "model_id": "ca5eaa67d73f4b1aa0d089d724e1f487",
       "version_major": 2,
       "version_minor": 0
      },
      "text/plain": [
       "  0%|          | 0/313 [00:00<?, ?it/s]"
      ]
     },
     "metadata": {},
     "output_type": "display_data"
    },
    {
     "data": {
      "text/plain": [
       "{'model_name': 'FashionMNISTModelV2',\n",
       " 'model_loss': 0.31633126735687256,\n",
       " 'model_acc': 88.91773162939297}"
      ]
     },
     "execution_count": 32,
     "metadata": {},
     "output_type": "execute_result"
    }
   ],
   "source": [
    "model_2_results = eval_model(model=model_2, \n",
    "                             data_loader=test_dataloader,\n",
    "                             loss_fn=loss_fn, \n",
    "                             accuracy_fn=accuracy_fn\n",
    "                            )\n",
    "model_2_results"
   ]
  },
  {
   "cell_type": "code",
   "execution_count": 33,
   "id": "75e6c314",
   "metadata": {
    "ExecuteTime": {
     "end_time": "2023-05-23T20:19:22.880679Z",
     "start_time": "2023-05-23T20:19:22.874530Z"
    }
   },
   "outputs": [
    {
     "data": {
      "text/plain": [
       "{'model_name': 'FashionMNISTModelV0',\n",
       " 'model_loss': 0.49553433060646057,\n",
       " 'model_acc': 82.58785942492013}"
      ]
     },
     "execution_count": 33,
     "metadata": {},
     "output_type": "execute_result"
    }
   ],
   "source": [
    "model_0_results"
   ]
  },
  {
   "cell_type": "code",
   "execution_count": 34,
   "id": "57b9d600",
   "metadata": {
    "ExecuteTime": {
     "end_time": "2023-05-23T20:19:22.891789Z",
     "start_time": "2023-05-23T20:19:22.883843Z"
    }
   },
   "outputs": [
    {
     "data": {
      "text/plain": [
       "{'model_name': 'FashionMNISTModelV1',\n",
       " 'model_loss': 0.6744546890258789,\n",
       " 'model_acc': 75.3694089456869}"
      ]
     },
     "execution_count": 34,
     "metadata": {},
     "output_type": "execute_result"
    }
   ],
   "source": [
    "model_1_results"
   ]
  },
  {
   "cell_type": "markdown",
   "id": "b76020c1",
   "metadata": {},
   "source": [
    "# compare. result "
   ]
  },
  {
   "cell_type": "code",
   "execution_count": 35,
   "id": "3084fc06",
   "metadata": {
    "ExecuteTime": {
     "end_time": "2023-05-23T20:19:22.913233Z",
     "start_time": "2023-05-23T20:19:22.895176Z"
    }
   },
   "outputs": [
    {
     "data": {
      "text/html": [
       "<div>\n",
       "<style scoped>\n",
       "    .dataframe tbody tr th:only-of-type {\n",
       "        vertical-align: middle;\n",
       "    }\n",
       "\n",
       "    .dataframe tbody tr th {\n",
       "        vertical-align: top;\n",
       "    }\n",
       "\n",
       "    .dataframe thead th {\n",
       "        text-align: right;\n",
       "    }\n",
       "</style>\n",
       "<table border=\"1\" class=\"dataframe\">\n",
       "  <thead>\n",
       "    <tr style=\"text-align: right;\">\n",
       "      <th></th>\n",
       "      <th>model_name</th>\n",
       "      <th>model_loss</th>\n",
       "      <th>model_acc</th>\n",
       "    </tr>\n",
       "  </thead>\n",
       "  <tbody>\n",
       "    <tr>\n",
       "      <th>0</th>\n",
       "      <td>FashionMNISTModelV0</td>\n",
       "      <td>0.495534</td>\n",
       "      <td>82.587859</td>\n",
       "    </tr>\n",
       "    <tr>\n",
       "      <th>1</th>\n",
       "      <td>FashionMNISTModelV1</td>\n",
       "      <td>0.674455</td>\n",
       "      <td>75.369409</td>\n",
       "    </tr>\n",
       "    <tr>\n",
       "      <th>2</th>\n",
       "      <td>FashionMNISTModelV2</td>\n",
       "      <td>0.316331</td>\n",
       "      <td>88.917732</td>\n",
       "    </tr>\n",
       "  </tbody>\n",
       "</table>\n",
       "</div>"
      ],
      "text/plain": [
       "            model_name  model_loss  model_acc\n",
       "0  FashionMNISTModelV0    0.495534  82.587859\n",
       "1  FashionMNISTModelV1    0.674455  75.369409\n",
       "2  FashionMNISTModelV2    0.316331  88.917732"
      ]
     },
     "execution_count": 35,
     "metadata": {},
     "output_type": "execute_result"
    }
   ],
   "source": [
    "import pandas as pd\n",
    "compare_results = pd.DataFrame([model_0_results, model_1_results, model_2_results])\n",
    "compare_results"
   ]
  },
  {
   "cell_type": "code",
   "execution_count": 37,
   "id": "039dbed7",
   "metadata": {
    "ExecuteTime": {
     "end_time": "2023-05-23T20:20:08.351739Z",
     "start_time": "2023-05-23T20:20:08.337461Z"
    }
   },
   "outputs": [
    {
     "data": {
      "text/html": [
       "<div>\n",
       "<style scoped>\n",
       "    .dataframe tbody tr th:only-of-type {\n",
       "        vertical-align: middle;\n",
       "    }\n",
       "\n",
       "    .dataframe tbody tr th {\n",
       "        vertical-align: top;\n",
       "    }\n",
       "\n",
       "    .dataframe thead th {\n",
       "        text-align: right;\n",
       "    }\n",
       "</style>\n",
       "<table border=\"1\" class=\"dataframe\">\n",
       "  <thead>\n",
       "    <tr style=\"text-align: right;\">\n",
       "      <th></th>\n",
       "      <th>model_name</th>\n",
       "      <th>model_loss</th>\n",
       "      <th>model_acc</th>\n",
       "      <th>training_time</th>\n",
       "    </tr>\n",
       "  </thead>\n",
       "  <tbody>\n",
       "    <tr>\n",
       "      <th>0</th>\n",
       "      <td>FashionMNISTModelV0</td>\n",
       "      <td>0.495534</td>\n",
       "      <td>82.587859</td>\n",
       "      <td>28.692067</td>\n",
       "    </tr>\n",
       "    <tr>\n",
       "      <th>1</th>\n",
       "      <td>FashionMNISTModelV1</td>\n",
       "      <td>0.674455</td>\n",
       "      <td>75.369409</td>\n",
       "      <td>29.348943</td>\n",
       "    </tr>\n",
       "    <tr>\n",
       "      <th>2</th>\n",
       "      <td>FashionMNISTModelV2</td>\n",
       "      <td>0.316331</td>\n",
       "      <td>88.917732</td>\n",
       "      <td>92.612062</td>\n",
       "    </tr>\n",
       "  </tbody>\n",
       "</table>\n",
       "</div>"
      ],
      "text/plain": [
       "            model_name  model_loss  model_acc  training_time\n",
       "0  FashionMNISTModelV0    0.495534  82.587859      28.692067\n",
       "1  FashionMNISTModelV1    0.674455  75.369409      29.348943\n",
       "2  FashionMNISTModelV2    0.316331  88.917732      92.612062"
      ]
     },
     "execution_count": 37,
     "metadata": {},
     "output_type": "execute_result"
    }
   ],
   "source": [
    "# Add training times to results comparison\n",
    "compare_results[\"training_time\"] = [tot_1,\n",
    "                                    tot2,\n",
    "                                    tot3]\n",
    "compare_results"
   ]
  },
  {
   "cell_type": "code",
   "execution_count": 38,
   "id": "dda6dbb6",
   "metadata": {
    "ExecuteTime": {
     "end_time": "2023-05-23T20:20:12.725243Z",
     "start_time": "2023-05-23T20:20:12.578447Z"
    }
   },
   "outputs": [
    {
     "data": {
      "image/png": "[encoded data removed]",
      "text/plain": [
       "<Figure size 640x480 with 1 Axes>"
      ]
     },
     "metadata": {},
     "output_type": "display_data"
    }
   ],
   "source": [
    "# Visualize our model results\n",
    "compare_results.set_index(\"model_name\")[\"model_acc\"].plot(kind=\"barh\")\n",
    "plt.xlabel(\"accuracy (%)\")\n",
    "plt.ylabel(\"model\");"
   ]
  },
  {
   "cell_type": "code",
   "execution_count": null,
   "id": "39ffde27",
   "metadata": {},
   "outputs": [],
   "source": []
  }
 ],
 "metadata": {
  "hide_input": false,
  "kernelspec": {
   "display_name": "Python 3 (ipykernel)",
   "language": "python",
   "name": "python3"
  },
  "language_info": {
   "codemirror_mode": {
    "name": "ipython",
    "version": 3
   },
   "file_extension": ".py",
   "mimetype": "text/x-python",
   "name": "python",
   "nbconvert_exporter": "python",
   "pygments_lexer": "ipython3",
   "version": "3.9.13"
  },
  "varInspector": {
   "cols": {
    "lenName": 16,
    "lenType": 16,
    "lenVar": 40
   },
   "kernels_config": {
    "python": {
     "delete_cmd_postfix": "",
     "delete_cmd_prefix": "del ",
     "library": "var_list.py",
     "varRefreshCmd": "print(var_dic_list())"
    },
    "r": {
     "delete_cmd_postfix": ") ",
     "delete_cmd_prefix": "rm(",
     "library": "var_list.r",
     "varRefreshCmd": "cat(var_dic_list()) "
    }
   },
   "types_to_exclude": [
    "module",
    "function",
    "builtin_function_or_method",
    "instance",
    "_Feature"
   ],
   "window_display": false
  }
 },
 "nbformat": 4,
 "nbformat_minor": 5
}
