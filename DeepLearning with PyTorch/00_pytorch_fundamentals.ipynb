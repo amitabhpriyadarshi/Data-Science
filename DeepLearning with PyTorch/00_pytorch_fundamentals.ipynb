{
 "cells": [
  {
   "cell_type": "markdown",
   "id": "355c148d",
   "metadata": {},
   "source": [
    "## PyTorch Fundamental\n",
    "\n",
    "link: https://github.com/mrdbourke/pytorch-deep-learning"
   ]
  },
  {
   "cell_type": "code",
   "execution_count": 187,
   "id": "75e418cc",
   "metadata": {},
   "outputs": [
    {
     "name": "stdout",
     "output_type": "stream",
     "text": [
      "2.0.1\n"
     ]
    }
   ],
   "source": [
    "import torch\n",
    "import pandas as pd\n",
    "import numpy as np\n",
    "import matplotlib.pyplot as plt\n",
    "print(torch.__version__)\n",
    "import seaborn as sns"
   ]
  },
  {
   "cell_type": "markdown",
   "id": "fb21c08f",
   "metadata": {},
   "source": [
    "### intro to tensors  [scalar,vector,matrix,tensor]"
   ]
  },
  {
   "cell_type": "code",
   "execution_count": 2,
   "id": "e2b59762",
   "metadata": {},
   "outputs": [
    {
     "data": {
      "text/plain": [
       "tensor(5)"
      ]
     },
     "execution_count": 2,
     "metadata": {},
     "output_type": "execute_result"
    }
   ],
   "source": [
    "\n",
    "# creating tensors\n",
    "\n",
    "#scalar\n",
    "scalar = torch.tensor(5)\n",
    "scalar"
   ]
  },
  {
   "cell_type": "code",
   "execution_count": 3,
   "id": "dfad5646",
   "metadata": {},
   "outputs": [
    {
     "data": {
      "text/plain": [
       "0"
      ]
     },
     "execution_count": 3,
     "metadata": {},
     "output_type": "execute_result"
    }
   ],
   "source": [
    "scalar.ndim"
   ]
  },
  {
   "cell_type": "code",
   "execution_count": 6,
   "id": "3760728a",
   "metadata": {},
   "outputs": [
    {
     "data": {
      "text/plain": [
       "int"
      ]
     },
     "execution_count": 6,
     "metadata": {},
     "output_type": "execute_result"
    }
   ],
   "source": [
    "# get back python int from tensor\n",
    "\n",
    "a = scalar.item()\n",
    "type(a)"
   ]
  },
  {
   "cell_type": "code",
   "execution_count": 17,
   "id": "4cf954e2",
   "metadata": {},
   "outputs": [
    {
     "data": {
      "text/plain": [
       "tensor([4, 5, 6])"
      ]
     },
     "execution_count": 17,
     "metadata": {},
     "output_type": "execute_result"
    }
   ],
   "source": [
    "###### vector\n",
    "\n",
    "vector = torch.tensor([4,5,6])\n",
    "vector"
   ]
  },
  {
   "cell_type": "code",
   "execution_count": 18,
   "id": "2084e5ae",
   "metadata": {},
   "outputs": [
    {
     "data": {
      "text/plain": [
       "1"
      ]
     },
     "execution_count": 18,
     "metadata": {},
     "output_type": "execute_result"
    }
   ],
   "source": [
    "vector.ndim"
   ]
  },
  {
   "cell_type": "code",
   "execution_count": 19,
   "id": "b2451b82",
   "metadata": {},
   "outputs": [
    {
     "data": {
      "text/plain": [
       "torch.Size([3])"
      ]
     },
     "execution_count": 19,
     "metadata": {},
     "output_type": "execute_result"
    }
   ],
   "source": [
    "vector.shape"
   ]
  },
  {
   "cell_type": "code",
   "execution_count": 20,
   "id": "40fa07f7",
   "metadata": {},
   "outputs": [
    {
     "data": {
      "text/plain": [
       "tensor([[2, 3],\n",
       "        [4, 5]])"
      ]
     },
     "execution_count": 20,
     "metadata": {},
     "output_type": "execute_result"
    }
   ],
   "source": [
    "# matrix\n",
    "\n",
    "MATRIX = torch.tensor([[2,3],[4,5]])\n",
    "MATRIX"
   ]
  },
  {
   "cell_type": "code",
   "execution_count": 21,
   "id": "d7dea9d9",
   "metadata": {},
   "outputs": [
    {
     "data": {
      "text/plain": [
       "2"
      ]
     },
     "execution_count": 21,
     "metadata": {},
     "output_type": "execute_result"
    }
   ],
   "source": [
    "MATRIX.ndim"
   ]
  },
  {
   "cell_type": "code",
   "execution_count": 22,
   "id": "fb5382f1",
   "metadata": {},
   "outputs": [
    {
     "data": {
      "text/plain": [
       "tensor([4, 5])"
      ]
     },
     "execution_count": 22,
     "metadata": {},
     "output_type": "execute_result"
    }
   ],
   "source": [
    "MATRIX[1]"
   ]
  },
  {
   "cell_type": "code",
   "execution_count": 23,
   "id": "b0644804",
   "metadata": {},
   "outputs": [
    {
     "data": {
      "text/plain": [
       "torch.Size([2, 2])"
      ]
     },
     "execution_count": 23,
     "metadata": {},
     "output_type": "execute_result"
    }
   ],
   "source": [
    "MATRIX.shape"
   ]
  },
  {
   "cell_type": "code",
   "execution_count": 25,
   "id": "130e7a3c",
   "metadata": {},
   "outputs": [
    {
     "data": {
      "text/plain": [
       "tensor([[[2, 2],\n",
       "         [3, 3],\n",
       "         [4, 4]]])"
      ]
     },
     "execution_count": 25,
     "metadata": {},
     "output_type": "execute_result"
    }
   ],
   "source": [
    "#Tensor\n",
    "\n",
    "TENSOR = torch.tensor([[[2,2],[3,3],[4,4]]])\n",
    "TENSOR"
   ]
  },
  {
   "cell_type": "code",
   "execution_count": 26,
   "id": "d0d928ab",
   "metadata": {},
   "outputs": [
    {
     "data": {
      "text/plain": [
       "torch.Size([1, 3, 2])"
      ]
     },
     "execution_count": 26,
     "metadata": {},
     "output_type": "execute_result"
    }
   ],
   "source": [
    "TENSOR.shape"
   ]
  },
  {
   "cell_type": "code",
   "execution_count": 27,
   "id": "2cceed9a",
   "metadata": {},
   "outputs": [
    {
     "data": {
      "text/plain": [
       "3"
      ]
     },
     "execution_count": 27,
     "metadata": {},
     "output_type": "execute_result"
    }
   ],
   "source": [
    "TENSOR.ndim"
   ]
  },
  {
   "cell_type": "markdown",
   "id": "c482beb6",
   "metadata": {},
   "source": [
    "### Random Tensors"
   ]
  },
  {
   "cell_type": "code",
   "execution_count": 29,
   "id": "8714bf76",
   "metadata": {},
   "outputs": [
    {
     "data": {
      "text/plain": [
       "tensor([[0.6163, 0.1841, 0.1072, 0.8286],\n",
       "        [0.3647, 0.3501, 0.4184, 0.6663],\n",
       "        [0.2112, 0.7147, 0.7681, 0.3002]])"
      ]
     },
     "execution_count": 29,
     "metadata": {},
     "output_type": "execute_result"
    }
   ],
   "source": [
    "random_tensor = torch.rand(3,4)\n",
    "random_tensor"
   ]
  },
  {
   "cell_type": "code",
   "execution_count": 30,
   "id": "b8fe2b26",
   "metadata": {},
   "outputs": [
    {
     "data": {
      "text/plain": [
       "2"
      ]
     },
     "execution_count": 30,
     "metadata": {},
     "output_type": "execute_result"
    }
   ],
   "source": [
    "random_tensor.ndim"
   ]
  },
  {
   "cell_type": "code",
   "execution_count": 31,
   "id": "04af3f07",
   "metadata": {},
   "outputs": [
    {
     "data": {
      "text/plain": [
       "tensor([[[0.8987, 0.7425, 0.4562, 0.4234],\n",
       "         [0.8238, 0.4147, 0.0560, 0.1413],\n",
       "         [0.5350, 0.4137, 0.4181, 0.5942]],\n",
       "\n",
       "        [[0.1458, 0.6029, 0.3176, 0.1559],\n",
       "         [0.0115, 0.0511, 0.9536, 0.9238],\n",
       "         [0.1165, 0.6176, 0.2745, 0.1451]]])"
      ]
     },
     "execution_count": 31,
     "metadata": {},
     "output_type": "execute_result"
    }
   ],
   "source": [
    "random3_tensor = torch.rand(2,3,4)\n",
    "random3_tensor"
   ]
  },
  {
   "cell_type": "code",
   "execution_count": 35,
   "id": "bed52b35",
   "metadata": {},
   "outputs": [
    {
     "data": {
      "text/plain": [
       "(torch.Size([224, 224, 3]), 3)"
      ]
     },
     "execution_count": 35,
     "metadata": {},
     "output_type": "execute_result"
    }
   ],
   "source": [
    "# create image tensor\n",
    "image_tensor = torch.rand(size=(224,224,3)) # H,W,ColorChannel\n",
    "image_tensor.shape, image_tensor.ndim"
   ]
  },
  {
   "cell_type": "markdown",
   "id": "747aef7e",
   "metadata": {},
   "source": [
    "### Zeros ans Ones Tensors"
   ]
  },
  {
   "cell_type": "code",
   "execution_count": 38,
   "id": "d5bfc53c",
   "metadata": {},
   "outputs": [
    {
     "data": {
      "text/plain": [
       "tensor([[0., 0., 0., 0., 0.],\n",
       "        [0., 0., 0., 0., 0.],\n",
       "        [0., 0., 0., 0., 0.]])"
      ]
     },
     "execution_count": 38,
     "metadata": {},
     "output_type": "execute_result"
    }
   ],
   "source": [
    "zeros = torch.zeros(size=(3,5))\n",
    "zeros"
   ]
  },
  {
   "cell_type": "code",
   "execution_count": 40,
   "id": "82b320c2",
   "metadata": {},
   "outputs": [
    {
     "data": {
      "text/plain": [
       "tensor([[1., 1., 1., 1., 1.],\n",
       "        [1., 1., 1., 1., 1.],\n",
       "        [1., 1., 1., 1., 1.]])"
      ]
     },
     "execution_count": 40,
     "metadata": {},
     "output_type": "execute_result"
    }
   ],
   "source": [
    "ones = torch.ones(size=(3,5))\n",
    "ones"
   ]
  },
  {
   "cell_type": "code",
   "execution_count": 42,
   "id": "5855b179",
   "metadata": {},
   "outputs": [
    {
     "data": {
      "text/plain": [
       "tensor([[0.7336, 0.2339, 0.2571, 0.1541, 0.3081],\n",
       "        [0.8505, 0.4733, 0.7557, 0.3748, 0.8433],\n",
       "        [0.1500, 0.4492, 0.8317, 0.6147, 0.9420]])"
      ]
     },
     "execution_count": 42,
     "metadata": {},
     "output_type": "execute_result"
    }
   ],
   "source": [
    "random = torch.rand(size=(3,5))\n",
    "random"
   ]
  },
  {
   "cell_type": "code",
   "execution_count": 51,
   "id": "52c43240",
   "metadata": {},
   "outputs": [
    {
     "data": {
      "text/plain": [
       "torch.float32"
      ]
     },
     "execution_count": 51,
     "metadata": {},
     "output_type": "execute_result"
    }
   ],
   "source": [
    "ones.dtype"
   ]
  },
  {
   "cell_type": "markdown",
   "id": "239ceb02",
   "metadata": {},
   "source": [
    "### creating range of tensors and tensors-like"
   ]
  },
  {
   "cell_type": "code",
   "execution_count": 53,
   "id": "98ce3863",
   "metadata": {},
   "outputs": [
    {
     "data": {
      "text/plain": [
       "tensor([0, 1, 2, 3, 4, 5, 6, 7, 8, 9])"
      ]
     },
     "execution_count": 53,
     "metadata": {},
     "output_type": "execute_result"
    }
   ],
   "source": [
    "# create range\n",
    "torch.arange(0,10)"
   ]
  },
  {
   "cell_type": "code",
   "execution_count": 54,
   "id": "f81fe7eb",
   "metadata": {},
   "outputs": [
    {
     "data": {
      "text/plain": [
       "tensor([ 1,  2,  3,  4,  5,  6,  7,  8,  9, 10])"
      ]
     },
     "execution_count": 54,
     "metadata": {},
     "output_type": "execute_result"
    }
   ],
   "source": [
    "torch.arange(1,11)"
   ]
  },
  {
   "cell_type": "code",
   "execution_count": 56,
   "id": "db23fcef",
   "metadata": {},
   "outputs": [
    {
     "data": {
      "text/plain": [
       "tensor([  0,   5,  10,  15,  20,  25,  30,  35,  40,  45,  50,  55,  60,  65,\n",
       "         70,  75,  80,  85,  90,  95, 100])"
      ]
     },
     "execution_count": 56,
     "metadata": {},
     "output_type": "execute_result"
    }
   ],
   "source": [
    "torch.arange(start=0,end=101,step=5)"
   ]
  },
  {
   "cell_type": "code",
   "execution_count": 57,
   "id": "39e79a97",
   "metadata": {},
   "outputs": [
    {
     "data": {
      "text/plain": [
       "tensor([  0,   5,  10,  15,  20,  25,  30,  35,  40,  45,  50,  55,  60,  65,\n",
       "         70,  75,  80,  85,  90,  95, 100])"
      ]
     },
     "execution_count": 57,
     "metadata": {},
     "output_type": "execute_result"
    }
   ],
   "source": [
    "torch.arange(0,101,5)"
   ]
  },
  {
   "cell_type": "code",
   "execution_count": 62,
   "id": "906e2449",
   "metadata": {},
   "outputs": [
    {
     "name": "stdout",
     "output_type": "stream",
     "text": [
      "tensor([ 1,  2,  3,  4,  5,  6,  7,  8,  9, 10])\n",
      "tensor([0, 0, 0, 0, 0, 0, 0, 0, 0, 0])\n"
     ]
    },
    {
     "data": {
      "text/plain": [
       "tensor([1, 1, 1, 1, 1, 1, 1, 1, 1, 1])"
      ]
     },
     "execution_count": 62,
     "metadata": {},
     "output_type": "execute_result"
    }
   ],
   "source": [
    "#creating tensor like. create tensors of same shape\n",
    "one2ten = torch.arange(1,11)\n",
    "print(one2ten)\n",
    "ten_zeros = torch.zeros_like(one2ten)\n",
    "print(ten_zeros)\n",
    "ten_ones = torch.ones_like(one2ten)\n",
    "ten_ones"
   ]
  },
  {
   "cell_type": "markdown",
   "id": "b0366663",
   "metadata": {},
   "source": [
    "### Tensors datatypes"
   ]
  },
  {
   "cell_type": "code",
   "execution_count": 79,
   "id": "e5728901",
   "metadata": {},
   "outputs": [
    {
     "name": "stdout",
     "output_type": "stream",
     "text": [
      "tensor([3.3000, 6.0000, 9.0000])\n"
     ]
    },
    {
     "data": {
      "text/plain": [
       "torch.float32"
      ]
     },
     "execution_count": 79,
     "metadata": {},
     "output_type": "execute_result"
    }
   ],
   "source": [
    "#float 32 tensor\n",
    "float32tensor = torch.tensor([3.3,6.0,9.0],dtype=None)\n",
    "print(float32tensor)\n",
    "float32tensor.dtype"
   ]
  },
  {
   "cell_type": "code",
   "execution_count": 82,
   "id": "24b7fd55",
   "metadata": {},
   "outputs": [
    {
     "name": "stdout",
     "output_type": "stream",
     "text": [
      "tensor([3.5000, 6.0000, 9.0000], dtype=torch.float16)\n"
     ]
    },
    {
     "data": {
      "text/plain": [
       "torch.float16"
      ]
     },
     "execution_count": 82,
     "metadata": {},
     "output_type": "execute_result"
    }
   ],
   "source": [
    "float16tensor = torch.tensor([3.5,6.0,9.0],dtype=torch.float16)\n",
    "print(float16tensor)\n",
    "float16tensor.dtype"
   ]
  },
  {
   "cell_type": "code",
   "execution_count": 86,
   "id": "4bd69d47",
   "metadata": {},
   "outputs": [
    {
     "name": "stdout",
     "output_type": "stream",
     "text": [
      "tensor([3, 6, 9], dtype=torch.int16)\n"
     ]
    },
    {
     "name": "stderr",
     "output_type": "stream",
     "text": [
      "/var/folders/wp/x37vt6v52m7fgw1jdf8c_mj00000gn/T/ipykernel_48508/2660801691.py:1: DeprecationWarning: an integer is required (got type float).  Implicit conversion to integers using __int__ is deprecated, and may be removed in a future version of Python.\n",
      "  int16tensor = torch.tensor([3.0,6.0,9.0],dtype=torch.int16)\n"
     ]
    },
    {
     "data": {
      "text/plain": [
       "torch.int16"
      ]
     },
     "execution_count": 86,
     "metadata": {},
     "output_type": "execute_result"
    }
   ],
   "source": [
    "int16tensor = torch.tensor([3.0,6.0,9.0],dtype=torch.int16)\n",
    "print(int16tensor)\n",
    "int16tensor.dtype"
   ]
  },
  {
   "cell_type": "code",
   "execution_count": 87,
   "id": "2ea46620",
   "metadata": {},
   "outputs": [
    {
     "name": "stdout",
     "output_type": "stream",
     "text": [
      "tensor([3, 6, 9])\n"
     ]
    },
    {
     "data": {
      "text/plain": [
       "torch.int64"
      ]
     },
     "execution_count": 87,
     "metadata": {},
     "output_type": "execute_result"
    }
   ],
   "source": [
    "# other attributes\n",
    "temp = torch.tensor([3,6,9],\n",
    "                    dtype=None,        # what datatypes of the tensor\n",
    "                    device=None,       # \"cpu\" default, cuda for gpu\n",
    "                    requires_grad=False# gradiants\n",
    "                   )\n",
    "print(temp)\n",
    "temp.dtype"
   ]
  },
  {
   "cell_type": "code",
   "execution_count": 89,
   "id": "7abb7b8c",
   "metadata": {},
   "outputs": [
    {
     "name": "stdout",
     "output_type": "stream",
     "text": [
      "torch.int64\n",
      "torch.float64\n"
     ]
    }
   ],
   "source": [
    "#converting one datatypes to another\n",
    "float_tensor = temp.type(torch.float64)\n",
    "print(temp.dtype)\n",
    "print(float_tensor.dtype)"
   ]
  },
  {
   "cell_type": "code",
   "execution_count": 91,
   "id": "f75f4475",
   "metadata": {},
   "outputs": [
    {
     "name": "stdout",
     "output_type": "stream",
     "text": [
      "torch.float64\n",
      "torch.float16\n"
     ]
    }
   ],
   "source": [
    "#converting one datatypes to another\n",
    "float_half_tensor = float_tensor.type(torch.half)\n",
    "print(float_tensor.dtype)\n",
    "print(float_half_tensor.dtype)\n"
   ]
  },
  {
   "cell_type": "code",
   "execution_count": 92,
   "id": "237236f4",
   "metadata": {},
   "outputs": [
    {
     "data": {
      "text/plain": [
       "tensor([ 9., 36., 81.], dtype=torch.float64)"
      ]
     },
     "execution_count": 92,
     "metadata": {},
     "output_type": "execute_result"
    }
   ],
   "source": [
    "float_tensor*float_half_tensor #float*float"
   ]
  },
  {
   "cell_type": "code",
   "execution_count": 93,
   "id": "15b95996",
   "metadata": {},
   "outputs": [
    {
     "data": {
      "text/plain": [
       "tensor([ 9., 36., 81.], dtype=torch.float16)"
      ]
     },
     "execution_count": 93,
     "metadata": {},
     "output_type": "execute_result"
    }
   ],
   "source": [
    "temp*float_half_tensor #int*float"
   ]
  },
  {
   "cell_type": "markdown",
   "id": "7787ed7c",
   "metadata": {},
   "source": [
    "### Getting info from tensors"
   ]
  },
  {
   "cell_type": "code",
   "execution_count": 100,
   "id": "15cde225",
   "metadata": {},
   "outputs": [
    {
     "name": "stdout",
     "output_type": "stream",
     "text": [
      "torch.float32\n",
      "torch.Size([3, 4])\n",
      "torch.Size([3, 4])\n",
      "cpu\n",
      " datatype info torch.float32\n"
     ]
    }
   ],
   "source": [
    "some_tensor = torch.rand(3,4)\n",
    "print(some_tensor.dtype)\n",
    "print(some_tensor.shape)\n",
    "print(some_tensor.size())\n",
    "print(some_tensor.device)\n",
    "\n",
    "print(f\" datatype info {some_tensor.dtype}\")"
   ]
  },
  {
   "cell_type": "markdown",
   "id": "3ba3bc88",
   "metadata": {},
   "source": [
    "### Manipulation on tensors"
   ]
  },
  {
   "cell_type": "code",
   "execution_count": 107,
   "id": "72c2f45d",
   "metadata": {},
   "outputs": [
    {
     "data": {
      "text/plain": [
       "tensor([10, 20, 30])"
      ]
     },
     "execution_count": 107,
     "metadata": {},
     "output_type": "execute_result"
    }
   ],
   "source": [
    "temp_tensor = torch.tensor([10,20,30])\n",
    "temp_tensor"
   ]
  },
  {
   "cell_type": "code",
   "execution_count": 108,
   "id": "3d100931",
   "metadata": {},
   "outputs": [
    {
     "data": {
      "text/plain": [
       "tensor([20, 30, 40])"
      ]
     },
     "execution_count": 108,
     "metadata": {},
     "output_type": "execute_result"
    }
   ],
   "source": [
    "## addition\n",
    "temp_tensor+10"
   ]
  },
  {
   "cell_type": "code",
   "execution_count": 109,
   "id": "97ed5085",
   "metadata": {},
   "outputs": [
    {
     "data": {
      "text/plain": [
       "tensor([ 5, 15, 25])"
      ]
     },
     "execution_count": 109,
     "metadata": {},
     "output_type": "execute_result"
    }
   ],
   "source": [
    "## substraction\n",
    "temp_tensor-5"
   ]
  },
  {
   "cell_type": "code",
   "execution_count": 110,
   "id": "b6502746",
   "metadata": {},
   "outputs": [
    {
     "data": {
      "text/plain": [
       "tensor([ 40,  80, 120])"
      ]
     },
     "execution_count": 110,
     "metadata": {},
     "output_type": "execute_result"
    }
   ],
   "source": [
    "## multipliction\n",
    "temp_tensor*4"
   ]
  },
  {
   "cell_type": "code",
   "execution_count": 111,
   "id": "b0c7ddff",
   "metadata": {},
   "outputs": [
    {
     "data": {
      "text/plain": [
       "tensor([ 5., 10., 15.])"
      ]
     },
     "execution_count": 111,
     "metadata": {},
     "output_type": "execute_result"
    }
   ],
   "source": [
    "## division\n",
    "temp_tensor/2"
   ]
  },
  {
   "cell_type": "code",
   "execution_count": 112,
   "id": "f1f3d404",
   "metadata": {},
   "outputs": [
    {
     "data": {
      "text/plain": [
       "tensor([ 30, 120, 270])"
      ]
     },
     "execution_count": 112,
     "metadata": {},
     "output_type": "execute_result"
    }
   ],
   "source": [
    "temp2_tensor = torch.tensor([3,6,9])\n",
    "temp_tensor*temp2_tensor"
   ]
  },
  {
   "cell_type": "code",
   "execution_count": 113,
   "id": "5a9ace15",
   "metadata": {},
   "outputs": [
    {
     "data": {
      "text/plain": [
       "tensor([ 40,  80, 120])"
      ]
     },
     "execution_count": 113,
     "metadata": {},
     "output_type": "execute_result"
    }
   ],
   "source": [
    "# inbuilt function\n",
    "\n",
    "torch.mul(temp_tensor,4)"
   ]
  },
  {
   "cell_type": "code",
   "execution_count": 114,
   "id": "6351f626",
   "metadata": {},
   "outputs": [
    {
     "data": {
      "text/plain": [
       "tensor([14, 24, 34])"
      ]
     },
     "execution_count": 114,
     "metadata": {},
     "output_type": "execute_result"
    }
   ],
   "source": [
    "torch.add(temp_tensor,4)"
   ]
  },
  {
   "cell_type": "markdown",
   "id": "1a9136cf",
   "metadata": {},
   "source": [
    "### Matrix multiplication"
   ]
  },
  {
   "cell_type": "code",
   "execution_count": 117,
   "id": "6324db00",
   "metadata": {},
   "outputs": [
    {
     "name": "stdout",
     "output_type": "stream",
     "text": [
      "tensor([10, 20, 30])\n",
      "tensor([100, 400, 900])\n"
     ]
    }
   ],
   "source": [
    "# element wise\n",
    "\n",
    "print(temp_tensor)\n",
    "print(temp_tensor*temp_tensor)"
   ]
  },
  {
   "cell_type": "code",
   "execution_count": 119,
   "id": "dea2426f",
   "metadata": {},
   "outputs": [
    {
     "data": {
      "text/plain": [
       "tensor(1400)"
      ]
     },
     "execution_count": 119,
     "metadata": {},
     "output_type": "execute_result"
    }
   ],
   "source": [
    "# matrix multiplication\n",
    "\n",
    "torch.matmul(temp_tensor,temp_tensor)"
   ]
  },
  {
   "cell_type": "code",
   "execution_count": 120,
   "id": "685ef59e",
   "metadata": {},
   "outputs": [
    {
     "name": "stdout",
     "output_type": "stream",
     "text": [
      "tensor(1400)\n",
      "CPU times: user 2.03 ms, sys: 3.53 ms, total: 5.56 ms\n",
      "Wall time: 15.4 ms\n"
     ]
    }
   ],
   "source": [
    "%%time\n",
    "value=0\n",
    "for i in range(len(temp_tensor)):\n",
    "    value+= temp_tensor[i]*temp_tensor[i]\n",
    "print(value)"
   ]
  },
  {
   "cell_type": "code",
   "execution_count": 121,
   "id": "d2c87f4a",
   "metadata": {},
   "outputs": [
    {
     "name": "stdout",
     "output_type": "stream",
     "text": [
      "tensor(1400)\n",
      "CPU times: user 1.49 ms, sys: 1.5 ms, total: 2.99 ms\n",
      "Wall time: 1.73 ms\n"
     ]
    }
   ],
   "source": [
    "%%time\n",
    "print(torch.matmul(temp_tensor,temp_tensor))"
   ]
  },
  {
   "cell_type": "code",
   "execution_count": 127,
   "id": "aa5858ed",
   "metadata": {},
   "outputs": [
    {
     "name": "stdout",
     "output_type": "stream",
     "text": [
      "torch.Size([3, 2]) torch.Size([2, 4])\n",
      "tensor([[ 29,  32,  35,  38],\n",
      "        [ 65,  72,  79,  86],\n",
      "        [101, 112, 123, 134]])\n",
      "torch.Size([3, 4])\n"
     ]
    }
   ],
   "source": [
    "# shape of matrix multiplication\n",
    "#rule 1: inner diamension must match\n",
    "#rule 2: out is of outer diamension\n",
    "\n",
    "# eg matrix of (3X2)*(2X4) = (3,4)\n",
    "\n",
    "tensor_A = torch.tensor([[1,2],[3,4],[5,6]])\n",
    "tensor_B = torch.tensor([[7,8,9,10],[11,12,13,14]])\n",
    "print(tensor_A.shape, tensor_B.shape)\n",
    "a= torch.matmul(tensor_A,tensor_B)\n",
    "b= torch.mm(tensor_A,tensor_B)\n",
    "c= tensor_A @ tensor_B\n",
    "print(a)\n",
    "print(a.shape)"
   ]
  },
  {
   "cell_type": "code",
   "execution_count": 135,
   "id": "f4c07129",
   "metadata": {},
   "outputs": [
    {
     "name": "stdout",
     "output_type": "stream",
     "text": [
      "Shape of B:  torch.Size([3, 2])\n",
      "B \n",
      " tensor([[ 7,  8],\n",
      "        [ 9, 10],\n",
      "        [11, 12]])\n",
      "Transpose of B: \n",
      " tensor([[ 7,  9, 11],\n",
      "        [ 8, 10, 12]])\n",
      "Shape of B.T:  torch.Size([2, 3])\n"
     ]
    }
   ],
   "source": [
    "# transpose\n",
    "\n",
    "tensor_A = torch.tensor([[1,2],[3,4],[5,6]])\n",
    "tensor_B = torch.tensor([[7,8],[9,10],[11,12]])\n",
    "print(\"Shape of B: \", tensor_B.shape)\n",
    "print(\"B \\n\",tensor_B)\n",
    "print(\"Transpose of B: \\n\", tensor_B.T)\n",
    "print(\"Shape of B.T: \", tensor_B.T.shape)"
   ]
  },
  {
   "cell_type": "code",
   "execution_count": 136,
   "id": "8ac285f0",
   "metadata": {},
   "outputs": [
    {
     "data": {
      "text/plain": [
       "tensor([[ 7,  8],\n",
       "        [ 9, 10],\n",
       "        [11, 12]])"
      ]
     },
     "execution_count": 136,
     "metadata": {},
     "output_type": "execute_result"
    }
   ],
   "source": [
    "tensor_B"
   ]
  },
  {
   "cell_type": "code",
   "execution_count": 138,
   "id": "f29c79b0",
   "metadata": {},
   "outputs": [
    {
     "data": {
      "text/plain": [
       "tensor([[ 7,  9, 11],\n",
       "        [ 8, 10, 12]])"
      ]
     },
     "execution_count": 138,
     "metadata": {},
     "output_type": "execute_result"
    }
   ],
   "source": [
    "tensor_B.T"
   ]
  },
  {
   "cell_type": "markdown",
   "id": "77ed4d7e",
   "metadata": {},
   "source": [
    "### Tensor aggregators [ min, max, mean, sum]"
   ]
  },
  {
   "cell_type": "code",
   "execution_count": 143,
   "id": "7214e088",
   "metadata": {},
   "outputs": [
    {
     "data": {
      "text/plain": [
       "tensor([  1,  11,  21,  31,  41,  51,  61,  71,  81,  91, 101])"
      ]
     },
     "execution_count": 143,
     "metadata": {},
     "output_type": "execute_result"
    }
   ],
   "source": [
    "x = torch.arange(1,102,10)\n",
    "x"
   ]
  },
  {
   "cell_type": "code",
   "execution_count": 148,
   "id": "1031f364",
   "metadata": {},
   "outputs": [
    {
     "name": "stdout",
     "output_type": "stream",
     "text": [
      "tensor(1)\n",
      "tensor(1)\n"
     ]
    }
   ],
   "source": [
    "print(x.min())\n",
    "print(torch.min(x))"
   ]
  },
  {
   "cell_type": "code",
   "execution_count": 145,
   "id": "9e376f8c",
   "metadata": {},
   "outputs": [
    {
     "data": {
      "text/plain": [
       "tensor(101)"
      ]
     },
     "execution_count": 145,
     "metadata": {},
     "output_type": "execute_result"
    }
   ],
   "source": [
    "x.max()"
   ]
  },
  {
   "cell_type": "code",
   "execution_count": 151,
   "id": "9d8ea417",
   "metadata": {},
   "outputs": [
    {
     "name": "stdout",
     "output_type": "stream",
     "text": [
      "torch.int64\n"
     ]
    },
    {
     "data": {
      "text/plain": [
       "tensor(51.)"
      ]
     },
     "execution_count": 151,
     "metadata": {},
     "output_type": "execute_result"
    }
   ],
   "source": [
    "print(x.dtype)\n",
    "torch.mean(x.type(torch.float32))\n"
   ]
  },
  {
   "cell_type": "code",
   "execution_count": 152,
   "id": "14cdb728",
   "metadata": {},
   "outputs": [
    {
     "data": {
      "text/plain": [
       "tensor(561)"
      ]
     },
     "execution_count": 152,
     "metadata": {},
     "output_type": "execute_result"
    }
   ],
   "source": [
    "torch.sum(x)"
   ]
  },
  {
   "cell_type": "markdown",
   "id": "d2a97499",
   "metadata": {},
   "source": [
    "### Finding positional(index) min and max"
   ]
  },
  {
   "cell_type": "code",
   "execution_count": 153,
   "id": "9bfd4201",
   "metadata": {},
   "outputs": [
    {
     "data": {
      "text/plain": [
       "tensor([  1,  11,  21,  31,  41,  51,  61,  71,  81,  91, 101])"
      ]
     },
     "execution_count": 153,
     "metadata": {},
     "output_type": "execute_result"
    }
   ],
   "source": [
    "x"
   ]
  },
  {
   "cell_type": "code",
   "execution_count": 154,
   "id": "f431006f",
   "metadata": {},
   "outputs": [
    {
     "data": {
      "text/plain": [
       "tensor(0)"
      ]
     },
     "execution_count": 154,
     "metadata": {},
     "output_type": "execute_result"
    }
   ],
   "source": [
    "x.argmin()\n",
    "#gives index of the min value"
   ]
  },
  {
   "cell_type": "code",
   "execution_count": 155,
   "id": "7f1bafca",
   "metadata": {},
   "outputs": [
    {
     "data": {
      "text/plain": [
       "tensor(10)"
      ]
     },
     "execution_count": 155,
     "metadata": {},
     "output_type": "execute_result"
    }
   ],
   "source": [
    "x.argmax()"
   ]
  },
  {
   "cell_type": "code",
   "execution_count": 156,
   "id": "49f9cbd1",
   "metadata": {},
   "outputs": [
    {
     "data": {
      "text/plain": [
       "tensor(10)"
      ]
     },
     "execution_count": 156,
     "metadata": {},
     "output_type": "execute_result"
    }
   ],
   "source": [
    "torch.argmax(x)\n",
    "#gives index of the max value"
   ]
  },
  {
   "cell_type": "code",
   "execution_count": 157,
   "id": "d02ab902",
   "metadata": {},
   "outputs": [
    {
     "data": {
      "text/plain": [
       "tensor(101)"
      ]
     },
     "execution_count": 157,
     "metadata": {},
     "output_type": "execute_result"
    }
   ],
   "source": [
    "x[10]"
   ]
  },
  {
   "cell_type": "markdown",
   "id": "6b46df55",
   "metadata": {},
   "source": [
    "### Reshaping, stacking, sqeezing and unsqueezing tensors"
   ]
  },
  {
   "cell_type": "markdown",
   "id": "fb54d946",
   "metadata": {},
   "source": [
    "<pre>\n",
    "<b>Reshaping:</b> reshape an input tensor to a defined shape\n",
    "<b>view:</b> return a view of an input tensor of certain shape but keep the same memory as original\n",
    "<b>stacking:</b> combine multiple tensors on top of each other (vstack) or side by side (hstack) ans only stack.\n",
    "<b>sqeezing :</b> remove all 1 dimension from tensor\n",
    "<b>unsqueezing:</b> add a 1 dimension to a target tensor\n",
    "<b>permute:</b> Return a view of the input with dimension permuted(swapped) in certain way"
   ]
  },
  {
   "cell_type": "code",
   "execution_count": 161,
   "id": "51d9e4b1",
   "metadata": {},
   "outputs": [
    {
     "name": "stdout",
     "output_type": "stream",
     "text": [
      "shape: torch.Size([9]), y: tensor([1., 2., 3., 4., 5., 6., 7., 8., 9.])\n"
     ]
    }
   ],
   "source": [
    "y = torch.arange(1.,10.)\n",
    "print(f\"shape: {y.shape}, y: {y}\")"
   ]
  },
  {
   "cell_type": "code",
   "execution_count": 163,
   "id": "b6b94bb7",
   "metadata": {},
   "outputs": [
    {
     "data": {
      "text/plain": [
       "(torch.Size([1, 9]), tensor([[1., 2., 3., 4., 5., 6., 7., 8., 9.]]))"
      ]
     },
     "execution_count": 163,
     "metadata": {},
     "output_type": "execute_result"
    }
   ],
   "source": [
    "y_reshape = y.reshape(1,9)\n",
    "y_reshape.shape, y_reshape"
   ]
  },
  {
   "cell_type": "code",
   "execution_count": 164,
   "id": "260987d5",
   "metadata": {},
   "outputs": [
    {
     "data": {
      "text/plain": [
       "(torch.Size([1, 9]), tensor([[1., 2., 3., 4., 5., 6., 7., 8., 9.]]))"
      ]
     },
     "execution_count": 164,
     "metadata": {},
     "output_type": "execute_result"
    }
   ],
   "source": [
    "y_view = y.view(1,9)\n",
    "y_view.shape, y_view\n",
    "#only diff is view (y_view) shares the same memory with org tensor (y).\n",
    "# if you change data in y_view it will also be changed in y."
   ]
  },
  {
   "cell_type": "code",
   "execution_count": 167,
   "id": "e02d46b3",
   "metadata": {},
   "outputs": [
    {
     "data": {
      "text/plain": [
       "(torch.Size([4, 9]),\n",
       " tensor([[1., 2., 3., 4., 5., 6., 7., 8., 9.],\n",
       "         [1., 2., 3., 4., 5., 6., 7., 8., 9.],\n",
       "         [1., 2., 3., 4., 5., 6., 7., 8., 9.],\n",
       "         [1., 2., 3., 4., 5., 6., 7., 8., 9.]]))"
      ]
     },
     "execution_count": 167,
     "metadata": {},
     "output_type": "execute_result"
    }
   ],
   "source": [
    "## stacking\n",
    "y_stacked = torch.stack([y,y,y,y])\n",
    "y_stacked.shape,y_stacked"
   ]
  },
  {
   "cell_type": "code",
   "execution_count": 172,
   "id": "6c631ae1",
   "metadata": {},
   "outputs": [
    {
     "data": {
      "text/plain": [
       "(torch.Size([4, 9]),\n",
       " tensor([[1., 2., 3., 4., 5., 6., 7., 8., 9.],\n",
       "         [1., 2., 3., 4., 5., 6., 7., 8., 9.],\n",
       "         [1., 2., 3., 4., 5., 6., 7., 8., 9.],\n",
       "         [1., 2., 3., 4., 5., 6., 7., 8., 9.]]))"
      ]
     },
     "execution_count": 172,
     "metadata": {},
     "output_type": "execute_result"
    }
   ],
   "source": [
    "y_virt_stacked = torch.vstack([y,y,y,y])\n",
    "y_virt_stacked.shape,y_virt_stacked"
   ]
  },
  {
   "cell_type": "code",
   "execution_count": 171,
   "id": "e4f6c15d",
   "metadata": {},
   "outputs": [
    {
     "data": {
      "text/plain": [
       "(torch.Size([36]),\n",
       " tensor([1., 2., 3., 4., 5., 6., 7., 8., 9., 1., 2., 3., 4., 5., 6., 7., 8., 9.,\n",
       "         1., 2., 3., 4., 5., 6., 7., 8., 9., 1., 2., 3., 4., 5., 6., 7., 8., 9.]))"
      ]
     },
     "execution_count": 171,
     "metadata": {},
     "output_type": "execute_result"
    }
   ],
   "source": [
    "y_hori_stacked = torch.hstack([y,y,y,y])\n",
    "y_hori_stacked.shape,y_hori_stacked"
   ]
  },
  {
   "cell_type": "code",
   "execution_count": 173,
   "id": "da7b4f1c",
   "metadata": {},
   "outputs": [
    {
     "data": {
      "text/plain": [
       "(torch.Size([9, 5]),\n",
       " tensor([[1., 1., 1., 1., 1.],\n",
       "         [2., 2., 2., 2., 2.],\n",
       "         [3., 3., 3., 3., 3.],\n",
       "         [4., 4., 4., 4., 4.],\n",
       "         [5., 5., 5., 5., 5.],\n",
       "         [6., 6., 6., 6., 6.],\n",
       "         [7., 7., 7., 7., 7.],\n",
       "         [8., 8., 8., 8., 8.],\n",
       "         [9., 9., 9., 9., 9.]]))"
      ]
     },
     "execution_count": 173,
     "metadata": {},
     "output_type": "execute_result"
    }
   ],
   "source": [
    "#stacking with diamension\n",
    "y_stack_dim= torch.stack([y,y,y,y,y],dim=1)\n",
    "y_stack_dim.shape,y_stack_dim"
   ]
  },
  {
   "cell_type": "code",
   "execution_count": 174,
   "id": "51d64d1f",
   "metadata": {},
   "outputs": [
    {
     "data": {
      "text/plain": [
       "(torch.Size([5, 9]),\n",
       " tensor([[1., 2., 3., 4., 5., 6., 7., 8., 9.],\n",
       "         [1., 2., 3., 4., 5., 6., 7., 8., 9.],\n",
       "         [1., 2., 3., 4., 5., 6., 7., 8., 9.],\n",
       "         [1., 2., 3., 4., 5., 6., 7., 8., 9.],\n",
       "         [1., 2., 3., 4., 5., 6., 7., 8., 9.]]))"
      ]
     },
     "execution_count": 174,
     "metadata": {},
     "output_type": "execute_result"
    }
   ],
   "source": [
    "#stacking with diamension\n",
    "y_stack_dim= torch.stack([y,y,y,y,y],dim=0)\n",
    "y_stack_dim.shape,y_stack_dim"
   ]
  },
  {
   "cell_type": "code",
   "execution_count": 178,
   "id": "8129ebfc",
   "metadata": {},
   "outputs": [
    {
     "data": {
      "text/plain": [
       "(torch.Size([9]), tensor([1., 2., 3., 4., 5., 6., 7., 8., 9.]))"
      ]
     },
     "execution_count": 178,
     "metadata": {},
     "output_type": "execute_result"
    }
   ],
   "source": [
    "#sqeeze\n",
    "y_sqeeze = y_reshape.squeeze()\n",
    "y_sqeeze.shape,y_sqeeze\n",
    "# shape from (1,9) to 9"
   ]
  },
  {
   "cell_type": "code",
   "execution_count": 181,
   "id": "d5a72b92",
   "metadata": {},
   "outputs": [
    {
     "data": {
      "text/plain": [
       "(torch.Size([1, 9]), tensor([[1., 2., 3., 4., 5., 6., 7., 8., 9.]]))"
      ]
     },
     "execution_count": 181,
     "metadata": {},
     "output_type": "execute_result"
    }
   ],
   "source": [
    "y_unsqeeze = y_sqeeze.unsqueeze(dim=0)\n",
    "y_unsqeeze.shape,y_unsqeeze"
   ]
  },
  {
   "cell_type": "code",
   "execution_count": 182,
   "id": "b5d6635e",
   "metadata": {},
   "outputs": [
    {
     "data": {
      "text/plain": [
       "(torch.Size([9, 1]),\n",
       " tensor([[1.],\n",
       "         [2.],\n",
       "         [3.],\n",
       "         [4.],\n",
       "         [5.],\n",
       "         [6.],\n",
       "         [7.],\n",
       "         [8.],\n",
       "         [9.]]))"
      ]
     },
     "execution_count": 182,
     "metadata": {},
     "output_type": "execute_result"
    }
   ],
   "source": [
    "y_unsqeeze = y_sqeeze.unsqueeze(dim=1)\n",
    "y_unsqeeze.shape,y_unsqeeze"
   ]
  },
  {
   "cell_type": "code",
   "execution_count": 196,
   "id": "e1e54338",
   "metadata": {},
   "outputs": [],
   "source": [
    "## permute\n",
    "image_tensor= torch.rand(size=([100,100,3]))\n",
    "#100 pixel X 100 pixel X 3 color"
   ]
  },
  {
   "cell_type": "code",
   "execution_count": 197,
   "id": "be88c5ce",
   "metadata": {},
   "outputs": [
    {
     "data": {
      "text/plain": [
       "<matplotlib.image.AxesImage at 0x7f7d321ac0a0>"
      ]
     },
     "execution_count": 197,
     "metadata": {},
     "output_type": "execute_result"
    },
    {
     "data": {
      "image/png": "[encoded data removed]",
      "text/plain": [
       "<Figure size 640x480 with 1 Axes>"
      ]
     },
     "metadata": {},
     "output_type": "display_data"
    }
   ],
   "source": [
    "plt.imshow(image_tensor)"
   ]
  },
  {
   "cell_type": "code",
   "execution_count": 201,
   "id": "1aba69c4",
   "metadata": {},
   "outputs": [
    {
     "name": "stdout",
     "output_type": "stream",
     "text": [
      "from torch.Size([100, 100, 3]) to torch.Size([3, 100, 100])\n"
     ]
    }
   ],
   "source": [
    "image_tensor_permuted = image_tensor.permute(2,0,1)\n",
    "print(f\"from {image_tensor.shape} to {image_tensor_permuted.shape}\")"
   ]
  },
  {
   "cell_type": "markdown",
   "id": "4031015e",
   "metadata": {},
   "source": [
    "### Indexing : selecting data from tensors\n",
    "indexing with PyTorch is similar to NumPy"
   ]
  },
  {
   "cell_type": "code",
   "execution_count": 223,
   "id": "8d1688a2",
   "metadata": {},
   "outputs": [
    {
     "data": {
      "text/plain": [
       "tensor([[[ 1,  2],\n",
       "         [ 3,  4],\n",
       "         [ 5,  6]],\n",
       "\n",
       "        [[ 7,  8],\n",
       "         [ 9, 10],\n",
       "         [11, 12]],\n",
       "\n",
       "        [[13, 14],\n",
       "         [15, 16],\n",
       "         [17, 18]],\n",
       "\n",
       "        [[19, 20],\n",
       "         [21, 22],\n",
       "         [23, 24]]])"
      ]
     },
     "execution_count": 223,
     "metadata": {},
     "output_type": "execute_result"
    }
   ],
   "source": [
    "x = torch.arange(1,25).reshape(4,3,2)\n",
    "x"
   ]
  },
  {
   "cell_type": "code",
   "execution_count": 224,
   "id": "c19cbc55",
   "metadata": {},
   "outputs": [
    {
     "data": {
      "text/plain": [
       "tensor([[1, 2],\n",
       "        [3, 4],\n",
       "        [5, 6]])"
      ]
     },
     "execution_count": 224,
     "metadata": {},
     "output_type": "execute_result"
    }
   ],
   "source": [
    "x[0]"
   ]
  },
  {
   "cell_type": "code",
   "execution_count": 225,
   "id": "33d3adad",
   "metadata": {},
   "outputs": [
    {
     "data": {
      "text/plain": [
       "tensor([1, 2])"
      ]
     },
     "execution_count": 225,
     "metadata": {},
     "output_type": "execute_result"
    }
   ],
   "source": [
    "x[0][0]"
   ]
  },
  {
   "cell_type": "code",
   "execution_count": 226,
   "id": "8afd926f",
   "metadata": {},
   "outputs": [
    {
     "data": {
      "text/plain": [
       "tensor(1)"
      ]
     },
     "execution_count": 226,
     "metadata": {},
     "output_type": "execute_result"
    }
   ],
   "source": [
    "x[0][0][0]"
   ]
  },
  {
   "cell_type": "markdown",
   "id": "eb72ecd5",
   "metadata": {},
   "source": [
    "#### : to select all of the target"
   ]
  },
  {
   "cell_type": "code",
   "execution_count": 228,
   "id": "fa163bc4",
   "metadata": {},
   "outputs": [
    {
     "data": {
      "text/plain": [
       "tensor([[[ 1,  2],\n",
       "         [ 3,  4],\n",
       "         [ 5,  6]],\n",
       "\n",
       "        [[ 7,  8],\n",
       "         [ 9, 10],\n",
       "         [11, 12]],\n",
       "\n",
       "        [[13, 14],\n",
       "         [15, 16],\n",
       "         [17, 18]],\n",
       "\n",
       "        [[19, 20],\n",
       "         [21, 22],\n",
       "         [23, 24]]])"
      ]
     },
     "execution_count": 228,
     "metadata": {},
     "output_type": "execute_result"
    }
   ],
   "source": [
    "x[:]"
   ]
  },
  {
   "cell_type": "code",
   "execution_count": 229,
   "id": "451d66e8",
   "metadata": {},
   "outputs": [
    {
     "data": {
      "text/plain": [
       "tensor([[[ 1,  2],\n",
       "         [ 3,  4],\n",
       "         [ 5,  6]],\n",
       "\n",
       "        [[ 7,  8],\n",
       "         [ 9, 10],\n",
       "         [11, 12]],\n",
       "\n",
       "        [[13, 14],\n",
       "         [15, 16],\n",
       "         [17, 18]],\n",
       "\n",
       "        [[19, 20],\n",
       "         [21, 22],\n",
       "         [23, 24]]])"
      ]
     },
     "execution_count": 229,
     "metadata": {},
     "output_type": "execute_result"
    }
   ],
   "source": [
    "x[:,:]"
   ]
  },
  {
   "cell_type": "code",
   "execution_count": 230,
   "id": "dc9ffa12",
   "metadata": {},
   "outputs": [
    {
     "data": {
      "text/plain": [
       "tensor([[[ 1,  2],\n",
       "         [ 3,  4],\n",
       "         [ 5,  6]],\n",
       "\n",
       "        [[ 7,  8],\n",
       "         [ 9, 10],\n",
       "         [11, 12]],\n",
       "\n",
       "        [[13, 14],\n",
       "         [15, 16],\n",
       "         [17, 18]],\n",
       "\n",
       "        [[19, 20],\n",
       "         [21, 22],\n",
       "         [23, 24]]])"
      ]
     },
     "execution_count": 230,
     "metadata": {},
     "output_type": "execute_result"
    }
   ],
   "source": [
    "x[:,:,:]"
   ]
  },
  {
   "cell_type": "code",
   "execution_count": 237,
   "id": "859ad8f0",
   "metadata": {},
   "outputs": [
    {
     "data": {
      "text/plain": [
       "tensor([[ 1,  2],\n",
       "        [ 7,  8],\n",
       "        [13, 14],\n",
       "        [19, 20]])"
      ]
     },
     "execution_count": 237,
     "metadata": {},
     "output_type": "execute_result"
    }
   ],
   "source": [
    "# : all, 0 gives all element on 0th index at 2nd diamension\n",
    "x[:,0]"
   ]
  },
  {
   "cell_type": "code",
   "execution_count": 236,
   "id": "569994b7",
   "metadata": {},
   "outputs": [
    {
     "data": {
      "text/plain": [
       "tensor([ 2,  8, 14, 20])"
      ]
     },
     "execution_count": 236,
     "metadata": {},
     "output_type": "execute_result"
    }
   ],
   "source": [
    "# : all, 0 gives all element on 0th index at 2nd diamension,\n",
    "#  1th index of 3rd diamension\n",
    "x[:,0,1]"
   ]
  },
  {
   "cell_type": "markdown",
   "id": "b3593926",
   "metadata": {},
   "source": [
    "### Pytorch and NumPy"
   ]
  },
  {
   "cell_type": "code",
   "execution_count": 242,
   "id": "d8eb7d0e",
   "metadata": {},
   "outputs": [
    {
     "name": "stdout",
     "output_type": "stream",
     "text": [
      "[1. 2. 3. 4. 5. 6. 7.]\n",
      "tensor([1., 2., 3., 4., 5., 6., 7.], dtype=torch.float64)\n"
     ]
    }
   ],
   "source": [
    "# numpy arr to tensor\n",
    "array = np.arange(1.0,8.0)\n",
    "print(array)\n",
    "tensor = torch.from_numpy(array)\n",
    "print(tensor)"
   ]
  },
  {
   "cell_type": "code",
   "execution_count": 244,
   "id": "722d7250",
   "metadata": {},
   "outputs": [
    {
     "name": "stdout",
     "output_type": "stream",
     "text": [
      "tensor([1., 2., 3., 4., 5., 6., 7.])\n",
      "[1. 2. 3. 4. 5. 6. 7.]\n"
     ]
    }
   ],
   "source": [
    "# tensor to numpy array\n",
    "tensor = torch.arange(1.0,8.0)\n",
    "print(tensor)\n",
    "array = tensor.numpy()\n",
    "print(array)\n",
    "\n"
   ]
  },
  {
   "cell_type": "code",
   "execution_count": 245,
   "id": "befb3785",
   "metadata": {},
   "outputs": [],
   "source": [
    "# dont share memory. change in one will not change other"
   ]
  },
  {
   "cell_type": "markdown",
   "id": "322ba31e",
   "metadata": {},
   "source": [
    "### PyTorch reproduceibility"
   ]
  },
  {
   "cell_type": "code",
   "execution_count": 249,
   "id": "36f568c3",
   "metadata": {},
   "outputs": [
    {
     "name": "stdout",
     "output_type": "stream",
     "text": [
      "tensor([[0.9588, 0.5914, 0.6358, 0.8648],\n",
      "        [0.2633, 0.3395, 0.6383, 0.6651],\n",
      "        [0.7034, 0.8220, 0.1616, 0.1118]])\n",
      "tensor([[0.1798, 0.0294, 0.7429, 0.8597],\n",
      "        [0.8829, 0.7948, 0.6954, 0.2928],\n",
      "        [0.9045, 0.1372, 0.3222, 0.9732]])\n",
      "tensor([[False, False, False, False],\n",
      "        [False, False, False, False],\n",
      "        [False, False, False, False]])\n"
     ]
    }
   ],
   "source": [
    "# random seed\n",
    "A = torch.rand(3,4)\n",
    "B = torch.rand(3,4)\n",
    "print(A)\n",
    "print(B)\n",
    "print(A==B)"
   ]
  },
  {
   "cell_type": "code",
   "execution_count": 255,
   "id": "e77d650d",
   "metadata": {},
   "outputs": [
    {
     "name": "stdout",
     "output_type": "stream",
     "text": [
      "tensor([[0.8398, 0.8042, 0.1213, 0.5309],\n",
      "        [0.6646, 0.4077, 0.0888, 0.2429],\n",
      "        [0.7053, 0.6216, 0.9188, 0.0185]])\n",
      "tensor([[0.8398, 0.8042, 0.1213, 0.5309],\n",
      "        [0.6646, 0.4077, 0.0888, 0.2429],\n",
      "        [0.7053, 0.6216, 0.9188, 0.0185]])\n",
      "tensor([[True, True, True, True],\n",
      "        [True, True, True, True],\n",
      "        [True, True, True, True]])\n"
     ]
    }
   ],
   "source": [
    "random_seed = 69\n",
    "\n",
    "torch.manual_seed(random_seed)\n",
    "C = torch.rand(3,4)\n",
    "\n",
    "torch.manual_seed(random_seed)\n",
    "D = torch.rand(3,4)\n",
    "\n",
    "print(C)\n",
    "print(D)\n",
    "print(C==D)"
   ]
  },
  {
   "cell_type": "markdown",
   "id": "1a138d80",
   "metadata": {},
   "source": [
    "### Running tensors and PyTorch on GPUs"
   ]
  },
  {
   "cell_type": "code",
   "execution_count": 256,
   "id": "c3315c15",
   "metadata": {},
   "outputs": [
    {
     "data": {
      "text/plain": [
       "False"
      ]
     },
     "execution_count": 256,
     "metadata": {},
     "output_type": "execute_result"
    }
   ],
   "source": [
    "torch.cuda.is_available()"
   ]
  },
  {
   "cell_type": "code",
   "execution_count": 258,
   "id": "81271fa5",
   "metadata": {},
   "outputs": [
    {
     "data": {
      "text/plain": [
       "'cpu'"
      ]
     },
     "execution_count": 258,
     "metadata": {},
     "output_type": "execute_result"
    }
   ],
   "source": [
    "avail_device = \"cuda\" if torch.cuda.is_available() else \"cpu\"\n",
    "avail_device"
   ]
  },
  {
   "cell_type": "code",
   "execution_count": 259,
   "id": "0d682617",
   "metadata": {},
   "outputs": [
    {
     "name": "stdout",
     "output_type": "stream",
     "text": [
      "tensor([1, 2, 3]) cpu\n"
     ]
    }
   ],
   "source": [
    "# putting tensors or models on GPU\n",
    "\n",
    "tensor = torch.tensor([1,2,3], device =avail_device)\n",
    "print(tensor,tensor.device)"
   ]
  },
  {
   "cell_type": "code",
   "execution_count": 262,
   "id": "ca43e0fd",
   "metadata": {},
   "outputs": [],
   "source": [
    "tensorOnGPU = torch.tensor([1,2,3], device =\"cuda\")\n",
    "print(tensorOnGPU,tensorOnGPU.device)"
   ]
  },
  {
   "cell_type": "code",
   "execution_count": null,
   "id": "b30b0ef4",
   "metadata": {},
   "outputs": [],
   "source": [
    "# If tensor is on GPU, can't transform it to NumPy (this will error)\n",
    "tensorOnGPU.numpy()\n",
    "#it will give error coz tensorOnGPU is on gpu but numpy only work on cpu\n",
    "# to solve this\n",
    "tensor_back_on_cpu = tensorOnGPU.cpu()\n",
    "numpy_array = tensor_back_on_cpu.numpy()"
   ]
  }
 ],
 "metadata": {
  "kernelspec": {
   "display_name": "Python 3 (ipykernel)",
   "language": "python",
   "name": "python3"
  },
  "language_info": {
   "codemirror_mode": {
    "name": "ipython",
    "version": 3
   },
   "file_extension": ".py",
   "mimetype": "text/x-python",
   "name": "python",
   "nbconvert_exporter": "python",
   "pygments_lexer": "ipython3",
   "version": "3.9.13"
  },
  "varInspector": {
   "cols": {
    "lenName": 16,
    "lenType": 16,
    "lenVar": 40
   },
   "kernels_config": {
    "python": {
     "delete_cmd_postfix": "",
     "delete_cmd_prefix": "del ",
     "library": "var_list.py",
     "varRefreshCmd": "print(var_dic_list())"
    },
    "r": {
     "delete_cmd_postfix": ") ",
     "delete_cmd_prefix": "rm(",
     "library": "var_list.r",
     "varRefreshCmd": "cat(var_dic_list()) "
    }
   },
   "types_to_exclude": [
    "module",
    "function",
    "builtin_function_or_method",
    "instance",
    "_Feature"
   ],
   "window_display": false
  }
 },
 "nbformat": 4,
 "nbformat_minor": 5
}
