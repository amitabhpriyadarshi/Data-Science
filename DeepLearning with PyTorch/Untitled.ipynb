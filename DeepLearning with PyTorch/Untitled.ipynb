{
 "cells": [
  {
   "cell_type": "code",
   "execution_count": 3,
   "id": "19cd63f8",
   "metadata": {},
   "outputs": [],
   "source": [
    "import torch "
   ]
  },
  {
   "cell_type": "markdown",
   "id": "53fd192c",
   "metadata": {},
   "source": [
    "#### Sequence to sequence: seq of data in seq of data out.\n",
    "Speech recognition\n",
    "<br>Translation\n",
    "\n",
    "#### Classification / regression\n",
    "Computer vision\n",
    "<br>NLP\n"
   ]
  },
  {
   "cell_type": "markdown",
   "id": "3572ac30",
   "metadata": {},
   "source": [
    "Tensor: Representation of data into numbers."
   ]
  },
  {
   "cell_type": "markdown",
   "id": "23a456c0",
   "metadata": {},
   "source": [
    "PyTorch Work flow\n",
    "1. Get data Ready (Turn into tensors)<br>\n",
    "2. Build or pick a pretrained model <br>\n",
    "    2.1 pick a loss function<br>\n",
    "    2.2 build a training loop<br>\n",
    "3. Fit the model to the data and make a prediction\n",
    "4. Evaluate the model\n",
    "5. Improve through experimentation\n",
    "6. Save and reload your trained model\n"
   ]
  },
  {
   "cell_type": "code",
   "execution_count": null,
   "id": "2699646b",
   "metadata": {},
   "outputs": [],
   "source": []
  }
 ],
 "metadata": {
  "kernelspec": {
   "display_name": "Python 3 (ipykernel)",
   "language": "python",
   "name": "python3"
  },
  "language_info": {
   "codemirror_mode": {
    "name": "ipython",
    "version": 3
   },
   "file_extension": ".py",
   "mimetype": "text/x-python",
   "name": "python",
   "nbconvert_exporter": "python",
   "pygments_lexer": "ipython3",
   "version": "3.9.13"
  },
  "varInspector": {
   "cols": {
    "lenName": 16,
    "lenType": 16,
    "lenVar": 40
   },
   "kernels_config": {
    "python": {
     "delete_cmd_postfix": "",
     "delete_cmd_prefix": "del ",
     "library": "var_list.py",
     "varRefreshCmd": "print(var_dic_list())"
    },
    "r": {
     "delete_cmd_postfix": ") ",
     "delete_cmd_prefix": "rm(",
     "library": "var_list.r",
     "varRefreshCmd": "cat(var_dic_list()) "
    }
   },
   "types_to_exclude": [
    "module",
    "function",
    "builtin_function_or_method",
    "instance",
    "_Feature"
   ],
   "window_display": false
  }
 },
 "nbformat": 4,
 "nbformat_minor": 5
}
